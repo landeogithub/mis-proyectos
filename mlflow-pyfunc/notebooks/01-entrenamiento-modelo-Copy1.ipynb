{
 "cells": [
  {
   "cell_type": "markdown",
   "id": "34097edb-4cef-4361-bb39-ccb93cd0df01",
   "metadata": {},
   "source": [
    "### Importar Libreria"
   ]
  },
  {
   "cell_type": "code",
   "execution_count": 1,
   "id": "fc86a6bd-a893-4b98-baeb-4f9cbeb2528f",
   "metadata": {},
   "outputs": [],
   "source": [
    "import pandas as pd\n",
    "import mlflow\n",
    "import mlflow.pyfunc\n",
    "from mlflow.models.signature import ModelSignature\n",
    "from mlflow.types import Schema, ColSpec"
   ]
  },
  {
   "cell_type": "markdown",
   "id": "0ec2dfd9-ac0f-4fc8-bf29-2c50cc0413f1",
   "metadata": {},
   "source": [
    "### Entrenar Modelo"
   ]
  },
  {
   "cell_type": "code",
   "execution_count": 4,
   "id": "9c2b3aa3-dc4c-46ec-af7a-8b9b6bbf8c4f",
   "metadata": {},
   "outputs": [
    {
     "name": "stderr",
     "output_type": "stream",
     "text": [
      "C:\\Program Files\\Python312\\Lib\\site-packages\\mlflow\\pyfunc\\utils\\data_validation.py:186: UserWarning: \u001b[33mAdd type hints to the `predict` method to enable data validation and automatic signature inference during model logging. Check https://mlflow.org/docs/latest/model/python_model.html#type-hint-usage-in-pythonmodel for more details.\u001b[0m\n",
      "  color_warning(\n"
     ]
    }
   ],
   "source": [
    "class MyModel(mlflow.pyfunc.PythonModel):\n",
    "    def predict(self, context, model_input, params=None):\n",
    "        return (model_input[\"c1\"] + model_input[\"c2\"] + model_input[\"c3\"] + model_input[\"c4\"]) / 4"
   ]
  },
  {
   "cell_type": "markdown",
   "id": "8cdfab51-5210-4bb2-b2bd-392dac199248",
   "metadata": {},
   "source": [
    "### Guardar Modelo en el MlFlow"
   ]
  },
  {
   "cell_type": "code",
   "execution_count": 5,
   "id": "63aa05ee-5400-4561-83ba-42eeb5b33c3e",
   "metadata": {},
   "outputs": [
    {
     "name": "stderr",
     "output_type": "stream",
     "text": [
      "2025/08/21 17:03:06 INFO mlflow.pyfunc: Validating input example against model signature\n"
     ]
    },
    {
     "name": "stdout",
     "output_type": "stream",
     "text": [
      "🏃 View run Model-Promedio at: http://127.0.0.1:8080/#/experiments/1/runs/afff5211120c43339a10617f9327fa4c\n",
      "🧪 View experiment at: http://127.0.0.1:8080/#/experiments/1\n"
     ]
    }
   ],
   "source": [
    "mlflow.set_tracking_uri(\"http://127.0.0.1:8080\")\n",
    "mlflow.set_experiment(\"Modelo PyFunc\")\n",
    "\n",
    "try:\n",
    "    # Signature explícito: 4 columnas double -> 1 salida double\n",
    "    signature = ModelSignature(\n",
    "        inputs=Schema([\n",
    "            ColSpec(\"double\", \"c1\"),\n",
    "            ColSpec(\"double\", \"c2\"),\n",
    "            ColSpec(\"double\", \"c3\"),\n",
    "            ColSpec(\"double\", \"c4\"),\n",
    "        ]),\n",
    "        outputs=Schema([ColSpec(\"double\", \"pred\")])\n",
    "    )\n",
    "\n",
    "    input_example = { \"c1\": 1.0, \"c2\": 2.0, \"c3\": 4.0, \"c4\": 5.0 }\n",
    " \n",
    "    with mlflow.start_run(run_name=\"Model-Promedio\"):\n",
    "        mlflow.pyfunc.log_model(\n",
    "            artifact_path = \"model-pyfunc\",\n",
    "            python_model = MyModel(),\n",
    "            signature = signature,\n",
    "            input_example = input_example\n",
    "        )\n",
    "except Exception as ex:\n",
    "    print(f\"Se produjo error: {ex} \")"
   ]
  },
  {
   "cell_type": "code",
   "execution_count": null,
   "id": "591a9c86-d32c-43ba-a81f-a6114ca78336",
   "metadata": {},
   "outputs": [],
   "source": []
  }
 ],
 "metadata": {
  "kernelspec": {
   "display_name": "Python 3 (ipykernel)",
   "language": "python",
   "name": "python3"
  },
  "language_info": {
   "codemirror_mode": {
    "name": "ipython",
    "version": 3
   },
   "file_extension": ".py",
   "mimetype": "text/x-python",
   "name": "python",
   "nbconvert_exporter": "python",
   "pygments_lexer": "ipython3",
   "version": "3.12.8"
  }
 },
 "nbformat": 4,
 "nbformat_minor": 5
}
