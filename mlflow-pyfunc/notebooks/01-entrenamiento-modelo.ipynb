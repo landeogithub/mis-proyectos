{
 "cells": [
  {
   "cell_type": "markdown",
   "id": "34097edb-4cef-4361-bb39-ccb93cd0df01",
   "metadata": {},
   "source": [
    "### Importar Libreria"
   ]
  },
  {
   "cell_type": "code",
   "execution_count": 1,
   "id": "fc86a6bd-a893-4b98-baeb-4f9cbeb2528f",
   "metadata": {},
   "outputs": [],
   "source": [
    "import pandas as pd\n",
    "import mlflow\n",
    "import mlflow.pyfunc\n",
    "from mlflow.models.signature import ModelSignature\n",
    "from mlflow.types import Schema, ColSpec"
   ]
  },
  {
   "cell_type": "markdown",
   "id": "0ec2dfd9-ac0f-4fc8-bf29-2c50cc0413f1",
   "metadata": {},
   "source": [
    "### Entrenar Modelo"
   ]
  },
  {
   "cell_type": "code",
   "execution_count": 2,
   "id": "a5852aa1-b6c7-4d1d-b2eb-9eef46b71706",
   "metadata": {},
   "outputs": [
    {
     "name": "stderr",
     "output_type": "stream",
     "text": [
      "C:\\Program Files\\Python312\\Lib\\site-packages\\mlflow\\pyfunc\\utils\\data_validation.py:186: UserWarning: \u001b[33mAdd type hints to the `predict` method to enable data validation and automatic signature inference during model logging. Check https://mlflow.org/docs/latest/model/python_model.html#type-hint-usage-in-pythonmodel for more details.\u001b[0m\n",
      "  color_warning(\n"
     ]
    }
   ],
   "source": [
    "#class MyModel(mlflow.pyfunc.PythonModel):\n",
    "#    def predict(self, context, model_input, params=None):\n",
    "#        return model_input.mean(axis=1)"
   ]
  },
  {
   "cell_type": "code",
   "execution_count": null,
   "id": "76e05100-88c6-4a20-88ff-5e80c6260733",
   "metadata": {},
   "outputs": [],
   "source": [
    "class MyModel(mlflow.pyfunc.PythonModel):\n",
    "    def predict(self, _, x, params=None):\n",
    "        a, b, c, d = map(float, x)\n",
    "        return (a + b + c + d) / 4"
   ]
  },
  {
   "cell_type": "markdown",
   "id": "8cdfab51-5210-4bb2-b2bd-392dac199248",
   "metadata": {},
   "source": [
    "### Guardar Modelo en el MlFlow"
   ]
  },
  {
   "cell_type": "code",
   "execution_count": 3,
   "id": "63aa05ee-5400-4561-83ba-42eeb5b33c3e",
   "metadata": {},
   "outputs": [
    {
     "name": "stderr",
     "output_type": "stream",
     "text": [
      "2025/08/21 15:01:30 INFO mlflow.pyfunc: Validating input example against model signature\n"
     ]
    },
    {
     "name": "stdout",
     "output_type": "stream",
     "text": [
      "🏃 View run Model-Promedio at: http://127.0.0.1:8080/#/experiments/1/runs/d71a021009944fe4b10335ef84a21d9b\n",
      "🧪 View experiment at: http://127.0.0.1:8080/#/experiments/1\n"
     ]
    }
   ],
   "source": [
    "mlflow.set_tracking_uri(\"http://127.0.0.1:8080\")\n",
    "mlflow.set_experiment(\"Modelo PyFunc\")\n",
    "\n",
    "# Signature explícito: 4 columnas double -> 1 salida double\n",
    "signature = ModelSignature(\n",
    "    inputs=Schema([\n",
    "        ColSpec(\"double\", \"c1\"),\n",
    "        ColSpec(\"double\", \"c2\"),\n",
    "        ColSpec(\"double\", \"c3\"),\n",
    "        ColSpec(\"double\", \"c4\"),\n",
    "    ]),\n",
    "    outputs=Schema([ColSpec(\"double\", \"pred\")])\n",
    ")\n",
    "\n",
    "input_example = pd.DataFrame(\n",
    "    [[10.0, 8.0, 6.0, 6.0],\n",
    "     [1.0,  2.0,  3.0, 4.0]],\n",
    "    columns=[\"c1\", \"c2\", \"c3\", \"c4\"]\n",
    ")\n",
    "\n",
    "with mlflow.start_run(run_name=\"Model-Promedio\"):\n",
    "    mlflow.pyfunc.log_model(\n",
    "        artifact_path=\"model-pyfunc\",\n",
    "        python_model = MyModel(),\n",
    "        signature = signature,\n",
    "        input_example = input_example\n",
    "    )"
   ]
  },
  {
   "cell_type": "code",
   "execution_count": null,
   "id": "591a9c86-d32c-43ba-a81f-a6114ca78336",
   "metadata": {},
   "outputs": [],
   "source": []
  }
 ],
 "metadata": {
  "kernelspec": {
   "display_name": "Python 3 (ipykernel)",
   "language": "python",
   "name": "python3"
  },
  "language_info": {
   "codemirror_mode": {
    "name": "ipython",
    "version": 3
   },
   "file_extension": ".py",
   "mimetype": "text/x-python",
   "name": "python",
   "nbconvert_exporter": "python",
   "pygments_lexer": "ipython3",
   "version": "3.12.8"
  }
 },
 "nbformat": 4,
 "nbformat_minor": 5
}
