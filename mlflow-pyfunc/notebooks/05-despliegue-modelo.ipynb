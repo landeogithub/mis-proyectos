{
 "cells": [
  {
   "cell_type": "markdown",
   "id": "ea1075ac-5858-4dce-ba92-af4a80cc0f1a",
   "metadata": {},
   "source": [
    "<div style=\"background-color:AliceBlue; padding:10px; border-left:5px solid #6495ed; margin-bottom:10px;\">\n",
    "  <h4 style=\"font-size:13px;\">📦 <strong>Importar Librerias</strong></h4>\n",
    "</div>"
   ]
  },
  {
   "cell_type": "code",
   "execution_count": 1,
   "id": "46f46562-7bf6-44ae-9b72-b6e5cd98246c",
   "metadata": {},
   "outputs": [],
   "source": [
    "import sys\n",
    "import ray\n",
    "from ray import serve\n",
    "import mlflow\n",
    "import pandas as pd\n",
    "from fastapi import FastAPI\n",
    "from fastapi import Request\n",
    "from pydantic import BaseModel, ConfigDict\n",
    "from fastapi.exceptions import RequestValidationError\n",
    "from fastapi.responses import JSONResponse\n",
    "from starlette.requests import Request\n",
    "from json import JSONDecodeError\n",
    "from sklearn.datasets import load_iris\n",
    "#import requests"
   ]
  },
  {
   "cell_type": "markdown",
   "id": "d40b92d1-7b5e-4967-bfab-e63a93b2ef39",
   "metadata": {},
   "source": [
    "<div style=\"background-color:AliceBlue; padding:10px; border-left:5px solid #2e8b57; margin-bottom:10px;\">\n",
    "  <h4 style=\"font-size:13px;\">🤖 <strong>Configuracion del Modelo</strong></h4>\n",
    "</div>"
   ]
  },
  {
   "cell_type": "code",
   "execution_count": 2,
   "id": "f7c285e1-8cbd-4c19-986d-ed70ef1affd4",
   "metadata": {},
   "outputs": [],
   "source": [
    "try:\n",
    "    class Item(BaseModel):\n",
    "        model_config = ConfigDict(extra=\"forbid\")\n",
    "        capitulo_mxf_t0052: str\n",
    "        cnt_pes_brut_t0051: float\n",
    "        cnt_totserie_t0051: float\n",
    "        cod_puertemb_t0051: str\n",
    "        cod_viatrans_t0051: str\n",
    "        c390:               float\n",
    "        c412:               float\n",
    "        c463:               float\n",
    "        ddp_ciiu:           str\n",
    "        dia_ant_dam_altruc: float\n",
    "        margen_neto:        float\n",
    "        mto_fob_mfs:        float\n",
    "        mto_tovaladu_t0051: float\n",
    "        mto_itf_tot_partic: float\n",
    "        mto_itf_esf_partic: float\n",
    "        part_prov_high:     float\n",
    "        part_prov_medium:   float\n",
    "        part_prov_outlier:  float\n",
    "        rat_fob_pneto_mfs:  float\n",
    "        ruc_agente_dam:     str\n",
    "        seccion:            str\n",
    "\n",
    "    app = FastAPI(\n",
    "        title=\"Import Predictor API\",\n",
    "        description=\"Import Pipeline online inference\",\n",
    "    )\n",
    "\n",
    "    @app.exception_handler(RequestValidationError)\n",
    "    async def validation_exception_handler(request: Request, exc: RequestValidationError):\n",
    "        mensajes = [err[\"msg\"] for err in exc.errors()]\n",
    "        return JSONResponse(\n",
    "            status_code=422,\n",
    "            content={\n",
    "                \"cod\": 422,\n",
    "                \"msg\": \"; \".join(mensajes),\n",
    "                \"data\": None,\n",
    "                \"errors\": exc.errors(),\n",
    "            },\n",
    "        )\n",
    "\n",
    "    @serve.deployment(ray_actor_options={\"num_cpus\": 0.1})\n",
    "    @serve.ingress(app)\n",
    "    class ModelMlFlow:\n",
    "        def __init__(self, model_uri: str):\n",
    "            mlflow.set_tracking_uri(\"http://172.26.56.43:5000\")\n",
    "            try:\n",
    "                self.model = mlflow.sklearn.load_model(model_uri)\n",
    "            except Exception as ex:\n",
    "                print(f\"MlFlow: Se produjo el siguiente error : {ex} \")\n",
    "\n",
    "        @app.post(\"/\")\n",
    "        async def score(self, item: dict):  # <- evitar pickling de 'Item'\n",
    "            try:\n",
    "                payload = item\n",
    "                df = pd.DataFrame([payload])\n",
    "                score = float(self.model.predict_proba(df)[0][1])\n",
    "                return {\n",
    "                    \"cod\": 200,\n",
    "                    \"msg\": \"Score calculated successfully.\",\n",
    "                    \"data\": {\"em_eventprobability\": score},\n",
    "                    \"errors\": None,\n",
    "                }\n",
    "            except Exception as e:\n",
    "                return {\n",
    "                    \"cod\": 500,\n",
    "                    \"msg\": \"Error calculating score\",\n",
    "                    \"data\": None,\n",
    "                    \"errors\": str(e),\n",
    "                }\n",
    "\n",
    "except Exception as ex:\n",
    "    print(f\"Desployment y Ingress: Se produjo el siguiente error : {ex} \")"
   ]
  },
  {
   "cell_type": "markdown",
   "id": "41a3a91f-f16e-456c-baad-f4ce0a224ad9",
   "metadata": {
    "tags": []
   },
   "source": [
    "<div style=\"background-color:AliceBlue; padding:10px; border-left:5px solid #2e8b57; margin-bottom:10px;\">\n",
    "  <h4 style=\"font-size:13px;\">🤖 <strong>Conecta a un cluster de Ray ya iniciado</strong></h4>\n",
    "</div>"
   ]
  },
  {
   "cell_type": "code",
   "execution_count": 3,
   "id": "7b0fe7a2-50f6-4ca4-96fa-566140a1a623",
   "metadata": {
    "tags": []
   },
   "outputs": [
    {
     "name": "stderr",
     "output_type": "stream",
     "text": [
      "2025-08-19 15:22:41,456\tINFO client_builder.py:244 -- Passing the following kwargs to ray.init() on the server: log_to_driver\n",
      "2025-08-19 15:22:43,746\tWARNING utils.py:1591 -- Python patch version mismatch: The cluster was started with:\n",
      "    Ray: 2.41.0\n",
      "    Python: 3.11.11\n",
      "This process on Ray Client was started with:\n",
      "    Ray: 2.41.0\n",
      "    Python: 3.11.6\n",
      "\n",
      "INFO 2025-08-19 15:22:47,474 serve 2459 -- Connecting to existing Serve app in namespace \"serve\". New http options will not be applied.\n"
     ]
    },
    {
     "name": "stdout",
     "output_type": "stream",
     "text": [
      "✅ Conectado a Ray existente.\n"
     ]
    }
   ],
   "source": [
    "try:\n",
    "    ray.init(address=\"ray://172.26.56.65:10001\")\n",
    "    serve.start(detached=True, http_options={\"host\": \"0.0.0.0\", \"port\": 8000})\n",
    "    print(\"✅ Conectado a Ray existente.\")\n",
    "except Exception as e:\n",
    "    sys.exit(f\"❌ No se pudo conectar a ray://172.26.56.65:10001 → {e}\")"
   ]
  },
  {
   "cell_type": "markdown",
   "id": "e8229594-8572-452e-b01b-cf5f66f684ef",
   "metadata": {},
   "source": [
    "<div style=\"background-color:AliceBlue; padding:10px; border-left:5px solid #2e8b57; margin-bottom:10px;\">\n",
    "  <h4 style=\"font-size:13px;\">🤖 <strong>Desplegar el Modelo</strong></h4>\n",
    "</div>"
   ]
  },
  {
   "cell_type": "code",
   "execution_count": 4,
   "id": "53b74bc8-2973-4898-9f58-ef6fbf552c5f",
   "metadata": {},
   "outputs": [
    {
     "name": "stderr",
     "output_type": "stream",
     "text": [
      "INFO 2025-08-19 15:22:47,492 serve 2459 -- Connecting to existing Serve app in namespace \"serve\". New http options will not be applied.\n",
      "WARNING 2025-08-19 15:22:47,493 serve 2459 -- The new client HTTP config differs from the existing one in the following fields: ['host', 'location']. The new HTTP config is ignored.\n",
      "INFO 2025-08-19 15:22:53,709 serve 2459 -- Application 'sobrevalu-expo-nac' is ready at http://0.0.0.0:8000/v1/gestionriesgo/evaluacionriesgoaduanero/sobrevalu-expo-nac/score/e/damscore.\n",
      "INFO 2025-08-19 15:22:53,711 serve 2459 -- Deployed app 'sobrevalu-expo-nac' successfully.\n"
     ]
    },
    {
     "name": "stdout",
     "output_type": "stream",
     "text": [
      "✅ Listo en http://172.26.56.65:8000/v1/gestionriesgo/evaluacionriesgoaduanero/sobrevalu-expo-nac/score/e/damscore\n"
     ]
    }
   ],
   "source": [
    "MODEL_URI = \"models:/sobrevalu-expo-nac/1\"   # o \"models:/iris-models/Production\"\n",
    "NAME = \"sobrevalu-expo-nac\"\n",
    "ROUTE_PREFIX = \"/v1/gestionriesgo/evaluacionriesgoaduanero/sobrevalu-expo-nac/score/e/damscore\"\n",
    "\n",
    "graph = ModelMlFlow.bind(MODEL_URI)\n",
    "\n",
    "try:\n",
    "    serve.run(graph, name=NAME, route_prefix=ROUTE_PREFIX)\n",
    "    print(f\"✅ Listo en http://172.26.56.65:8000{ROUTE_PREFIX}\")\n",
    "except Exception as ex:\n",
    "    print(f\"Desployment y Ingress: Se produjo el siguiente error : {ex}\")\n",
    "    try:\n",
    "        serve.delete(NAME)\n",
    "        print(f\"🧹 App '{NAME}' eliminada por fallo de deploy.\")\n",
    "    except Exception as cleanup_ex:\n",
    "        print(f\"⚠️ No se pudo eliminar '{NAME}': {cleanup_ex}\")"
   ]
  },
  {
   "cell_type": "code",
   "execution_count": 5,
   "id": "3f846fcd-d197-46ec-a534-45cae7385512",
   "metadata": {},
   "outputs": [],
   "source": [
    "ray.shutdown()"
   ]
  },
  {
   "cell_type": "code",
   "execution_count": null,
   "id": "a94fcf08-8d7a-485b-b8e2-fbffdf4c1191",
   "metadata": {},
   "outputs": [],
   "source": []
  },
  {
   "cell_type": "code",
   "execution_count": null,
   "id": "3f8449a8-2287-48de-a979-ff3dd53ee9df",
   "metadata": {},
   "outputs": [],
   "source": []
  }
 ],
 "metadata": {
  "kernelspec": {
   "display_name": "Python 3 (ipykernel)",
   "language": "python",
   "name": "python3"
  },
  "language_info": {
   "codemirror_mode": {
    "name": "ipython",
    "version": 3
   },
   "file_extension": ".py",
   "mimetype": "text/x-python",
   "name": "python",
   "nbconvert_exporter": "python",
   "pygments_lexer": "ipython3",
   "version": "3.11.6"
  }
 },
 "nbformat": 4,
 "nbformat_minor": 5
}
