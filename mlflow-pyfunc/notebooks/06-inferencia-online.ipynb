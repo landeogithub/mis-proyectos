{
 "cells": [
  {
   "cell_type": "markdown",
   "id": "7dc6024a-e570-4376-8e8f-efebd07510bf",
   "metadata": {
    "papermill": {
     "duration": 0.001594,
     "end_time": "2022-08-22T19:02:01.162298",
     "exception": false,
     "start_time": "2022-08-22T19:02:01.160704",
     "status": "completed"
    },
    "tags": []
   },
   "source": [
    "## CLIENT INFERENCE ON-LINE"
   ]
  },
  {
   "cell_type": "markdown",
   "id": "2b98dd5f-1301-407c-b8b0-e83920faceda",
   "metadata": {
    "tags": []
   },
   "source": [
    "## Libray Import"
   ]
  },
  {
   "cell_type": "code",
   "execution_count": 1,
   "id": "5b9f6b97-1e19-4812-a726-35ad1c7291c9",
   "metadata": {},
   "outputs": [],
   "source": [
    "#!pip install imblearn"
   ]
  },
  {
   "cell_type": "markdown",
   "id": "15afb8bf-49a9-4fce-90cc-6b62f2dfc372",
   "metadata": {},
   "source": [
    "### LLAMAR AL MODELO"
   ]
  },
  {
   "cell_type": "code",
   "execution_count": 2,
   "id": "4031308c-47be-4296-8f12-c8bde9b69907",
   "metadata": {
    "tags": []
   },
   "outputs": [],
   "source": [
    "import ray\n",
    "from ray import serve\n",
    "\n",
    "import mlflow\n",
    "import pandas as pd\n",
    "\n",
    "from fastapi import FastAPI, Query\n",
    "from pydantic import BaseModel#, Field\n",
    "from fastapi.responses import HTMLResponse\n",
    "from fastapi.responses import RedirectResponse\n",
    "\n",
    "import optbinning\n",
    "import imblearn\n",
    "#import funpymodeling\n",
    "import psycopg2\n",
    "from sqlalchemy import create_engine\n",
    "\n",
    "# librerias creadas\n",
    "# from mlflow_ import mlflow_"
   ]
  },
  {
   "cell_type": "code",
   "execution_count": 3,
   "id": "7709d1db-ad03-416d-b308-18dbb0a4bf81",
   "metadata": {
    "papermill": {
     "duration": 0.326117,
     "end_time": "2022-08-22T19:02:01.499703",
     "exception": false,
     "start_time": "2022-08-22T19:02:01.173586",
     "status": "completed"
    },
    "tags": []
   },
   "outputs": [],
   "source": [
    "import pandas as pd\n",
    "import requests"
   ]
  },
  {
   "cell_type": "markdown",
   "id": "a4f6c666-fe42-4b0f-81fd-03d7179822a6",
   "metadata": {},
   "source": [
    "## Read DAMs to Predict"
   ]
  },
  {
   "cell_type": "code",
   "execution_count": 4,
   "id": "599d45d4-c134-470f-8968-3ea265943501",
   "metadata": {
    "tags": []
   },
   "outputs": [
    {
     "data": {
      "text/html": [
       "<div>\n",
       "<style scoped>\n",
       "    .dataframe tbody tr th:only-of-type {\n",
       "        vertical-align: middle;\n",
       "    }\n",
       "\n",
       "    .dataframe tbody tr th {\n",
       "        vertical-align: top;\n",
       "    }\n",
       "\n",
       "    .dataframe thead th {\n",
       "        text-align: right;\n",
       "    }\n",
       "</style>\n",
       "<table border=\"1\" class=\"dataframe\">\n",
       "  <thead>\n",
       "    <tr style=\"text-align: right;\">\n",
       "      <th></th>\n",
       "      <th>capitulo_mxf_t0052</th>\n",
       "      <th>cnt_pes_brut_t0051</th>\n",
       "      <th>cnt_totserie_t0051</th>\n",
       "      <th>cod_puertemb_t0051</th>\n",
       "      <th>cod_viatrans_t0051</th>\n",
       "      <th>c390</th>\n",
       "      <th>c412</th>\n",
       "      <th>c463</th>\n",
       "      <th>ddp_ciiu</th>\n",
       "      <th>dia_ant_dam_altruc</th>\n",
       "      <th>...</th>\n",
       "      <th>mto_fob_mfs</th>\n",
       "      <th>mto_tovaladu_t0051</th>\n",
       "      <th>mto_itf_tot_partic</th>\n",
       "      <th>mto_itf_esf_partic</th>\n",
       "      <th>part_prov_high</th>\n",
       "      <th>part_prov_medium</th>\n",
       "      <th>part_prov_outlier</th>\n",
       "      <th>rat_fob_pneto_mfs</th>\n",
       "      <th>ruc_agente_dam</th>\n",
       "      <th>seccion</th>\n",
       "    </tr>\n",
       "  </thead>\n",
       "  <tbody>\n",
       "    <tr>\n",
       "      <th>3</th>\n",
       "      <td>03</td>\n",
       "      <td>843.0</td>\n",
       "      <td>1.0</td>\n",
       "      <td>PECLL</td>\n",
       "      <td>4</td>\n",
       "      <td>2.912794e+08</td>\n",
       "      <td>1172026.0</td>\n",
       "      <td>0.0</td>\n",
       "      <td>05002</td>\n",
       "      <td>3246.0</td>\n",
       "      <td>...</td>\n",
       "      <td>6464.88</td>\n",
       "      <td>6464.88</td>\n",
       "      <td>10214.88</td>\n",
       "      <td>20399.10</td>\n",
       "      <td>0.038410</td>\n",
       "      <td>0.176961</td>\n",
       "      <td>0.675536</td>\n",
       "      <td>8.517628</td>\n",
       "      <td>20545334462</td>\n",
       "      <td>01</td>\n",
       "    </tr>\n",
       "    <tr>\n",
       "      <th>11</th>\n",
       "      <td>61</td>\n",
       "      <td>717.0</td>\n",
       "      <td>2.0</td>\n",
       "      <td>PELIM</td>\n",
       "      <td>4</td>\n",
       "      <td>1.472413e+08</td>\n",
       "      <td>10148170.0</td>\n",
       "      <td>101310475.0</td>\n",
       "      <td>18100</td>\n",
       "      <td>10716.0</td>\n",
       "      <td>...</td>\n",
       "      <td>29628.30</td>\n",
       "      <td>52075.20</td>\n",
       "      <td>4013.53</td>\n",
       "      <td>7097.04</td>\n",
       "      <td>0.036998</td>\n",
       "      <td>0.047597</td>\n",
       "      <td>0.836166</td>\n",
       "      <td>86.345899</td>\n",
       "      <td>20510298013</td>\n",
       "      <td>11</td>\n",
       "    </tr>\n",
       "    <tr>\n",
       "      <th>1</th>\n",
       "      <td>26</td>\n",
       "      <td>10500020.0</td>\n",
       "      <td>1.0</td>\n",
       "      <td>PEMRI</td>\n",
       "      <td>1</td>\n",
       "      <td>2.904253e+10</td>\n",
       "      <td>93335772.0</td>\n",
       "      <td>185811593.0</td>\n",
       "      <td>13200</td>\n",
       "      <td>10510.0</td>\n",
       "      <td>...</td>\n",
       "      <td>15097859.44</td>\n",
       "      <td>15097859.44</td>\n",
       "      <td>9438.40</td>\n",
       "      <td>9445.47</td>\n",
       "      <td>0.020342</td>\n",
       "      <td>0.020378</td>\n",
       "      <td>0.953201</td>\n",
       "      <td>1.437889</td>\n",
       "      <td>20127705969</td>\n",
       "      <td>05</td>\n",
       "    </tr>\n",
       "    <tr>\n",
       "      <th>19</th>\n",
       "      <td>83</td>\n",
       "      <td>340.0</td>\n",
       "      <td>1.0</td>\n",
       "      <td>PEILQ</td>\n",
       "      <td>3</td>\n",
       "      <td>2.172630e+06</td>\n",
       "      <td>69171.0</td>\n",
       "      <td>13201743.0</td>\n",
       "      <td>51313</td>\n",
       "      <td>831.0</td>\n",
       "      <td>...</td>\n",
       "      <td>49686.00</td>\n",
       "      <td>49686.00</td>\n",
       "      <td>23.80</td>\n",
       "      <td>49.95</td>\n",
       "      <td>0.112124</td>\n",
       "      <td>0.126839</td>\n",
       "      <td>0.724735</td>\n",
       "      <td>147.000000</td>\n",
       "      <td>20532620580</td>\n",
       "      <td>15</td>\n",
       "    </tr>\n",
       "  </tbody>\n",
       "</table>\n",
       "<p>4 rows × 21 columns</p>\n",
       "</div>"
      ],
      "text/plain": [
       "   capitulo_mxf_t0052  cnt_pes_brut_t0051  cnt_totserie_t0051  \\\n",
       "3                  03               843.0                 1.0   \n",
       "11                 61               717.0                 2.0   \n",
       "1                  26          10500020.0                 1.0   \n",
       "19                 83               340.0                 1.0   \n",
       "\n",
       "   cod_puertemb_t0051 cod_viatrans_t0051          c390        c412  \\\n",
       "3               PECLL                  4  2.912794e+08   1172026.0   \n",
       "11              PELIM                  4  1.472413e+08  10148170.0   \n",
       "1               PEMRI                  1  2.904253e+10  93335772.0   \n",
       "19              PEILQ                  3  2.172630e+06     69171.0   \n",
       "\n",
       "           c463 ddp_ciiu  dia_ant_dam_altruc  ...  mto_fob_mfs  \\\n",
       "3           0.0    05002              3246.0  ...      6464.88   \n",
       "11  101310475.0    18100             10716.0  ...     29628.30   \n",
       "1   185811593.0    13200             10510.0  ...  15097859.44   \n",
       "19   13201743.0    51313               831.0  ...     49686.00   \n",
       "\n",
       "    mto_tovaladu_t0051  mto_itf_tot_partic  mto_itf_esf_partic  \\\n",
       "3              6464.88            10214.88            20399.10   \n",
       "11            52075.20             4013.53             7097.04   \n",
       "1          15097859.44             9438.40             9445.47   \n",
       "19            49686.00               23.80               49.95   \n",
       "\n",
       "    part_prov_high  part_prov_medium  part_prov_outlier  rat_fob_pneto_mfs  \\\n",
       "3         0.038410          0.176961           0.675536           8.517628   \n",
       "11        0.036998          0.047597           0.836166          86.345899   \n",
       "1         0.020342          0.020378           0.953201           1.437889   \n",
       "19        0.112124          0.126839           0.724735         147.000000   \n",
       "\n",
       "    ruc_agente_dam seccion  \n",
       "3      20545334462      01  \n",
       "11     20510298013      11  \n",
       "1      20127705969      05  \n",
       "19     20532620580      15  \n",
       "\n",
       "[4 rows x 21 columns]"
      ]
     },
     "execution_count": 4,
     "metadata": {},
     "output_type": "execute_result"
    }
   ],
   "source": [
    "#DATASET_SELECTED = pd.read_csv('../data/raw/MLOps_Set_pruebas_Modelo_Nacional_Exportacion.csv')\n",
    "DATASET_SELECTED = pd.read_parquet('../data/processed/MLOps_Set_pruebas_Modelo_Nacional_Exportacion.parquet')\n",
    "DATASET_SELECTED = DATASET_SELECTED.loc[:, DATASET_SELECTED.columns != 'target']\n",
    "DATASET_SELECTED=DATASET_SELECTED.sample(4)\n",
    "DATASET_SELECTED.head(4)"
   ]
  },
  {
   "cell_type": "code",
   "execution_count": 5,
   "id": "0e7ef741-892d-4292-b5e8-53198722a20f",
   "metadata": {
    "tags": []
   },
   "outputs": [
    {
     "data": {
      "text/plain": [
       "[{'capitulo_mxf_t0052': '03',\n",
       "  'cnt_pes_brut_t0051': 843.0,\n",
       "  'cnt_totserie_t0051': 1.0,\n",
       "  'cod_puertemb_t0051': 'PECLL',\n",
       "  'cod_viatrans_t0051': '4',\n",
       "  'c390': 291279409.0,\n",
       "  'c412': 1172026.0,\n",
       "  'c463': 0.0,\n",
       "  'ddp_ciiu': '05002',\n",
       "  'dia_ant_dam_altruc': 3246.0,\n",
       "  'margen_neto': 0.0,\n",
       "  'mto_fob_mfs': 6464.88,\n",
       "  'mto_tovaladu_t0051': 6464.88,\n",
       "  'mto_itf_tot_partic': 10214.88,\n",
       "  'mto_itf_esf_partic': 20399.1,\n",
       "  'part_prov_high': 0.03841,\n",
       "  'part_prov_medium': 0.176961,\n",
       "  'part_prov_outlier': 0.675536,\n",
       "  'rat_fob_pneto_mfs': 8.517628,\n",
       "  'ruc_agente_dam': '20545334462',\n",
       "  'seccion': '01'},\n",
       " {'capitulo_mxf_t0052': '61',\n",
       "  'cnt_pes_brut_t0051': 717.0,\n",
       "  'cnt_totserie_t0051': 2.0,\n",
       "  'cod_puertemb_t0051': 'PELIM',\n",
       "  'cod_viatrans_t0051': '4',\n",
       "  'c390': 147241343.0,\n",
       "  'c412': 10148170.0,\n",
       "  'c463': 101310475.0,\n",
       "  'ddp_ciiu': '18100',\n",
       "  'dia_ant_dam_altruc': 10716.0,\n",
       "  'margen_neto': 0.00635,\n",
       "  'mto_fob_mfs': 29628.3,\n",
       "  'mto_tovaladu_t0051': 52075.2,\n",
       "  'mto_itf_tot_partic': 4013.53,\n",
       "  'mto_itf_esf_partic': 7097.04,\n",
       "  'part_prov_high': 0.036998,\n",
       "  'part_prov_medium': 0.047597,\n",
       "  'part_prov_outlier': 0.836166,\n",
       "  'rat_fob_pneto_mfs': 86.345899,\n",
       "  'ruc_agente_dam': '20510298013',\n",
       "  'seccion': '11'},\n",
       " {'capitulo_mxf_t0052': '26',\n",
       "  'cnt_pes_brut_t0051': 10500020.0,\n",
       "  'cnt_totserie_t0051': 1.0,\n",
       "  'cod_puertemb_t0051': 'PEMRI',\n",
       "  'cod_viatrans_t0051': '1',\n",
       "  'c390': 29042527858.0,\n",
       "  'c412': 93335772.0,\n",
       "  'c463': 185811593.0,\n",
       "  'ddp_ciiu': '13200',\n",
       "  'dia_ant_dam_altruc': 10510.0,\n",
       "  'margen_neto': 0.000206,\n",
       "  'mto_fob_mfs': 15097859.44,\n",
       "  'mto_tovaladu_t0051': 15097859.44,\n",
       "  'mto_itf_tot_partic': 9438.4,\n",
       "  'mto_itf_esf_partic': 9445.47,\n",
       "  'part_prov_high': 0.020342,\n",
       "  'part_prov_medium': 0.020378,\n",
       "  'part_prov_outlier': 0.953201,\n",
       "  'rat_fob_pneto_mfs': 1.437889,\n",
       "  'ruc_agente_dam': '20127705969',\n",
       "  'seccion': '05'},\n",
       " {'capitulo_mxf_t0052': '83',\n",
       "  'cnt_pes_brut_t0051': 340.0,\n",
       "  'cnt_totserie_t0051': 1.0,\n",
       "  'cod_puertemb_t0051': 'PEILQ',\n",
       "  'cod_viatrans_t0051': '3',\n",
       "  'c390': 2172630.0,\n",
       "  'c412': 69171.0,\n",
       "  'c463': 13201743.0,\n",
       "  'ddp_ciiu': '51313',\n",
       "  'dia_ant_dam_altruc': 831.0,\n",
       "  'margen_neto': 0.000376,\n",
       "  'mto_fob_mfs': 49686.0,\n",
       "  'mto_tovaladu_t0051': 49686.0,\n",
       "  'mto_itf_tot_partic': 23.8,\n",
       "  'mto_itf_esf_partic': 49.95,\n",
       "  'part_prov_high': 0.112124,\n",
       "  'part_prov_medium': 0.126839,\n",
       "  'part_prov_outlier': 0.724735,\n",
       "  'rat_fob_pneto_mfs': 147.0,\n",
       "  'ruc_agente_dam': '20532620580',\n",
       "  'seccion': '15'}]"
      ]
     },
     "execution_count": 5,
     "metadata": {},
     "output_type": "execute_result"
    }
   ],
   "source": [
    "request = DATASET_SELECTED.head(4).to_dict('records')\n",
    "request"
   ]
  },
  {
   "cell_type": "markdown",
   "id": "063bad59-3d73-4c21-aabc-79fbf839b8d6",
   "metadata": {
    "tags": []
   },
   "source": [
    "## Request"
   ]
  },
  {
   "cell_type": "code",
   "execution_count": 7,
   "id": "c149768f-5e04-4afb-a562-891fe1e20bec",
   "metadata": {
    "tags": []
   },
   "outputs": [
    {
     "name": "stdout",
     "output_type": "stream",
     "text": [
      "{'capitulo_mxf_t0052': '03', 'cnt_pes_brut_t0051': 843.0, 'cnt_totserie_t0051': 1.0, 'cod_puertemb_t0051': 'PECLL', 'cod_viatrans_t0051': '4', 'c390': 291279409.0, 'c412': 1172026.0, 'c463': 0.0, 'ddp_ciiu': '05002', 'dia_ant_dam_altruc': 3246.0, 'margen_neto': 0.0, 'mto_fob_mfs': 6464.88, 'mto_tovaladu_t0051': 6464.88, 'mto_itf_tot_partic': 10214.88, 'mto_itf_esf_partic': 20399.1, 'part_prov_high': 0.03841, 'part_prov_medium': 0.176961, 'part_prov_outlier': 0.675536, 'rat_fob_pneto_mfs': 8.517628, 'ruc_agente_dam': '20545334462', 'seccion': '01'} -->  {'cod': 200, 'msg': 'Score calculated successfully.', 'data': {'em_eventprobability': 0.6238251134910107}, 'errors': None}\n",
      "--------------------\n",
      "{'capitulo_mxf_t0052': '61', 'cnt_pes_brut_t0051': 717.0, 'cnt_totserie_t0051': 2.0, 'cod_puertemb_t0051': 'PELIM', 'cod_viatrans_t0051': '4', 'c390': 147241343.0, 'c412': 10148170.0, 'c463': 101310475.0, 'ddp_ciiu': '18100', 'dia_ant_dam_altruc': 10716.0, 'margen_neto': 0.00635, 'mto_fob_mfs': 29628.3, 'mto_tovaladu_t0051': 52075.2, 'mto_itf_tot_partic': 4013.53, 'mto_itf_esf_partic': 7097.04, 'part_prov_high': 0.036998, 'part_prov_medium': 0.047597, 'part_prov_outlier': 0.836166, 'rat_fob_pneto_mfs': 86.345899, 'ruc_agente_dam': '20510298013', 'seccion': '11'} -->  {'cod': 200, 'msg': 'Score calculated successfully.', 'data': {'em_eventprobability': 0.29817422662389376}, 'errors': None}\n",
      "--------------------\n",
      "{'capitulo_mxf_t0052': '26', 'cnt_pes_brut_t0051': 10500020.0, 'cnt_totserie_t0051': 1.0, 'cod_puertemb_t0051': 'PEMRI', 'cod_viatrans_t0051': '1', 'c390': 29042527858.0, 'c412': 93335772.0, 'c463': 185811593.0, 'ddp_ciiu': '13200', 'dia_ant_dam_altruc': 10510.0, 'margen_neto': 0.000206, 'mto_fob_mfs': 15097859.44, 'mto_tovaladu_t0051': 15097859.44, 'mto_itf_tot_partic': 9438.4, 'mto_itf_esf_partic': 9445.47, 'part_prov_high': 0.020342, 'part_prov_medium': 0.020378, 'part_prov_outlier': 0.953201, 'rat_fob_pneto_mfs': 1.437889, 'ruc_agente_dam': '20127705969', 'seccion': '05'} -->  {'cod': 200, 'msg': 'Score calculated successfully.', 'data': {'em_eventprobability': 0.6238251134910107}, 'errors': None}\n",
      "--------------------\n",
      "{'capitulo_mxf_t0052': '83', 'cnt_pes_brut_t0051': 340.0, 'cnt_totserie_t0051': 1.0, 'cod_puertemb_t0051': 'PEILQ', 'cod_viatrans_t0051': '3', 'c390': 2172630.0, 'c412': 69171.0, 'c463': 13201743.0, 'ddp_ciiu': '51313', 'dia_ant_dam_altruc': 831.0, 'margen_neto': 0.000376, 'mto_fob_mfs': 49686.0, 'mto_tovaladu_t0051': 49686.0, 'mto_itf_tot_partic': 23.8, 'mto_itf_esf_partic': 49.95, 'part_prov_high': 0.112124, 'part_prov_medium': 0.126839, 'part_prov_outlier': 0.724735, 'rat_fob_pneto_mfs': 147.0, 'ruc_agente_dam': '20532620580', 'seccion': '15'} -->  {'cod': 200, 'msg': 'Score calculated successfully.', 'data': {'em_eventprobability': 0.39767509757811903}, 'errors': None}\n",
      "--------------------\n"
     ]
    }
   ],
   "source": [
    "for i in range(len(DATASET_SELECTED)):\n",
    "    response= requests.post(\"http://172.26.56.65:8000/v1/gestionriesgo/evaluacionriesgoaduanero/sobrevalu-expo-nac/score/e/damscore\", json=request[i]) #LOCAL\n",
    "    result = response.json()\n",
    "    print(request[i], \"--> \", result)\n",
    "    print(\"-\"*20)"
   ]
  },
  {
   "cell_type": "code",
   "execution_count": null,
   "id": "f2456a98-e98d-4cf2-ad71-29b9eab445f7",
   "metadata": {},
   "outputs": [],
   "source": []
  }
 ],
 "metadata": {
  "kernelspec": {
   "display_name": "Python 3 (ipykernel)",
   "language": "python",
   "name": "python3"
  },
  "language_info": {
   "codemirror_mode": {
    "name": "ipython",
    "version": 3
   },
   "file_extension": ".py",
   "mimetype": "text/x-python",
   "name": "python",
   "nbconvert_exporter": "python",
   "pygments_lexer": "ipython3",
   "version": "3.12.8"
  },
  "papermill": {
   "default_parameters": {},
   "duration": 1.964669,
   "end_time": "2022-08-22T19:02:01.866394",
   "environment_variables": {},
   "exception": null,
   "input_path": "client.ipynb",
   "output_path": "client.ipynb",
   "parameters": {},
   "start_time": "2022-08-22T19:01:59.901725",
   "version": "2.4.0"
  }
 },
 "nbformat": 4,
 "nbformat_minor": 5
}
