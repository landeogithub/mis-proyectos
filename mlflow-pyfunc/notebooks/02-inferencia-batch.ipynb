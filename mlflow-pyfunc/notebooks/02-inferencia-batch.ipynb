{
 "cells": [
  {
   "cell_type": "markdown",
   "id": "9577f3cd-e632-482f-bd20-71cc3b2c2d98",
   "metadata": {},
   "source": [
    "### Importar Librerias"
   ]
  },
  {
   "cell_type": "code",
   "execution_count": 1,
   "id": "63c3c502-4c71-480e-900f-6533a3418f33",
   "metadata": {},
   "outputs": [],
   "source": [
    "import pandas as pd\n",
    "import mlflow"
   ]
  },
  {
   "cell_type": "markdown",
   "id": "0c53214a-2b80-4e2a-97a5-d6fc6e47a088",
   "metadata": {},
   "source": [
    "### Inferencia Batch"
   ]
  },
  {
   "cell_type": "code",
   "execution_count": 2,
   "id": "308f9d16-c00f-463f-8b29-706d874411b6",
   "metadata": {},
   "outputs": [
    {
     "name": "stdout",
     "output_type": "stream",
     "text": [
      "Se cargo el siguinete modelo : models:/model-pyfunc/1 \n",
      "Prediciones: \n",
      "0    3.175\n",
      "dtype: float64\n"
     ]
    }
   ],
   "source": [
    "mlflow.set_tracking_uri(\"http://127.0.0.1:8080\")\n",
    "model_uri = \"models:/model-pyfunc/1\"\n",
    "\n",
    "try:\n",
    "    loaded_model = mlflow.pyfunc.load_model(model_uri)\n",
    "    print(f\"Se cargo el siguinete modelo : {model_uri} \")\n",
    "except Exception as ex:\n",
    "    print(f\"Se produjo error: {ex} al cargar el siguiente modelo: {model_uri} \")\n",
    "\n",
    "try:\n",
    "    #X = pd.DataFrame(\n",
    "    #        [[10, 8, 6, 6],\n",
    "    #         [1,  2, 3, 4]],\n",
    "    #        columns = [\"c1\",\"c2\",\"c3\",\"c4\"],\n",
    "    #        dtype = \"float64\"          # <- clave\n",
    "    #    )\n",
    "    X = { \"c1\": 1.1, \"c2\": 2.2, \"c3\": 4.4, \"c4\": 5.0 }\n",
    "    print(\"Prediciones: \")\n",
    "    print(loaded_model.predict(X))  # [7.5, 2.5]\n",
    "except Exception as ex:\n",
    "    print(f\"Se produjo un error al probar el siguiente modelo: {model_uri} \")\n",
    "    print(\" \")\n",
    "    print(ex)\n"
   ]
  }
 ],
 "metadata": {
  "kernelspec": {
   "display_name": "Python 3 (ipykernel)",
   "language": "python",
   "name": "python3"
  },
  "language_info": {
   "codemirror_mode": {
    "name": "ipython",
    "version": 3
   },
   "file_extension": ".py",
   "mimetype": "text/x-python",
   "name": "python",
   "nbconvert_exporter": "python",
   "pygments_lexer": "ipython3",
   "version": "3.12.8"
  }
 },
 "nbformat": 4,
 "nbformat_minor": 5
}
