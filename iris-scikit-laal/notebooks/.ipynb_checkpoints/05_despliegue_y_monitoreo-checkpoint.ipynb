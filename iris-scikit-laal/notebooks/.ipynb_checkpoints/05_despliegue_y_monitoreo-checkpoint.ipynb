{
 "cells": [
  {
   "cell_type": "markdown",
   "id": "ea1075ac-5858-4dce-ba92-af4a80cc0f1a",
   "metadata": {},
   "source": [
    "#### Importar Librerias"
   ]
  },
  {
   "cell_type": "code",
   "execution_count": 1,
   "id": "46f46562-7bf6-44ae-9b72-b6e5cd98246c",
   "metadata": {},
   "outputs": [],
   "source": [
    "import ray\n",
    "from ray import serve\n",
    "import mlflow\n",
    "import pandas as pd\n",
    "from fastapi import FastAPI\n",
    "from fastapi import Request\n",
    "from pydantic import BaseModel\n",
    "from fastapi.exceptions import RequestValidationError\n",
    "from fastapi.responses import JSONResponse\n",
    "from starlette.requests import Request\n",
    "from json import JSONDecodeError"
   ]
  },
  {
   "cell_type": "markdown",
   "id": "2dbb8b17-bec6-492e-bd00-20b9a0ab95c0",
   "metadata": {},
   "source": [
    "#### Conecta a un clúster de Ray ya iniciado"
   ]
  },
  {
   "cell_type": "code",
   "execution_count": 11,
   "id": "7b0fe7a2-50f6-4ca4-96fa-566140a1a623",
   "metadata": {
    "tags": []
   },
   "outputs": [
    {
     "name": "stderr",
     "output_type": "stream",
     "text": [
      "2025-05-26 20:13:39,048\tERROR services.py:1195 -- Failed to start the dashboard: Ray Client is not connected. Please connect by calling `ray.init`.\n",
      "2025-05-26 20:13:39,049\tERROR services.py:1196 -- Ray Client is not connected. Please connect by calling `ray.init`.\n",
      "Traceback (most recent call last):\n",
      "  File \"/opt/conda/lib/python3.8/site-packages/ray/_private/services.py\", line 1140, in start_api_server\n",
      "    dashboard_url = ray.experimental.internal_kv._internal_kv_get(\n",
      "  File \"/opt/conda/lib/python3.8/site-packages/ray/_private/client_mode_hook.py\", line 104, in wrapper\n",
      "    return getattr(ray, func.__name__)(*args, **kwargs)\n",
      "  File \"/opt/conda/lib/python3.8/site-packages/ray/util/client/__init__.py\", line 276, in __getattr__\n",
      "    return self.get_context().__getattr__(name)\n",
      "  File \"/opt/conda/lib/python3.8/site-packages/ray/util/client/__init__.py\", line 177, in __getattr__\n",
      "    raise Exception(\n",
      "Exception: Ray Client is not connected. Please connect by calling `ray.init`.\n",
      "2025-05-26 20:13:39,054\tWARNING services.py:1732 -- WARNING: The object store is using /tmp instead of /dev/shm because /dev/shm has only 67104768 bytes available. This will harm performance! You may be able to free up space by deleting files in /dev/shm. If you are inside a Docker container, you can increase /dev/shm size by passing '--shm-size=1.82gb' to 'docker run' (or add it to the run_options list in a Ray cluster config). Make sure to set this to more than 30% of available RAM.\n"
     ]
    },
    {
     "name": "stdout",
     "output_type": "stream",
     "text": [
      "Ray: Se produjo el siguiente error :  \n"
     ]
    }
   ],
   "source": [
    "try:\n",
    "    #ray.init(address=\"ray://localhost:10001\")\n",
    "    \n",
    "    #ray_head = \"127.0.0.1\"\n",
    "    #ray.init(address=f'ray://{ray_head}:10001') #SERVER\n",
    "    \n",
    "    ray.init()\n",
    "    \n",
    "    serve.start(detached=True)\n",
    "    print(\"Conexion correcta al servicio Ray ...\")\n",
    "except Exception as ex:\n",
    "    print(f\"Ray: Se produjo el siguiente error : {ex} \")"
   ]
  },
  {
   "cell_type": "markdown",
   "id": "9edf5832-671e-4ca4-b260-311fae9b56f5",
   "metadata": {},
   "source": [
    "#### Configuracion del Modelo"
   ]
  },
  {
   "cell_type": "code",
   "execution_count": 3,
   "id": "dd1d9551-0b49-40c2-9f75-bf135cb1c320",
   "metadata": {
    "tags": []
   },
   "outputs": [
    {
     "ename": "SyntaxError",
     "evalue": "illegal target for annotation (115353257.py, line 16)",
     "output_type": "error",
     "traceback": [
      "\u001b[0;36m  File \u001b[0;32m\"/tmp/ipykernel_15897/115353257.py\"\u001b[0;36m, line \u001b[0;32m16\u001b[0m\n\u001b[0;31m    \"sepal length (cm)\" : float\u001b[0m\n\u001b[0m    ^\u001b[0m\n\u001b[0;31mSyntaxError\u001b[0m\u001b[0;31m:\u001b[0m illegal target for annotation\n"
     ]
    }
   ],
   "source": [
    "try:\n",
    "    app = FastAPI(\n",
    "        title = \"Import Predictor API\",\n",
    "        description = \"Import Pipeline online inference\"\n",
    "    )\n",
    "\n",
    "    @app.exception_handler(RequestValidationError)\n",
    "    async def validation_exception_handler(request: Request, exc: RequestValidationError):\n",
    "        mensajes = [err[\"msg\"] for err in exc.errors()]\n",
    "        return JSONResponse(\n",
    "            status_code = 422,\n",
    "            content = { \"cod\": 422, \"msg\": \"; \".join(mensajes), \"data\": None, \"errors\": exc.errors(), },\n",
    "        )\n",
    "    \n",
    "    class Item(BaseModel):\n",
    "        \"sepal length (cm)\" : float\n",
    "        \"sepal width (cm)\"  : float\n",
    "        \"petal length (cm)\" : float\n",
    "        \"petal width (cm)\"  : float\n",
    "    \n",
    "    @serve.deployment(\n",
    "        route_prefix=\"/v1/gestionriesgo/evaluacionriesgoaduanero/contrab-carga-iamc/score/e/dtscore\",\n",
    "        ray_actor_options={\"num_cpus\": 0.1, \"num_gpus\": 0},\n",
    "        name = \"contrab-carga-iamc\"\n",
    "    )\n",
    "    @serve.ingress(app)\n",
    "    class ModelMlFlow:\n",
    "        def __init__(self):\n",
    "            mlflow.set_tracking_uri(\"http://172.26.56.133:5000\")\n",
    "            model_uri = \"models:/Iris_LogReg_Model/Production\"\n",
    "            try:\n",
    "                self.model = mlflow.sklearn.load_model(model_uri)\n",
    "            except Exception as ex:\n",
    "                print(f\"MlFlow: Se produjo el siguiente error : {ex} \")\n",
    "\n",
    "        @app.post(\"/\")\n",
    "        async def score(self, item: Item):\n",
    "            try:\n",
    "                #payload = await request.json()\n",
    "                payload = item.dict()\n",
    "                df = pd.DataFrame([payload])\n",
    "                score = float(self.model.predict_proba(df)[0][1])\n",
    "                return {\"cod\": 200, \"msg\": \"Score calculated successfully.\", \"data\": {\"em_eventprobability\": score}, \"errors\": None }\n",
    "            except Exception as e:\n",
    "                #logger.error(f\"Error in import prediction: {e}\")\n",
    "                return {\"cod\": 500, \"msg\": \"Error calculating score\", \"data\": None, \"errors\": str(e)}\n",
    "except Exception as ex:\n",
    "    print(f\"Desployment y Ingress: Se produjo el siguiente error : {ex} \")"
   ]
  },
  {
   "cell_type": "markdown",
   "id": "29567ab9-09b4-427c-9b82-a8e540a6634e",
   "metadata": {},
   "source": [
    "#### Desplegar el Modelo"
   ]
  },
  {
   "cell_type": "code",
   "execution_count": null,
   "id": "778a9a27-b8b2-42e5-9eec-f61a93c46250",
   "metadata": {
    "tags": []
   },
   "outputs": [],
   "source": [
    "try:\n",
    "    ModelMlFlow.deploy()\n",
    "    print(\"Modelo Desplegado\")\n",
    "except Exception as ex:\n",
    "    serve.get_deployment(\"contrab-carga-iamc\").delete()\n",
    "    print(f\"Ray: Se produjo el siguiente error : {ex} \")"
   ]
  },
  {
   "cell_type": "markdown",
   "id": "597dd5a2-8662-4f6e-988d-ef3ff2de8195",
   "metadata": {
    "tags": []
   },
   "source": [
    "http://172.26.56.134:8000/v1/gestionriesgo/evaluacionriesgoaduanero/contrab-carga-iamc/score/e/dtscore/docs"
   ]
  },
  {
   "cell_type": "code",
   "execution_count": null,
   "id": "f166a548-8bb2-412a-832f-b0fd011f0b50",
   "metadata": {
    "tags": []
   },
   "outputs": [],
   "source": [
    "serve.list_deployments()"
   ]
  },
  {
   "cell_type": "code",
   "execution_count": null,
   "id": "26a5022d-f06a-449e-a39c-2af08cfeb479",
   "metadata": {
    "tags": []
   },
   "outputs": [],
   "source": [
    "#serve.get_deployment(\"contrab-carga-iamc\").delete()"
   ]
  }
 ],
 "metadata": {
  "kernelspec": {
   "display_name": "Python 3 (ipykernel)",
   "language": "python",
   "name": "python3"
  },
  "language_info": {
   "codemirror_mode": {
    "name": "ipython",
    "version": 3
   },
   "file_extension": ".py",
   "mimetype": "text/x-python",
   "name": "python",
   "nbconvert_exporter": "python",
   "pygments_lexer": "ipython3",
   "version": "3.8.13"
  }
 },
 "nbformat": 4,
 "nbformat_minor": 5
}
