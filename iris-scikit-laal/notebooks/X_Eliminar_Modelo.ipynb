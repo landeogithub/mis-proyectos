{
 "cells": [
  {
   "cell_type": "markdown",
   "id": "9cd6b588-224a-4a6b-acf4-bc83f9855490",
   "metadata": {},
   "source": [
    "### Libray Import"
   ]
  },
  {
   "cell_type": "code",
   "execution_count": 6,
   "id": "6f9a9ade-4bfd-4455-9408-313429069866",
   "metadata": {
    "tags": []
   },
   "outputs": [],
   "source": [
    "import ray\n",
    "from ray import serve\n",
    "serve.shutdown()"
   ]
  },
  {
   "cell_type": "markdown",
   "id": "3c54e7e4-84d1-4b98-aec5-d328342f402c",
   "metadata": {},
   "source": [
    "### Init ray server"
   ]
  },
  {
   "cell_type": "code",
   "execution_count": null,
   "id": "6f7f4df9-db2f-457d-8e13-f35f8953570e",
   "metadata": {
    "tags": []
   },
   "outputs": [],
   "source": [
    "try:\n",
    "    ray.init(address=\"ray://127.0.0.1:10001\")\n",
    "    print(\"✅ Conectado a Ray existente.\")\n",
    "except Exception as e:\n",
    "    sys.exit(f\"❌ No se pudo conectar a ray://127.0.0.1:10001 → {e}\")"
   ]
  },
  {
   "cell_type": "code",
   "execution_count": null,
   "id": "9cd7eb6d-b1cb-4b30-9990-75ef4ae36bff",
   "metadata": {},
   "outputs": [],
   "source": [
    "serve.delete(\"iris_app\")     "
   ]
  },
  {
   "cell_type": "markdown",
   "id": "c0a0aed5-9c93-405b-8879-4bc37c2593e5",
   "metadata": {},
   "source": [
    "### Reserve app memory in Ray"
   ]
  },
  {
   "cell_type": "code",
   "execution_count": null,
   "id": "2862d66e-4264-4776-a3f7-873d9d508593",
   "metadata": {
    "tags": []
   },
   "outputs": [],
   "source": [
    "serve.start(detached=False, http_options={'host':\"0.0.0.0\", 'port':8000})\n",
    "#serve"
   ]
  },
  {
   "cell_type": "code",
   "execution_count": null,
   "id": "a5239dda-e86e-401b-96e4-ea10672b96f6",
   "metadata": {
    "tags": []
   },
   "outputs": [],
   "source": [
    "serve.list_deployments()"
   ]
  },
  {
   "cell_type": "code",
   "execution_count": null,
   "id": "add99d03-0249-4f6e-92b9-908622c3bfc5",
   "metadata": {
    "tags": []
   },
   "outputs": [],
   "source": [
    "try:\n",
    "    serve.get_deployment(\"Iris_LogReg_Model\").delete()\n",
    "    print(f\"Iris_LogReg_Model eliminado\")\n",
    "except Exception as ex:\n",
    "    print(f\"Se produjo el siguiente error : {ex} \")"
   ]
  },
  {
   "cell_type": "code",
   "execution_count": null,
   "id": "1deb61a1-7b7f-4256-808f-e8a4494134dd",
   "metadata": {
    "tags": []
   },
   "outputs": [],
   "source": [
    "serve.list_deployments()"
   ]
  }
 ],
 "metadata": {
  "kernelspec": {
   "display_name": "Python 3 (ipykernel)",
   "language": "python",
   "name": "python3"
  },
  "language_info": {
   "codemirror_mode": {
    "name": "ipython",
    "version": 3
   },
   "file_extension": ".py",
   "mimetype": "text/x-python",
   "name": "python",
   "nbconvert_exporter": "python",
   "pygments_lexer": "ipython3",
   "version": "3.12.8"
  }
 },
 "nbformat": 4,
 "nbformat_minor": 5
}
