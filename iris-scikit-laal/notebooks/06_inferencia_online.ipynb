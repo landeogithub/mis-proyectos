{
 "cells": [
  {
   "cell_type": "markdown",
   "id": "ea1075ac-5858-4dce-ba92-af4a80cc0f1a",
   "metadata": {},
   "source": [
    "<div style=\"background-color:AliceBlue; padding:10px; border-left:5px solid #6495ed; margin-bottom:10px;\">\n",
    "  <h4 style=\"font-size:13px;\">📦 <strong>Importar Librerias</strong></h4>\n",
    "</div>"
   ]
  },
  {
   "cell_type": "code",
   "execution_count": 1,
   "id": "46f46562-7bf6-44ae-9b72-b6e5cd98246c",
   "metadata": {},
   "outputs": [],
   "source": [
    "import pandas as pd\n",
    "import sys, ray\n",
    "from sklearn.datasets import load_iris\n",
    "import requests"
   ]
  },
  {
   "cell_type": "markdown",
   "id": "f2b294ae-2a67-4b64-bff1-1d3d87c13f66",
   "metadata": {},
   "source": [
    "<div style=\"background-color:AliceBlue; padding:10px; border-left:5px solid #6495ed; margin-bottom:10px;\">\n",
    "  <h4 style=\"font-size:13px;\">📦 <strong>Init ray server</strong></h4>\n",
    "</div>"
   ]
  },
  {
   "cell_type": "code",
   "execution_count": 2,
   "id": "e26a2a18-6c17-46ac-9374-40a202e9c658",
   "metadata": {},
   "outputs": [
    {
     "name": "stderr",
     "output_type": "stream",
     "text": [
      "2025-08-10 19:20:37,281\tINFO client_builder.py:242 -- Passing the following kwargs to ray.init() on the server: log_to_driver\n",
      "SIGTERM handler is not set because current thread is not the main thread.\n"
     ]
    },
    {
     "name": "stdout",
     "output_type": "stream",
     "text": [
      "✅ Conectado a Ray existente.\n"
     ]
    }
   ],
   "source": [
    "try:\n",
    "    ray.init(address=\"ray://127.0.0.1:10001\")\n",
    "    print(\"✅ Conectado a Ray existente.\")\n",
    "except Exception as e:\n",
    "    sys.exit(f\"❌ No se pudo conectar a ray://127.0.0.1:10001 → {e}\")"
   ]
  },
  {
   "cell_type": "markdown",
   "id": "56e05584-478a-47a6-b9e6-89b2078e6d81",
   "metadata": {},
   "source": [
    "<div style=\"background-color:AliceBlue; padding:10px; border-left:5px solid #2e8b57; margin-bottom:10px;\">\n",
    "  <h4 style=\"font-size:13px;\">🤖 <strong>Verifica que Modelos estan Desplegados</strong></h4>\n",
    "</div>"
   ]
  },
  {
   "cell_type": "code",
   "execution_count": 3,
   "id": "52587298-03d5-4f8f-9ca6-61a303d6096b",
   "metadata": {
    "tags": []
   },
   "outputs": [],
   "source": [
    "iris = load_iris()\n",
    "df = pd.DataFrame(iris.data, columns=iris.feature_names)\n",
    "df[\"target\"] = iris.target\n",
    "df = df.drop(\"target\", axis=1)\n",
    "\n",
    "df = df.rename(\n",
    "    columns = {\n",
    "        'sepal length (cm)': 'sepal_length',\n",
    "        'sepal width (cm)' : 'sepal_width',\n",
    "        'petal length (cm)': 'petal_length',\n",
    "        'petal width (cm)' : 'petal_width'\n",
    "    }\n",
    ")\n",
    "\n",
    "df_sample = df.sample( n = 5 )\n",
    "df_request = df_sample.to_dict('records')"
   ]
  },
  {
   "cell_type": "code",
   "execution_count": 4,
   "id": "1de4f715-35d0-45cf-a49d-f14013b3ff66",
   "metadata": {},
   "outputs": [
    {
     "data": {
      "text/plain": [
       "[{'sepal_length': 6.1,\n",
       "  'sepal_width': 2.8,\n",
       "  'petal_length': 4.7,\n",
       "  'petal_width': 1.2},\n",
       " {'sepal_length': 5.5,\n",
       "  'sepal_width': 2.4,\n",
       "  'petal_length': 3.8,\n",
       "  'petal_width': 1.1},\n",
       " {'sepal_length': 5.2,\n",
       "  'sepal_width': 2.7,\n",
       "  'petal_length': 3.9,\n",
       "  'petal_width': 1.4},\n",
       " {'sepal_length': 5.8,\n",
       "  'sepal_width': 4.0,\n",
       "  'petal_length': 1.2,\n",
       "  'petal_width': 0.2},\n",
       " {'sepal_length': 5.5,\n",
       "  'sepal_width': 2.6,\n",
       "  'petal_length': 4.4,\n",
       "  'petal_width': 1.2}]"
      ]
     },
     "execution_count": 4,
     "metadata": {},
     "output_type": "execute_result"
    }
   ],
   "source": [
    "df_request"
   ]
  },
  {
   "cell_type": "markdown",
   "id": "dcff4cb6-8e14-4f8a-9e17-6d8fdfa6fbc8",
   "metadata": {},
   "source": [
    "<div style=\"background-color:AliceBlue; padding:10px; border-left:5px solid #2e8b57; margin-bottom:10px;\">\n",
    "  <h4 style=\"font-size:13px;\">🤖 <strong>Verifica que Modelos estan Desplegados</strong></h4>\n",
    "</div>"
   ]
  },
  {
   "cell_type": "code",
   "execution_count": 5,
   "id": "4a1e3b34-f390-43b8-81ee-ba146f69c935",
   "metadata": {
    "tags": []
   },
   "outputs": [
    {
     "name": "stdout",
     "output_type": "stream",
     "text": [
      "{'sepal_length': 6.1, 'sepal_width': 2.8, 'petal_length': 4.7, 'petal_width': 1.2} -->  {'cod': 200, 'msg': 'Score calculated successfully.', 'data': {'em_eventprobability': 0.8181885135384775}, 'errors': None}\n",
      "------------------------------------------------------------------------------------------------------------------------\n",
      "{'sepal_length': 5.5, 'sepal_width': 2.4, 'petal_length': 3.8, 'petal_width': 1.1} -->  {'cod': 200, 'msg': 'Score calculated successfully.', 'data': {'em_eventprobability': 0.9467412567681603}, 'errors': None}\n",
      "------------------------------------------------------------------------------------------------------------------------\n",
      "{'sepal_length': 5.2, 'sepal_width': 2.7, 'petal_length': 3.9, 'petal_width': 1.4} -->  {'cod': 200, 'msg': 'Score calculated successfully.', 'data': {'em_eventprobability': 0.8997109568085427}, 'errors': None}\n",
      "------------------------------------------------------------------------------------------------------------------------\n",
      "{'sepal_length': 5.8, 'sepal_width': 4.0, 'petal_length': 1.2, 'petal_width': 0.2} -->  {'cod': 200, 'msg': 'Score calculated successfully.', 'data': {'em_eventprobability': 0.01752288068410567}, 'errors': None}\n",
      "------------------------------------------------------------------------------------------------------------------------\n",
      "{'sepal_length': 5.5, 'sepal_width': 2.6, 'petal_length': 4.4, 'petal_width': 1.2} -->  {'cod': 200, 'msg': 'Score calculated successfully.', 'data': {'em_eventprobability': 0.873846272114247}, 'errors': None}\n",
      "------------------------------------------------------------------------------------------------------------------------\n"
     ]
    }
   ],
   "source": [
    "try:\n",
    "    for i in range(len(df_sample)):\n",
    "        response = requests.post(\n",
    "            \"http://127.0.0.1:8000/v1/iris-logreg-modelo/score/\",\n",
    "            json = df_request[i]\n",
    "        )\n",
    "        result = response.json()\n",
    "        print(df_request[i], \"--> \", result)\n",
    "        print(\"-\" * 120)\n",
    "        \n",
    "except Exception as ex:\n",
    "    print(f\"Request: Se produjo el siguiente error : {ex} \")"
   ]
  },
  {
   "cell_type": "code",
   "execution_count": null,
   "id": "71666602-9857-44a2-b516-dbfc32c8fbe1",
   "metadata": {},
   "outputs": [],
   "source": []
  }
 ],
 "metadata": {
  "kernelspec": {
   "display_name": "Python 3 (ipykernel)",
   "language": "python",
   "name": "python3"
  },
  "language_info": {
   "codemirror_mode": {
    "name": "ipython",
    "version": 3
   },
   "file_extension": ".py",
   "mimetype": "text/x-python",
   "name": "python",
   "nbconvert_exporter": "python",
   "pygments_lexer": "ipython3",
   "version": "3.12.8"
  }
 },
 "nbformat": 4,
 "nbformat_minor": 5
}
