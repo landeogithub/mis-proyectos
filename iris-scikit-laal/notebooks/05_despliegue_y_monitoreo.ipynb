{
 "cells": [
  {
   "cell_type": "markdown",
   "id": "ea1075ac-5858-4dce-ba92-af4a80cc0f1a",
   "metadata": {},
   "source": [
    "<div style=\"background-color:AliceBlue; padding:10px; border-left:5px solid #6495ed; margin-bottom:10px;\">\n",
    "  <h4 style=\"font-size:13px;\">📦 <strong>Importar Librerias</strong></h4>\n",
    "</div>"
   ]
  },
  {
   "cell_type": "code",
   "execution_count": null,
   "id": "46f46562-7bf6-44ae-9b72-b6e5cd98246c",
   "metadata": {},
   "outputs": [],
   "source": [
    "import ray\n",
    "from ray import serve, init\n",
    "import mlflow\n",
    "import pandas as pd\n",
    "from fastapi import FastAPI\n",
    "from fastapi import Request\n",
    "from pydantic import BaseModel\n",
    "from fastapi.exceptions import RequestValidationError\n",
    "from fastapi.responses import JSONResponse\n",
    "from starlette.requests import Request\n",
    "from json import JSONDecodeError\n",
    "from sklearn.datasets import load_iris\n",
    "import requests"
   ]
  },
  {
   "cell_type": "markdown",
   "id": "41a3a91f-f16e-456c-baad-f4ce0a224ad9",
   "metadata": {
    "tags": []
   },
   "source": [
    "<div style=\"background-color:AliceBlue; padding:10px; border-left:5px solid #2e8b57; margin-bottom:10px;\">\n",
    "  <h4 style=\"font-size:13px;\">🤖 <strong>Conecta a un cluster de Ray ya iniciado</strong></h4>\n",
    "</div>"
   ]
  },
  {
   "cell_type": "code",
   "execution_count": null,
   "id": "7b0fe7a2-50f6-4ca4-96fa-566140a1a623",
   "metadata": {
    "tags": []
   },
   "outputs": [],
   "source": [
    "try:\n",
    "    ray_head = \"ray-head\"\n",
    "    ray.init(address=f'ray://{ray_head}:10001') #SERVER\n",
    "    serve.start(detached=True)\n",
    "    print(\"Conexion correcta al servicio Ray ...\")\n",
    "except Exception as ex:\n",
    "    print(f\"Ray: Se produjo el siguiente error : {ex} \")"
   ]
  },
  {
   "cell_type": "markdown",
   "id": "d40b92d1-7b5e-4967-bfab-e63a93b2ef39",
   "metadata": {},
   "source": [
    "<div style=\"background-color:AliceBlue; padding:10px; border-left:5px solid #2e8b57; margin-bottom:10px;\">\n",
    "  <h4 style=\"font-size:13px;\">🤖 <strong>Configuracion del Modelo</strong></h4>\n",
    "</div>"
   ]
  },
  {
   "cell_type": "code",
   "execution_count": null,
   "id": "dd1d9551-0b49-40c2-9f75-bf135cb1c320",
   "metadata": {
    "tags": []
   },
   "outputs": [],
   "source": [
    "try:\n",
    "    app = FastAPI(\n",
    "        title = \"Import Predictor API\",\n",
    "        description = \"Import Pipeline online inference\"\n",
    "    )\n",
    "\n",
    "    @app.exception_handler(RequestValidationError)\n",
    "    async def validation_exception_handler(request: Request, exc: RequestValidationError):\n",
    "        mensajes = [err[\"msg\"] for err in exc.errors()]\n",
    "        return JSONResponse(\n",
    "            status_code = 422,\n",
    "            content = { \"cod\": 422, \"msg\": \"; \".join(mensajes), \"data\": None, \"errors\": exc.errors(), },\n",
    "        )\n",
    "    \n",
    "    class Item(BaseModel):\n",
    "        sepal_length : float = 6.6\n",
    "        sepal_width  : float = 3.0\n",
    "        petal_length : float = 4.4\n",
    "        petal_width  : float = 1.4\n",
    "\n",
    "    @serve.deployment(\n",
    "        route_prefix=\"/v1/iris-logreg-modelo/score\",\n",
    "        ray_actor_options={\"num_cpus\": 0.1, \"num_gpus\": 0},\n",
    "        name = \"Iris_LogReg_Model\"\n",
    "    )\n",
    "    @serve.ingress(app)\n",
    "    class ModelMlFlow:\n",
    "        def __init__(self):\n",
    "            #mlflow.set_tracking_uri(\"http://172.26.56.133:5000\")\n",
    "            model_uri = \"models:/Iris_LogReg_Model/Production\"\n",
    "            try:\n",
    "                self.model = mlflow.sklearn.load_model(model_uri)\n",
    "            except Exception as ex:\n",
    "                print(f\"MlFlow: Se produjo el siguiente error : {ex} \")\n",
    "\n",
    "        @app.post(\"/\")\n",
    "        async def score(self, item: Item):\n",
    "            try:\n",
    "                #payload = await request.json()\n",
    "                payload = item.dict()\n",
    "                df = pd.DataFrame([payload])\n",
    "                score = float(self.model.predict_proba(df)[0][1])\n",
    "                return {\"cod\": 200, \"msg\": \"Score calculated successfully.\", \"data\": {\"em_eventprobability\": score}, \"errors\": None }\n",
    "            except Exception as e:\n",
    "                #logger.error(f\"Error in import prediction: {e}\")\n",
    "                return {\"cod\": 500, \"msg\": \"Error calculating score\", \"data\": None, \"errors\": str(e)}\n",
    "except Exception as ex:\n",
    "    print(f\"Desployment y Ingress: Se produjo el siguiente error : {ex} \")"
   ]
  },
  {
   "cell_type": "markdown",
   "id": "e8229594-8572-452e-b01b-cf5f66f684ef",
   "metadata": {},
   "source": [
    "<div style=\"background-color:AliceBlue; padding:10px; border-left:5px solid #2e8b57; margin-bottom:10px;\">\n",
    "  <h4 style=\"font-size:13px;\">🤖 <strong>Desplegar el Modelo</strong></h4>\n",
    "</div>"
   ]
  },
  {
   "cell_type": "code",
   "execution_count": null,
   "id": "778a9a27-b8b2-42e5-9eec-f61a93c46250",
   "metadata": {
    "tags": []
   },
   "outputs": [],
   "source": [
    "try:\n",
    "    ModelMlFlow.deploy()\n",
    "    print(\"Modelo Desplegado\")\n",
    "except Exception as ex:\n",
    "    serve.get_deployment(\"Iris_LogReg_Model\").delete()\n",
    "    print(f\"Ray: Se produjo el siguiente error : {ex} \")"
   ]
  },
  {
   "cell_type": "markdown",
   "id": "61589c9c-eabd-42c0-a51c-42af209a4e0c",
   "metadata": {
    "tags": []
   },
   "source": [
    "<div style=\"background-color:AliceBlue; padding:10px; border-left:5px solid #2e8b57; margin-bottom:10px;\">\n",
    "  <h4 style=\"font-size:13px;\">🤖 <strong>FastAPI genera automáticamente documentación interactiva en /docs</strong></h4>\n",
    "</div>"
   ]
  },
  {
   "cell_type": "markdown",
   "id": "20385451-b2d0-4254-abd9-97077cb60a29",
   "metadata": {},
   "source": [
    "http://localhost:8000/v1/iris-logreg-modelo/score/docs"
   ]
  },
  {
   "cell_type": "markdown",
   "id": "d7a8c252-9e65-4a49-89cd-6a1bdb2719a6",
   "metadata": {},
   "source": [
    "<div style=\"background-color:AliceBlue; padding:10px; border-left:5px solid #2e8b57; margin-bottom:10px;\">\n",
    "  <h4 style=\"font-size:13px;\">🤖 <strong>Verifica que Modelos estan Desplegados</strong></h4>\n",
    "</div>"
   ]
  },
  {
   "cell_type": "code",
   "execution_count": null,
   "id": "f166a548-8bb2-412a-832f-b0fd011f0b50",
   "metadata": {
    "tags": []
   },
   "outputs": [],
   "source": [
    "serve.list_deployments()"
   ]
  },
  {
   "cell_type": "code",
   "execution_count": null,
   "id": "26a5022d-f06a-449e-a39c-2af08cfeb479",
   "metadata": {
    "tags": []
   },
   "outputs": [],
   "source": [
    "#serve.get_deployment(\"contrab-carga-iamc\").delete()"
   ]
  }
 ],
 "metadata": {
  "kernelspec": {
   "display_name": "Python 3 (ipykernel)",
   "language": "python",
   "name": "python3"
  },
  "language_info": {
   "codemirror_mode": {
    "name": "ipython",
    "version": 3
   },
   "file_extension": ".py",
   "mimetype": "text/x-python",
   "name": "python",
   "nbconvert_exporter": "python",
   "pygments_lexer": "ipython3",
   "version": "3.8.13"
  }
 },
 "nbformat": 4,
 "nbformat_minor": 5
}
