{
 "cells": [
  {
   "cell_type": "code",
   "execution_count": 1,
   "id": "b30e73be-edc9-4a1e-b95c-38031cbc4ca1",
   "metadata": {},
   "outputs": [],
   "source": [
    "import mlflow\n",
    "import mlflow.sklearn\n",
    "from sklearn.datasets import load_iris\n",
    "from sklearn.model_selection import train_test_split\n",
    "from sklearn.tree import DecisionTreeClassifier\n",
    "from sklearn.metrics import accuracy_score"
   ]
  },
  {
   "cell_type": "code",
   "execution_count": 2,
   "id": "4caca7b8-d8de-40f6-a59f-f79d168abec1",
   "metadata": {},
   "outputs": [],
   "source": [
    "# Carga el dataset iris\n",
    "data = load_iris()\n",
    "X = data.data\n",
    "y = data.target"
   ]
  },
  {
   "cell_type": "code",
   "execution_count": 3,
   "id": "7298b9bd-f04d-43aa-a299-b3a7307cd554",
   "metadata": {},
   "outputs": [],
   "source": [
    "# Divide en entrenamiento y prueba\n",
    "X_train, X_test, y_train, y_test = train_test_split(X, y, random_state=42)"
   ]
  },
  {
   "cell_type": "code",
   "execution_count": 4,
   "id": "38c31e7d-e19b-4b65-831e-758672cf5f03",
   "metadata": {},
   "outputs": [
    {
     "name": "stderr",
     "output_type": "stream",
     "text": [
      "\u001b[31m2025/04/18 02:09:02 WARNING mlflow.models.model: Model logged without a signature and input example. Please set `input_example` parameter when logging the model to auto infer the model signature.\u001b[0m\n"
     ]
    },
    {
     "name": "stdout",
     "output_type": "stream",
     "text": [
      "Accuracy: 1.0\n",
      "Modelo guardado en MLflow.\n",
      "🏃 View run tasteful-steed-542 at: http://mlflow:5000/#/experiments/1/runs/0f3efbdb4573489bb4d5191312307fd4\n",
      "🧪 View experiment at: http://mlflow:5000/#/experiments/1\n"
     ]
    }
   ],
   "source": [
    "# Configura el experimento de MLflow (crea uno si no existe)\n",
    "mlflow.set_tracking_uri(\"http://mlflow:5000\")\n",
    "mlflow.set_experiment(\"Iris_Classifier\")\n",
    "\n",
    "with mlflow.start_run():\n",
    "    # Entrena modelo\n",
    "    clf = DecisionTreeClassifier(max_depth=3, random_state=42)\n",
    "    clf.fit(X_train, y_train)\n",
    "\n",
    "    # Predice\n",
    "    y_pred = clf.predict(X_test)\n",
    "    acc = accuracy_score(y_test, y_pred)\n",
    "\n",
    "    # Loguea parámetros, métricas y modelo\n",
    "    mlflow.log_param(\"max_depth\", 3)\n",
    "    mlflow.log_metric(\"accuracy\", acc)\n",
    "    mlflow.sklearn.log_model(clf, \"model\")\n",
    "\n",
    "    print(f\"Accuracy: {acc}\")\n",
    "    print(\"Modelo guardado en MLflow.\")"
   ]
  },
  {
   "cell_type": "code",
   "execution_count": 5,
   "id": "dfc43feb-2a49-45cb-afe7-f13a508ef074",
   "metadata": {},
   "outputs": [],
   "source": [
    "import pyspark"
   ]
  },
  {
   "cell_type": "code",
   "execution_count": null,
   "id": "23224448-9593-48cf-8b95-8758c60bd1b4",
   "metadata": {},
   "outputs": [],
   "source": []
  }
 ],
 "metadata": {
  "kernelspec": {
   "display_name": "Python 3 (ipykernel)",
   "language": "python",
   "name": "python3"
  },
  "language_info": {
   "codemirror_mode": {
    "name": "ipython",
    "version": 3
   },
   "file_extension": ".py",
   "mimetype": "text/x-python",
   "name": "python",
   "nbconvert_exporter": "python",
   "pygments_lexer": "ipython3",
   "version": "3.12.10"
  }
 },
 "nbformat": 4,
 "nbformat_minor": 5
}
