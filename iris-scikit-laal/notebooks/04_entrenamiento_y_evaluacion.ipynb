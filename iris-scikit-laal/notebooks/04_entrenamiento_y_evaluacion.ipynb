{
 "cells": [
  {
   "cell_type": "markdown",
   "id": "ef410ebe-3e3e-4a44-84d6-a459bfaca387",
   "metadata": {},
   "source": [
    "<div style=\"background-color:AliceBlue; padding:10px; border-left:5px solid #6495ed; margin-bottom:10px;\">\n",
    "  <h4 style=\"font-size:13px;\">📦 <strong>Importar Librerias</strong></h4>\n",
    "</div>"
   ]
  },
  {
   "cell_type": "code",
   "execution_count": 1,
   "id": "b30e73be-edc9-4a1e-b95c-38031cbc4ca1",
   "metadata": {},
   "outputs": [],
   "source": [
    "import mlflow\n",
    "import mlflow.sklearn\n",
    "from sklearn.datasets import load_iris\n",
    "from sklearn.model_selection import train_test_split\n",
    "from sklearn.linear_model import LogisticRegression\n",
    "from sklearn.metrics import accuracy_score\n",
    "import pandas as pd\n",
    "from mlflow.models.signature import infer_signature"
   ]
  },
  {
   "cell_type": "markdown",
   "id": "b8c0a785-728b-47f2-95b4-5903ace54e34",
   "metadata": {},
   "source": [
    "<div style=\"background-color:AliceBlue; padding:10px; border-left:5px solid #6495ed; margin-bottom:10px;\">\n",
    "  <h4 style=\"font-size:13px;\">🌸 <strong>Importar DataSet Iris</strong></h4>\n",
    "</div>"
   ]
  },
  {
   "cell_type": "code",
   "execution_count": 2,
   "id": "26826337-c344-43d9-bba6-c5141bd46222",
   "metadata": {
    "tags": []
   },
   "outputs": [],
   "source": [
    "iris = load_iris()\n",
    "df = pd.DataFrame(iris.data, columns=iris.feature_names)\n",
    "df[\"target\"] = iris.target\n",
    "\n",
    "df_0_1 = df[df[\"target\"].isin([0, 1])] # 0:setosa 1:versicolor\n",
    "\n",
    "df_virginica = df[df[\"target\"] == 2]\n",
    "df_2_0 = df_virginica.sample( n = 25 )\n",
    "df_2_1 = df_virginica.drop(df_2_0.index).sample( n = 25 )\n",
    "\n",
    "df_iris = pd.concat([df_0_1, df_2_0, df_2_1], ignore_index=True)\n",
    "\n",
    "df_iris = df_iris.rename(\n",
    "    columns = {\n",
    "        'sepal length (cm)': 'sepal_length',\n",
    "        'sepal width (cm)' : 'sepal_width',\n",
    "        'petal length (cm)': 'petal_length',\n",
    "        'petal width (cm)' : 'petal_width'\n",
    "    }\n",
    ")\n",
    "\n",
    "# 4. Separar variables\n",
    "#X = df_iris[iris.feature_names]\n",
    "FEATURES = ['sepal_length', 'sepal_width', 'petal_length', 'petal_width']\n",
    "X = df_iris[FEATURES]\n",
    "y = df_iris[\"target\"]\n",
    "\n"
   ]
  },
  {
   "cell_type": "code",
   "execution_count": 3,
   "id": "f0a8cc7e-4eb5-40e4-aca5-8d416af91410",
   "metadata": {},
   "outputs": [
    {
     "data": {
      "text/html": [
       "<div>\n",
       "<style scoped>\n",
       "    .dataframe tbody tr th:only-of-type {\n",
       "        vertical-align: middle;\n",
       "    }\n",
       "\n",
       "    .dataframe tbody tr th {\n",
       "        vertical-align: top;\n",
       "    }\n",
       "\n",
       "    .dataframe thead th {\n",
       "        text-align: right;\n",
       "    }\n",
       "</style>\n",
       "<table border=\"1\" class=\"dataframe\">\n",
       "  <thead>\n",
       "    <tr style=\"text-align: right;\">\n",
       "      <th></th>\n",
       "      <th>sepal_length</th>\n",
       "      <th>sepal_width</th>\n",
       "      <th>petal_length</th>\n",
       "      <th>petal_width</th>\n",
       "    </tr>\n",
       "  </thead>\n",
       "  <tbody>\n",
       "    <tr>\n",
       "      <th>0</th>\n",
       "      <td>5.1</td>\n",
       "      <td>3.5</td>\n",
       "      <td>1.4</td>\n",
       "      <td>0.2</td>\n",
       "    </tr>\n",
       "    <tr>\n",
       "      <th>1</th>\n",
       "      <td>4.9</td>\n",
       "      <td>3.0</td>\n",
       "      <td>1.4</td>\n",
       "      <td>0.2</td>\n",
       "    </tr>\n",
       "    <tr>\n",
       "      <th>2</th>\n",
       "      <td>4.7</td>\n",
       "      <td>3.2</td>\n",
       "      <td>1.3</td>\n",
       "      <td>0.2</td>\n",
       "    </tr>\n",
       "    <tr>\n",
       "      <th>3</th>\n",
       "      <td>4.6</td>\n",
       "      <td>3.1</td>\n",
       "      <td>1.5</td>\n",
       "      <td>0.2</td>\n",
       "    </tr>\n",
       "    <tr>\n",
       "      <th>4</th>\n",
       "      <td>5.0</td>\n",
       "      <td>3.6</td>\n",
       "      <td>1.4</td>\n",
       "      <td>0.2</td>\n",
       "    </tr>\n",
       "    <tr>\n",
       "      <th>...</th>\n",
       "      <td>...</td>\n",
       "      <td>...</td>\n",
       "      <td>...</td>\n",
       "      <td>...</td>\n",
       "    </tr>\n",
       "    <tr>\n",
       "      <th>145</th>\n",
       "      <td>7.7</td>\n",
       "      <td>3.0</td>\n",
       "      <td>6.1</td>\n",
       "      <td>2.3</td>\n",
       "    </tr>\n",
       "    <tr>\n",
       "      <th>146</th>\n",
       "      <td>6.1</td>\n",
       "      <td>3.0</td>\n",
       "      <td>4.9</td>\n",
       "      <td>1.8</td>\n",
       "    </tr>\n",
       "    <tr>\n",
       "      <th>147</th>\n",
       "      <td>6.7</td>\n",
       "      <td>3.3</td>\n",
       "      <td>5.7</td>\n",
       "      <td>2.1</td>\n",
       "    </tr>\n",
       "    <tr>\n",
       "      <th>148</th>\n",
       "      <td>6.7</td>\n",
       "      <td>2.5</td>\n",
       "      <td>5.8</td>\n",
       "      <td>1.8</td>\n",
       "    </tr>\n",
       "    <tr>\n",
       "      <th>149</th>\n",
       "      <td>6.4</td>\n",
       "      <td>3.2</td>\n",
       "      <td>5.3</td>\n",
       "      <td>2.3</td>\n",
       "    </tr>\n",
       "  </tbody>\n",
       "</table>\n",
       "<p>150 rows × 4 columns</p>\n",
       "</div>"
      ],
      "text/plain": [
       "     sepal_length  sepal_width  petal_length  petal_width\n",
       "0             5.1          3.5           1.4          0.2\n",
       "1             4.9          3.0           1.4          0.2\n",
       "2             4.7          3.2           1.3          0.2\n",
       "3             4.6          3.1           1.5          0.2\n",
       "4             5.0          3.6           1.4          0.2\n",
       "..            ...          ...           ...          ...\n",
       "145           7.7          3.0           6.1          2.3\n",
       "146           6.1          3.0           4.9          1.8\n",
       "147           6.7          3.3           5.7          2.1\n",
       "148           6.7          2.5           5.8          1.8\n",
       "149           6.4          3.2           5.3          2.3\n",
       "\n",
       "[150 rows x 4 columns]"
      ]
     },
     "execution_count": 3,
     "metadata": {},
     "output_type": "execute_result"
    }
   ],
   "source": [
    "X"
   ]
  },
  {
   "cell_type": "markdown",
   "id": "4a0d5694-1c52-4bd3-bdc8-16010f087c5e",
   "metadata": {},
   "source": [
    "<div style=\"background-color:AliceBlue; padding:10px; border-left:5px solid #f4a460; margin-bottom:10px;\">\n",
    "  <h4 style=\"font-size:13px;\">✂️ <strong>Divide en entrenamiento y prueba</strong></h4>\n",
    "</div>"
   ]
  },
  {
   "cell_type": "code",
   "execution_count": 4,
   "id": "0e117295-a66a-4da2-b76e-f19164cce2f0",
   "metadata": {},
   "outputs": [],
   "source": [
    "procen_test = 0.30\n",
    "X_train, X_test, y_train, y_test = train_test_split(X, y, test_size = procen_test, random_state = 42)"
   ]
  },
  {
   "cell_type": "markdown",
   "id": "6ebe0071-8266-489f-92cf-ff99d317b7c3",
   "metadata": {},
   "source": [
    "<div style=\"background-color:AliceBlue; padding:10px; border-left:5px solid #2e8b57; margin-bottom:10px;\">\n",
    "  <h4 style=\"font-size:13px;\">🤖 <strong>Entrenamiento del Modelo</strong></h4>\n",
    "</div>"
   ]
  },
  {
   "cell_type": "code",
   "execution_count": 5,
   "id": "38c31e7d-e19b-4b65-831e-758672cf5f03",
   "metadata": {},
   "outputs": [
    {
     "name": "stdout",
     "output_type": "stream",
     "text": [
      "Accuracy: 1.0\n",
      "Modelo guardado en MLflow.\n",
      "🏃 View run brawny-auk-31 at: http://127.0.0.1:8080/#/experiments/720179282521742532/runs/4c394e66b7c145518eab485a8e45b992\n",
      "🧪 View experiment at: http://127.0.0.1:8080/#/experiments/720179282521742532\n"
     ]
    }
   ],
   "source": [
    "try:\n",
    "    #mlflow.set_tracking_uri(\"www.localhost:5000\")\n",
    "    mlflow.set_tracking_uri(\"http://127.0.0.1:8080\")\n",
    "    mlflow.set_experiment(\"Iris_Classifier\")\n",
    "except Exception as ex:\n",
    "    print(f\"MlFlow: Se produjo el siguiente error : {ex} \")\n",
    "\n",
    "try:\n",
    "    with mlflow.start_run():\n",
    "        # Entrena modelo\n",
    "        clf = LogisticRegression(max_iter=200)\n",
    "        clf.fit(X_train, y_train)\n",
    "\n",
    "        # Predice\n",
    "        y_pred = clf.predict(X_test)\n",
    "        acc = accuracy_score(y_test, y_pred)\n",
    "\n",
    "        # Loguea parámetros, métricas y modelo\n",
    "        mlflow.log_param(\"max_depth\", 3)\n",
    "        mlflow.log_metric(\"accuracy\", acc)\n",
    "        \n",
    "        signature = infer_signature(X_train, clf.predict_proba(X_train))\n",
    "        \n",
    "        mlflow.sklearn.log_model(\n",
    "            sk_model= clf,\n",
    "            artifact_path = \"iris_model\",\n",
    "            signature = signature\n",
    "        )\n",
    "\n",
    "        print(f\"Accuracy: {acc}\")\n",
    "        print(\"Modelo guardado en MLflow.\")\n",
    "except Exception as ex:\n",
    "    print(f\"MlFlow: Se produjo el siguiente error : {ex} \")"
   ]
  },
  {
   "cell_type": "code",
   "execution_count": 6,
   "id": "3b32d3c5-de9d-40c7-9241-01f9e67d29ed",
   "metadata": {},
   "outputs": [
    {
     "data": {
      "image/png": "[encoded data removed]",
      "text/plain": [
       "<Figure size 640x480 with 1 Axes>"
      ]
     },
     "metadata": {},
     "output_type": "display_data"
    }
   ],
   "source": [
    "y_pred = clf.predict(X)\n",
    "y_proba = clf.predict_proba(X)[:, 1]  # Probabilidad para la clase positiva\n",
    "\n",
    "import numpy as np\n",
    "import matplotlib.pyplot as plt\n",
    "\n",
    "# Histograma\n",
    "plt.hist(y_proba, bins=40, edgecolor='black', color='skyblue')  # Puedes ajustar 'bins' como quieras\n",
    "plt.title('Histograma de Score')\n",
    "plt.xlabel('Valor')\n",
    "plt.ylabel('Frecuencia')\n",
    "plt.grid(True)\n",
    "plt.show()"
   ]
  },
  {
   "cell_type": "code",
   "execution_count": null,
   "id": "7b8d5b3e-513b-461b-a4ce-b7ccd1e95cb1",
   "metadata": {},
   "outputs": [],
   "source": []
  }
 ],
 "metadata": {
  "kernelspec": {
   "display_name": "Python 3 (ipykernel)",
   "language": "python",
   "name": "python3"
  },
  "language_info": {
   "codemirror_mode": {
    "name": "ipython",
    "version": 3
   },
   "file_extension": ".py",
   "mimetype": "text/x-python",
   "name": "python",
   "nbconvert_exporter": "python",
   "pygments_lexer": "ipython3",
   "version": "3.12.8"
  }
 },
 "nbformat": 4,
 "nbformat_minor": 5
}
