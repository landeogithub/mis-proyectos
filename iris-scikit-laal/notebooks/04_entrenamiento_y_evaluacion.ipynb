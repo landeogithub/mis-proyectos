{
 "cells": [
  {
   "cell_type": "markdown",
   "id": "ef410ebe-3e3e-4a44-84d6-a459bfaca387",
   "metadata": {},
   "source": [
    "<div style=\"background-color:AliceBlue; padding:10px; border-left:5px solid #6495ed; margin-bottom:10px;\">\n",
    "  <h4 style=\"font-size:13px;\">📦 <strong>Importar Librerias</strong></h4>\n",
    "</div>"
   ]
  },
  {
   "cell_type": "code",
   "execution_count": 1,
   "id": "b30e73be-edc9-4a1e-b95c-38031cbc4ca1",
   "metadata": {},
   "outputs": [],
   "source": [
    "import mlflow\n",
    "import mlflow.sklearn\n",
    "from sklearn.datasets import load_iris\n",
    "from sklearn.model_selection import train_test_split\n",
    "from sklearn.linear_model import LogisticRegression\n",
    "from sklearn.metrics import accuracy_score\n",
    "import pandas as pd\n",
    "from mlflow.models.signature import infer_signature"
   ]
  },
  {
   "cell_type": "markdown",
   "id": "b8c0a785-728b-47f2-95b4-5903ace54e34",
   "metadata": {},
   "source": [
    "<div style=\"background-color:AliceBlue; padding:10px; border-left:5px solid #6495ed; margin-bottom:10px;\">\n",
    "  <h4 style=\"font-size:13px;\">🌸 <strong>Importar DataSet Iris</strong></h4>\n",
    "</div>"
   ]
  },
  {
   "cell_type": "code",
   "execution_count": 2,
   "id": "26826337-c344-43d9-bba6-c5141bd46222",
   "metadata": {
    "tags": []
   },
   "outputs": [],
   "source": [
    "iris = load_iris()\n",
    "df = pd.DataFrame(iris.data, columns=iris.feature_names)\n",
    "df[\"target\"] = iris.target\n",
    "\n",
    "df_0_1 = df[df[\"target\"].isin([0, 1])] # 0:setosa 1:versicolor\n",
    "\n",
    "df_virginica = df[df[\"target\"] == 2]\n",
    "df_2_0 = df_virginica.sample( n = 25 )\n",
    "df_2_1 = df_virginica.drop(df_2_0.index).sample( n = 25 )\n",
    "\n",
    "df_iris = pd.concat([df_0_1, df_2_0, df_2_1], ignore_index=True)\n",
    "\n",
    "# 4. Separar variables\n",
    "X = df_iris[iris.feature_names]\n",
    "y = df_iris[\"target\"]"
   ]
  },
  {
   "cell_type": "markdown",
   "id": "4a0d5694-1c52-4bd3-bdc8-16010f087c5e",
   "metadata": {},
   "source": [
    "<div style=\"background-color:AliceBlue; padding:10px; border-left:5px solid #f4a460; margin-bottom:10px;\">\n",
    "  <h4 style=\"font-size:13px;\">✂️ <strong>Divide en entrenamiento y prueba</strong></h4>\n",
    "</div>"
   ]
  },
  {
   "cell_type": "code",
   "execution_count": 3,
   "id": "0e117295-a66a-4da2-b76e-f19164cce2f0",
   "metadata": {},
   "outputs": [],
   "source": [
    "procen_test = 0.30\n",
    "X_train, X_test, y_train, y_test = train_test_split(X, y, test_size = procen_test, random_state = 42)"
   ]
  },
  {
   "cell_type": "markdown",
   "id": "6ebe0071-8266-489f-92cf-ff99d317b7c3",
   "metadata": {},
   "source": [
    "<div style=\"background-color:AliceBlue; padding:10px; border-left:5px solid #2e8b57; margin-bottom:10px;\">\n",
    "  <h4 style=\"font-size:13px;\">🤖 <strong>Entrenamiento del Modelo</strong></h4>\n",
    "</div>"
   ]
  },
  {
   "cell_type": "code",
   "execution_count": 4,
   "id": "38c31e7d-e19b-4b65-831e-758672cf5f03",
   "metadata": {},
   "outputs": [
    {
     "name": "stderr",
     "output_type": "stream",
     "text": [
      "/opt/conda/lib/python3.8/site-packages/_distutils_hack/__init__.py:33: UserWarning: Setuptools is replacing distutils.\n",
      "  warnings.warn(\"Setuptools is replacing distutils.\")\n"
     ]
    },
    {
     "name": "stdout",
     "output_type": "stream",
     "text": [
      "Accuracy: 1.0\n",
      "Modelo guardado en MLflow.\n"
     ]
    }
   ],
   "source": [
    "try:\n",
    "    #mlflow.set_tracking_uri(\"www.localhost:5000\")\n",
    "    mlflow.set_experiment(\"Iris_Classifier\")\n",
    "except Exception as ex:\n",
    "    print(f\"MlFlow: Se produjo el siguiente error : {ex} \")\n",
    "\n",
    "try:\n",
    "    with mlflow.start_run():\n",
    "        # Entrena modelo\n",
    "        clf = LogisticRegression(max_iter=200)\n",
    "        clf.fit(X_train, y_train)\n",
    "\n",
    "        # Predice\n",
    "        y_pred = clf.predict(X_test)\n",
    "        acc = accuracy_score(y_test, y_pred)\n",
    "\n",
    "        # Loguea parámetros, métricas y modelo\n",
    "        mlflow.log_param(\"max_depth\", 3)\n",
    "        mlflow.log_metric(\"accuracy\", acc)\n",
    "        \n",
    "        signature = infer_signature(X_train, clf.predict(X_train))\n",
    "        \n",
    "        mlflow.sklearn.log_model(\n",
    "            sk_model= clf,\n",
    "            artifact_path = \"iris_model\",\n",
    "            signature = signature\n",
    "        )\n",
    "\n",
    "        print(f\"Accuracy: {acc}\")\n",
    "        print(\"Modelo guardado en MLflow.\")\n",
    "except Exception as ex:\n",
    "    print(f\"MlFlow: Se produjo el siguiente error : {ex} \")"
   ]
  },
  {
   "cell_type": "code",
   "execution_count": 5,
   "id": "3b32d3c5-de9d-40c7-9241-01f9e67d29ed",
   "metadata": {},
   "outputs": [
    {
     "data": {
      "image/png": "[encoded data removed]",
      "text/plain": [
       "<Figure size 640x480 with 1 Axes>"
      ]
     },
     "metadata": {},
     "output_type": "display_data"
    }
   ],
   "source": [
    "y_pred = clf.predict(X)\n",
    "y_proba = clf.predict_proba(X)[:, 1]  # Probabilidad para la clase positiva\n",
    "\n",
    "import numpy as np\n",
    "import matplotlib.pyplot as plt\n",
    "\n",
    "# Histograma\n",
    "plt.hist(y_proba, bins=40, edgecolor='black', color='skyblue')  # Puedes ajustar 'bins' como quieras\n",
    "plt.title('Histograma de Score')\n",
    "plt.xlabel('Valor')\n",
    "plt.ylabel('Frecuencia')\n",
    "plt.grid(True)\n",
    "plt.show()"
   ]
  },
  {
   "cell_type": "code",
   "execution_count": null,
   "id": "7b8d5b3e-513b-461b-a4ce-b7ccd1e95cb1",
   "metadata": {},
   "outputs": [],
   "source": []
  }
 ],
 "metadata": {
  "kernelspec": {
   "display_name": "Python 3 (ipykernel)",
   "language": "python",
   "name": "python3"
  },
  "language_info": {
   "codemirror_mode": {
    "name": "ipython",
    "version": 3
   },
   "file_extension": ".py",
   "mimetype": "text/x-python",
   "name": "python",
   "nbconvert_exporter": "python",
   "pygments_lexer": "ipython3",
   "version": "3.8.13"
  }
 },
 "nbformat": 4,
 "nbformat_minor": 5
}
