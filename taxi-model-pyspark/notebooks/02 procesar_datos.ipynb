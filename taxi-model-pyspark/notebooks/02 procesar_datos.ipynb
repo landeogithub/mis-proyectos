{
 "cells": [
  {
   "cell_type": "markdown",
   "id": "31ef78b1-2501-4ff1-b084-c037a0ed0528",
   "metadata": {},
   "source": [
    "### Importar Librerias"
   ]
  },
  {
   "cell_type": "code",
   "execution_count": 1,
   "id": "c70aac84-2711-449c-9557-7907abe9cc1b",
   "metadata": {},
   "outputs": [],
   "source": [
    "from pyspark.sql import SparkSession\n",
    "from pyspark.sql.functions import unix_timestamp, round, hour, dayofweek"
   ]
  },
  {
   "cell_type": "markdown",
   "id": "1773e042-4398-47c5-b9ac-29b750dd9d1b",
   "metadata": {},
   "source": [
    "### Crea una Session en PySpark"
   ]
  },
  {
   "cell_type": "code",
   "execution_count": 2,
   "id": "9b037540-20cf-4089-99b3-7c19d7393ef4",
   "metadata": {},
   "outputs": [],
   "source": [
    "spark = SparkSession.builder.appName(\"ProcesaDatosNYC\").getOrCreate()"
   ]
  },
  {
   "cell_type": "markdown",
   "id": "1d17076f-aa9a-40a1-bc07-4c3bf49c0ab6",
   "metadata": {},
   "source": [
    "### Leer parquet crudo"
   ]
  },
  {
   "cell_type": "code",
   "execution_count": 3,
   "id": "b7de4339-8e44-460c-8585-79939fe24e3a",
   "metadata": {},
   "outputs": [],
   "source": [
    "df = spark.read.parquet(\"../data/processed/yellow_2019_raw.parquet\")"
   ]
  },
  {
   "cell_type": "markdown",
   "id": "8fc34ed8-8905-48a9-94db-382c0e44769f",
   "metadata": {},
   "source": [
    "### Calcular duración en minutos"
   ]
  },
  {
   "cell_type": "code",
   "execution_count": 4,
   "id": "edc69523-2d26-4a03-a673-433a6888ed5a",
   "metadata": {},
   "outputs": [],
   "source": [
    "df = df.withColumn(\"pickup_ts\", unix_timestamp(\"tpep_pickup_datetime\"))\n",
    "df = df.withColumn(\"dropoff_ts\", unix_timestamp(\"tpep_dropoff_datetime\"))\n",
    "df = df.withColumn(\"duracion_min\", round((df[\"dropoff_ts\"] - df[\"pickup_ts\"]) / 60, 2))"
   ]
  },
  {
   "cell_type": "markdown",
   "id": "fce90cae-b61e-4e60-9531-e1cfa298612e",
   "metadata": {},
   "source": [
    "### Enriquecer con hora y día"
   ]
  },
  {
   "cell_type": "code",
   "execution_count": 5,
   "id": "2014179d-ec4d-46b1-bd2c-5637595aeaaf",
   "metadata": {},
   "outputs": [],
   "source": [
    "df = df.withColumn(\"hora_recogida\", hour(\"tpep_pickup_datetime\"))\n",
    "df = df.withColumn(\"dia_semana\", dayofweek(\"tpep_pickup_datetime\"))"
   ]
  },
  {
   "cell_type": "markdown",
   "id": "9a914bb5-6b51-4ae4-89da-c3fa913773bc",
   "metadata": {},
   "source": [
    "### Filtrar viajes inválidos"
   ]
  },
  {
   "cell_type": "code",
   "execution_count": 6,
   "id": "2ab657b1-dbdb-490b-86e5-af5ea417f60d",
   "metadata": {},
   "outputs": [],
   "source": [
    "df = df.filter((df[\"duracion_min\"] > 1) & (df[\"duracion_min\"] < 180))"
   ]
  },
  {
   "cell_type": "markdown",
   "id": "81b01252-e265-4f07-8e37-316fb865655e",
   "metadata": {},
   "source": [
    "### Guardar dataset procesado"
   ]
  },
  {
   "cell_type": "code",
   "execution_count": 7,
   "id": "585b5dc7-5e66-45ce-801a-e590762bdbf3",
   "metadata": {},
   "outputs": [],
   "source": [
    "df.write.mode(\"overwrite\").parquet(\"../data/processed/yellow_2019_processed.parquet\")"
   ]
  },
  {
   "cell_type": "code",
   "execution_count": 8,
   "id": "ede6915a-2dba-43fa-8d38-0fd80908e4e6",
   "metadata": {},
   "outputs": [],
   "source": [
    "spark.stop()"
   ]
  }
 ],
 "metadata": {
  "kernelspec": {
   "display_name": "Python 3 (ipykernel)",
   "language": "python",
   "name": "python3"
  },
  "language_info": {
   "codemirror_mode": {
    "name": "ipython",
    "version": 3
   },
   "file_extension": ".py",
   "mimetype": "text/x-python",
   "name": "python",
   "nbconvert_exporter": "python",
   "pygments_lexer": "ipython3",
   "version": "3.12.10"
  }
 },
 "nbformat": 4,
 "nbformat_minor": 5
}
