{
 "cells": [
  {
   "cell_type": "code",
   "execution_count": 3,
   "id": "2df50ed6-845e-467e-b0f4-c84ec03c1686",
   "metadata": {},
   "outputs": [
    {
     "name": "stdout",
     "output_type": "stream",
     "text": [
      "📂 Estoy parado en: /home/jovyan/work/taxi-model-pyspark/notebooks\n",
      "🔍 Buscando archivo: /home/jovyan/work/taxi-model-pyspark/data/raw/yellow_tripdata_2019.csv\n",
      "🧾 Contenido del directorio:\n",
      "['yellow_tripdata_2019-03.csv', 'yellow_2019_processed.parquet', '.ipynb_checkpoints', 'yellow_tripdata_2019-08.csv', '.gitkeep', 'yellow_tripdata_2019-04.csv', 'yellow_tripdata_2019-01.csv', 'yellow_tripdata_2019-09.csv', 'yellow_tripdata_2019-05.csv', 'yellow_tripdata_2019-10.csv', 'yellow_tripdata_2019-06.csv', 'yellow_tripdata_2019-11.csv', 'yellow_tripdata_2019-02.csv', 'yellow_tripdata_2019-12.csv', 'yellow_tripdata_2019-07.csv']\n"
     ]
    }
   ],
   "source": [
    "import os\n",
    "\n",
    "# Ruta esperada dentro del contenedor\n",
    "csv_path = \"/home/jovyan/work/taxi-model-pyspark/data/raw/yellow_tripdata_2019.csv\"\n",
    "\n",
    "print(\"📂 Estoy parado en:\", os.getcwd())\n",
    "print(\"🔍 Buscando archivo:\", csv_path)\n",
    "print(\"🧾 Contenido del directorio:\")\n",
    "print(os.listdir(\"/home/jovyan/work/taxi-model-pyspark/data/raw\"))\n"
   ]
  },
  {
   "cell_type": "code",
   "execution_count": null,
   "id": "47eeb97b-5bae-432b-bafd-dd42effea685",
   "metadata": {},
   "outputs": [],
   "source": []
  }
 ],
 "metadata": {
  "kernelspec": {
   "display_name": "Python 3 (ipykernel)",
   "language": "python",
   "name": "python3"
  },
  "language_info": {
   "codemirror_mode": {
    "name": "ipython",
    "version": 3
   },
   "file_extension": ".py",
   "mimetype": "text/x-python",
   "name": "python",
   "nbconvert_exporter": "python",
   "pygments_lexer": "ipython3",
   "version": "3.12.10"
  }
 },
 "nbformat": 4,
 "nbformat_minor": 5
}
