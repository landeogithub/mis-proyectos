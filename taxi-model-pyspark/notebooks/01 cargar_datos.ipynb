{
 "cells": [
  {
   "cell_type": "markdown",
   "id": "f123743e-9213-4073-a13e-c2351d3e572f",
   "metadata": {},
   "source": [
    "### Importar Librerias"
   ]
  },
  {
   "cell_type": "code",
   "execution_count": 1,
   "id": "11747399-88bf-42e8-9c11-5a558c0c5950",
   "metadata": {},
   "outputs": [],
   "source": [
    "from pyspark.sql import SparkSession\n",
    "from pyspark.sql.types import StructType, StructField, IntegerType, DoubleType, StringType, TimestampType\n",
    "from pyspark.sql.functions import to_timestamp"
   ]
  },
  {
   "cell_type": "markdown",
   "id": "8e14cf77-c7ab-4589-bef5-4aad0e0911f6",
   "metadata": {},
   "source": [
    "### Crea una Session en PySpark"
   ]
  },
  {
   "cell_type": "code",
   "execution_count": 2,
   "id": "4737aaf3-0f46-40e3-9867-993d277119f3",
   "metadata": {},
   "outputs": [],
   "source": [
    "spark = SparkSession.builder.appName(\"CargarDatosNYC\").getOrCreate()"
   ]
  },
  {
   "cell_type": "markdown",
   "id": "d7e6edfa-9320-46c0-970b-6a98b77f3ce1",
   "metadata": {},
   "source": [
    "### Definir las variables y sus tipos"
   ]
  },
  {
   "cell_type": "code",
   "execution_count": 3,
   "id": "9df937be-ad51-4a75-83bc-bf775d83f3bb",
   "metadata": {},
   "outputs": [],
   "source": [
    "# Esquema definido\n",
    "schema = StructType([\n",
    "    StructField(\"VendorID\", IntegerType(), True),\n",
    "    StructField(\"tpep_pickup_datetime\", StringType(), True),\n",
    "    StructField(\"tpep_dropoff_datetime\", StringType(), True),\n",
    "    StructField(\"passenger_count\", IntegerType(), True),\n",
    "    StructField(\"trip_distance\", DoubleType(), True),\n",
    "    StructField(\"RatecodeID\", IntegerType(), True),\n",
    "    StructField(\"store_and_fwd_flag\", StringType(), True),\n",
    "    StructField(\"PULocationID\", IntegerType(), True),\n",
    "    StructField(\"DOLocationID\", IntegerType(), True),\n",
    "    StructField(\"payment_type\", IntegerType(), True),\n",
    "    StructField(\"fare_amount\", DoubleType(), True),\n",
    "    StructField(\"extra\", DoubleType(), True),\n",
    "    StructField(\"mta_tax\", DoubleType(), True),\n",
    "    StructField(\"tip_amount\", DoubleType(), True),\n",
    "    StructField(\"tolls_amount\", DoubleType(), True),\n",
    "    StructField(\"improvement_surcharge\", DoubleType(), True),\n",
    "    StructField(\"total_amount\", DoubleType(), True),\n",
    "    StructField(\"congestion_surcharge\", DoubleType(), True)\n",
    "])"
   ]
  },
  {
   "cell_type": "markdown",
   "id": "0f26a680-89ad-4e10-84e0-86f90050cca2",
   "metadata": {},
   "source": [
    "### Leer los CSVs con los campos y tipos definidos"
   ]
  },
  {
   "cell_type": "code",
   "execution_count": 4,
   "id": "112d5f4a-c217-4864-bd56-55126fe282a3",
   "metadata": {},
   "outputs": [],
   "source": [
    "df = spark.read.csv(\"../data/raw/yellow_tripdata_2019-*.csv\", header=True, schema=schema)"
   ]
  },
  {
   "cell_type": "markdown",
   "id": "a7982d2c-a046-433e-a9ab-641c20f24266",
   "metadata": {},
   "source": [
    "### Convertir a timestamp"
   ]
  },
  {
   "cell_type": "code",
   "execution_count": 5,
   "id": "4dd24717-cd2f-4d60-8974-94764e92846d",
   "metadata": {},
   "outputs": [],
   "source": [
    "df = df.withColumn(\"tpep_pickup_datetime\", to_timestamp(\"tpep_pickup_datetime\"))\n",
    "df = df.withColumn(\"tpep_dropoff_datetime\", to_timestamp(\"tpep_dropoff_datetime\"))"
   ]
  },
  {
   "cell_type": "markdown",
   "id": "8e64a38d-9a47-48e2-9f67-7d497b3f2377",
   "metadata": {},
   "source": [
    "### Guardar en Parquet"
   ]
  },
  {
   "cell_type": "code",
   "execution_count": 6,
   "id": "80f4eaa0-40df-411b-b5b5-5a1448c9a7cd",
   "metadata": {},
   "outputs": [
    {
     "name": "stdout",
     "output_type": "stream",
     "text": [
      "✅ Datos cargados y guardados como Parquet\n"
     ]
    }
   ],
   "source": [
    "df.write.mode(\"overwrite\").parquet(\"../data/processed/yellow_2019_raw.parquet\")\n",
    "\n",
    "print(\"✅ Datos cargados y guardados como Parquet\")"
   ]
  },
  {
   "cell_type": "markdown",
   "id": "4679ad63-f3ef-45a3-b86b-fbb838752aaa",
   "metadata": {},
   "source": [
    "### Cerrar Spark"
   ]
  },
  {
   "cell_type": "code",
   "execution_count": 7,
   "id": "4ec2f834-ab3c-4c9e-99cd-668e7ab925b5",
   "metadata": {},
   "outputs": [],
   "source": [
    "spark.stop()"
   ]
  }
 ],
 "metadata": {
  "kernelspec": {
   "display_name": "Python 3 (ipykernel)",
   "language": "python",
   "name": "python3"
  },
  "language_info": {
   "codemirror_mode": {
    "name": "ipython",
    "version": 3
   },
   "file_extension": ".py",
   "mimetype": "text/x-python",
   "name": "python",
   "nbconvert_exporter": "python",
   "pygments_lexer": "ipython3",
   "version": "3.12.10"
  }
 },
 "nbformat": 4,
 "nbformat_minor": 5
}
