{
 "cells": [
  {
   "cell_type": "code",
   "execution_count": 1,
   "id": "6a6cab47-bace-4431-ab8d-eb501959c682",
   "metadata": {},
   "outputs": [],
   "source": [
    "from ml_model import ModelRunner\n",
    "import pandas as pd"
   ]
  },
  {
   "cell_type": "code",
   "execution_count": 2,
   "id": "f1a66699-6778-4c4a-a596-b59e3802f3da",
   "metadata": {},
   "outputs": [
    {
     "name": "stdout",
     "output_type": "stream",
     "text": [
      "<class 'pandas.core.frame.DataFrame'>\n",
      "RangeIndex: 70042 entries, 0 to 70041\n",
      "Data columns (total 13 columns):\n",
      " #   Column       Non-Null Count  Dtype  \n",
      "---  ------       --------------  -----  \n",
      " 0   age          70042 non-null  float64\n",
      " 1   height       70042 non-null  float64\n",
      " 2   weight       70042 non-null  float64\n",
      " 3   ap_hi        70042 non-null  float64\n",
      " 4   ap_lo        70042 non-null  float64\n",
      " 5   cholesterol  70042 non-null  float64\n",
      " 6   gluc         70042 non-null  float64\n",
      " 7   smoke        70042 non-null  float64\n",
      " 8   alco         70042 non-null  float64\n",
      " 9   active       70042 non-null  float64\n",
      " 10  hombre       70042 non-null  float64\n",
      " 11  mujer        70042 non-null  float64\n",
      " 12  cardio       70042 non-null  int64  \n",
      "dtypes: float64(12), int64(1)\n",
      "memory usage: 6.9 MB\n"
     ]
    }
   ],
   "source": [
    "xDataSet = pd.read_parquet('../data/processed/dataset_cardio_balan.parquet')\n",
    "xDataSet.info()"
   ]
  },
  {
   "cell_type": "code",
   "execution_count": null,
   "id": "8467b6b3-cf74-4779-aa73-450deceb2d75",
   "metadata": {},
   "outputs": [
    {
     "name": "stdout",
     "output_type": "stream",
     "text": [
      "Entrenando modelo: SVC(kernel='linear', probability=True) con % 0.1\n"
     ]
    }
   ],
   "source": [
    "example = {\n",
    "    \"age\": 18393, \"height\": 168, \"weight\": 62.0, \"ap_hi\": 110, \"ap_lo\": 80,\n",
    "    \"cholesterol\": 1, \"gluc\": 1, \"smoke\": 0, \"alco\": 0, \"active\": 1, \"hombre\": 1, \"mujer\": 0\n",
    "}\n",
    "\n",
    "# Crear el runner\n",
    "runner = ModelRunner(\n",
    "    dataset=xDataSet,                  # tu DataFrame\n",
    "    target_column=\"cardio\",          # la columna objetivo\n",
    "    mlflow_url=\"http://172.26.58.45:5000\",  # tu tracking server\n",
    "    experiment_name=\"heart_attack\",\n",
    "    input_example = example\n",
    ")\n",
    "\n",
    "# Ejecutar los entrenamientos\n",
    "\n",
    "runner.run()"
   ]
  }
 ],
 "metadata": {
  "kernelspec": {
   "display_name": "Python 3 (ipykernel)",
   "language": "python",
   "name": "python3"
  },
  "language_info": {
   "codemirror_mode": {
    "name": "ipython",
    "version": 3
   },
   "file_extension": ".py",
   "mimetype": "text/x-python",
   "name": "python",
   "nbconvert_exporter": "python",
   "pygments_lexer": "ipython3",
   "version": "3.11.6"
  }
 },
 "nbformat": 4,
 "nbformat_minor": 5
}
