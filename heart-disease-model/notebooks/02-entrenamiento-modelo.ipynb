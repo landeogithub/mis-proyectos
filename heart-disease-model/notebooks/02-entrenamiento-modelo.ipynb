{
 "cells": [
  {
   "cell_type": "markdown",
   "id": "45a01c43-db62-4924-a967-9a7f3d683bba",
   "metadata": {},
   "source": [
    "<div style=\"background-color:AliceBlue; padding:10px; border-left:5px solid #2e8b57; margin-bottom:10px;\">\n",
    "  <h4 style=\"font-size:13px;\">✅ <strong>Importando Librerias</strong></h4>\n",
    "</div>"
   ]
  },
  {
   "cell_type": "code",
   "execution_count": 1,
   "id": "927feb4c-5bf7-4f78-94de-347c3da473b8",
   "metadata": {},
   "outputs": [],
   "source": [
    "import pandas as pd\n",
    "\n",
    "xSubDataSet =  '../data/processed/SubDataSet.parquet'\n",
    "xDataSet    =  '../data/processed/DataSet.parquet'\n",
    "xTrain      =  '../data/processed/Train.parquet'\n",
    "xValid      =  '../data/processed/Validation.parquet'\n",
    "xMlFlow     =  'http://127.0.0.1:8080'\n",
    "xPorcen     = 0.20"
   ]
  },
  {
   "cell_type": "markdown",
   "id": "8ef4d137-4734-44df-b983-04c74bc4b47d",
   "metadata": {},
   "source": [
    "<div style=\"background-color:AliceBlue; padding:10px; border-left:5px solid #2e8b57; margin-bottom:10px;\">\n",
    "  <h4 style=\"font-size:13px;\">✅ <strong>Importando DataSet</strong></h4>\n",
    "</div>"
   ]
  },
  {
   "cell_type": "code",
   "execution_count": 2,
   "id": "3ec0bbe5-b049-4c16-81c1-ff8262b28f45",
   "metadata": {},
   "outputs": [
    {
     "data": {
      "text/html": [
       "<div>\n",
       "<style scoped>\n",
       "    .dataframe tbody tr th:only-of-type {\n",
       "        vertical-align: middle;\n",
       "    }\n",
       "\n",
       "    .dataframe tbody tr th {\n",
       "        vertical-align: top;\n",
       "    }\n",
       "\n",
       "    .dataframe thead th {\n",
       "        text-align: right;\n",
       "    }\n",
       "</style>\n",
       "<table border=\"1\" class=\"dataframe\">\n",
       "  <thead>\n",
       "    <tr style=\"text-align: right;\">\n",
       "      <th></th>\n",
       "      <th>age</th>\n",
       "      <th>gender</th>\n",
       "      <th>height</th>\n",
       "      <th>weight</th>\n",
       "      <th>ap_hi</th>\n",
       "      <th>ap_lo</th>\n",
       "      <th>cholesterol</th>\n",
       "      <th>gluc</th>\n",
       "      <th>smoke</th>\n",
       "      <th>alco</th>\n",
       "      <th>active</th>\n",
       "      <th>target</th>\n",
       "    </tr>\n",
       "  </thead>\n",
       "  <tbody>\n",
       "    <tr>\n",
       "      <th>0</th>\n",
       "      <td>18393.0</td>\n",
       "      <td>2</td>\n",
       "      <td>168.0</td>\n",
       "      <td>62.0</td>\n",
       "      <td>110.0</td>\n",
       "      <td>80.0</td>\n",
       "      <td>1.0</td>\n",
       "      <td>1.0</td>\n",
       "      <td>0.0</td>\n",
       "      <td>0.0</td>\n",
       "      <td>1.0</td>\n",
       "      <td>0.0</td>\n",
       "    </tr>\n",
       "    <tr>\n",
       "      <th>1</th>\n",
       "      <td>20228.0</td>\n",
       "      <td>1</td>\n",
       "      <td>156.0</td>\n",
       "      <td>85.0</td>\n",
       "      <td>140.0</td>\n",
       "      <td>90.0</td>\n",
       "      <td>3.0</td>\n",
       "      <td>1.0</td>\n",
       "      <td>0.0</td>\n",
       "      <td>0.0</td>\n",
       "      <td>1.0</td>\n",
       "      <td>1.0</td>\n",
       "    </tr>\n",
       "    <tr>\n",
       "      <th>2</th>\n",
       "      <td>18857.0</td>\n",
       "      <td>1</td>\n",
       "      <td>165.0</td>\n",
       "      <td>64.0</td>\n",
       "      <td>130.0</td>\n",
       "      <td>70.0</td>\n",
       "      <td>3.0</td>\n",
       "      <td>1.0</td>\n",
       "      <td>0.0</td>\n",
       "      <td>0.0</td>\n",
       "      <td>0.0</td>\n",
       "      <td>1.0</td>\n",
       "    </tr>\n",
       "    <tr>\n",
       "      <th>3</th>\n",
       "      <td>17623.0</td>\n",
       "      <td>2</td>\n",
       "      <td>169.0</td>\n",
       "      <td>82.0</td>\n",
       "      <td>150.0</td>\n",
       "      <td>100.0</td>\n",
       "      <td>1.0</td>\n",
       "      <td>1.0</td>\n",
       "      <td>0.0</td>\n",
       "      <td>0.0</td>\n",
       "      <td>1.0</td>\n",
       "      <td>1.0</td>\n",
       "    </tr>\n",
       "    <tr>\n",
       "      <th>4</th>\n",
       "      <td>17474.0</td>\n",
       "      <td>1</td>\n",
       "      <td>156.0</td>\n",
       "      <td>56.0</td>\n",
       "      <td>100.0</td>\n",
       "      <td>60.0</td>\n",
       "      <td>1.0</td>\n",
       "      <td>1.0</td>\n",
       "      <td>0.0</td>\n",
       "      <td>0.0</td>\n",
       "      <td>0.0</td>\n",
       "      <td>0.0</td>\n",
       "    </tr>\n",
       "  </tbody>\n",
       "</table>\n",
       "</div>"
      ],
      "text/plain": [
       "       age gender  height  weight  ap_hi  ap_lo  cholesterol  gluc  smoke  \\\n",
       "0  18393.0      2   168.0    62.0  110.0   80.0          1.0   1.0    0.0   \n",
       "1  20228.0      1   156.0    85.0  140.0   90.0          3.0   1.0    0.0   \n",
       "2  18857.0      1   165.0    64.0  130.0   70.0          3.0   1.0    0.0   \n",
       "3  17623.0      2   169.0    82.0  150.0  100.0          1.0   1.0    0.0   \n",
       "4  17474.0      1   156.0    56.0  100.0   60.0          1.0   1.0    0.0   \n",
       "\n",
       "   alco  active  target  \n",
       "0   0.0     1.0     0.0  \n",
       "1   0.0     1.0     1.0  \n",
       "2   0.0     0.0     1.0  \n",
       "3   0.0     1.0     1.0  \n",
       "4   0.0     0.0     0.0  "
      ]
     },
     "execution_count": 2,
     "metadata": {},
     "output_type": "execute_result"
    }
   ],
   "source": [
    "df = pd.read_parquet(xDataSet)\n",
    "df.head()"
   ]
  },
  {
   "cell_type": "markdown",
   "id": "42dc6ecd-d3ce-475c-90d2-2173eef1d6a5",
   "metadata": {},
   "source": [
    "<div style=\"background-color:AliceBlue; padding:10px; border-left:5px solid #2e8b57; margin-bottom:10px;\">\n",
    "  <h4 style=\"font-size:13px;\">✅ <strong>Obteniendo Data Train y Test</strong></h4>\n",
    "</div>"
   ]
  },
  {
   "cell_type": "code",
   "execution_count": 3,
   "id": "0ad01fa8-5ec9-410f-942d-0b5f169f6f1e",
   "metadata": {},
   "outputs": [
    {
     "name": "stdout",
     "output_type": "stream",
     "text": [
      "✅ El archivo \u001b[94m../data/processed/Validation.parquet\u001b[0m fue creado con Exito !!!\n",
      "✅ El archivo \u001b[94m../data/processed/Train.parquet\u001b[0m fue creado con Exito !!!\n"
     ]
    }
   ],
   "source": [
    "Valid_0 = df[df['target'] == 0].sample( frac = xPorcen )\n",
    "Valid_1 = df[df['target'] == 1].sample( frac = xPorcen )\n",
    "\n",
    "Valid = pd.concat([Valid_0, Valid_1])\n",
    "Train = df.drop(Valid.index)\n",
    "\n",
    "try:\n",
    "    Valid.to_parquet(xValid)\n",
    "    print(f\"✅ El archivo \\033[94m{xValid}\\033[0m fue creado con Exito !!!\")\n",
    "    Train.to_parquet(xTrain)\n",
    "    print(f\"✅ El archivo \\033[94m{xTrain}\\033[0m fue creado con Exito !!!\")\n",
    "except Exception as e:\n",
    "    print(f\"❌ {type(e).__name__}: {e}\")\n",
    "    sys.exit(2)\n",
    "\n",
    "del Valid_0, Valid_1, Valid, Train"
   ]
  },
  {
   "cell_type": "markdown",
   "id": "9d2efdf9-aed6-4540-9870-bd905b0c859c",
   "metadata": {},
   "source": [
    "<div style=\"background-color:AliceBlue; padding:10px; border-left:5px solid #2e8b57; margin-bottom:10px;\">\n",
    "  <h4 style=\"font-size:13px;\">✅ <strong>Creando Transformacion de Variables Categoricas a Numericas</strong></h4>\n",
    "</div>"
   ]
  },
  {
   "cell_type": "code",
   "execution_count": 4,
   "id": "226b9ed4-5c64-4517-a70c-4b94fafc4116",
   "metadata": {},
   "outputs": [
    {
     "name": "stdout",
     "output_type": "stream",
     "text": [
      "Columnas categoricas:  ['gender']\n"
     ]
    }
   ],
   "source": [
    "train = pd.read_parquet(xTrain)\n",
    "\n",
    "variables_categoricas = train.select_dtypes(include=[\"object\",\"category\"]).columns.tolist()\n",
    "print(\"Columnas categoricas: \",variables_categoricas) "
   ]
  },
  {
   "cell_type": "code",
   "execution_count": 5,
   "id": "6b1d9751-873f-45ee-950c-6883b81c5bbe",
   "metadata": {},
   "outputs": [],
   "source": [
    "from category_encoders import CatBoostEncoder, TargetEncoder\n",
    "from sklearn.compose import ColumnTransformer\n",
    "\n",
    "preprocessor = ColumnTransformer(\n",
    "    transformers = [ ('target_enc', TargetEncoder(), variables_categoricas) ],\n",
    "    remainder='passthrough'  # deja las columnas numéricas como están\n",
    ")"
   ]
  },
  {
   "cell_type": "markdown",
   "id": "7e06b317-5922-40ef-b33d-ed70e84fe425",
   "metadata": {},
   "source": [
    "<div style=\"background-color:AliceBlue; padding:10px; border-left:5px solid #2e8b57; margin-bottom:10px;\">\n",
    "  <h4 style=\"font-size:13px;\">✅ <strong>Preparando Data para el Training</strong></h4>\n",
    "</div>"
   ]
  },
  {
   "cell_type": "code",
   "execution_count": 6,
   "id": "bc29b044-d702-4855-8577-c6f4e08f614d",
   "metadata": {},
   "outputs": [],
   "source": [
    "X_train = train.drop('target', axis=1)\n",
    "y_train = train['target']\n",
    "\n",
    "test = pd.read_parquet(xValid)\n",
    "X_test = test.drop('target', axis=1)\n",
    "y_test = test['target']"
   ]
  },
  {
   "cell_type": "markdown",
   "id": "b5f6ec33-3beb-4081-bab7-eb4e69769496",
   "metadata": {},
   "source": [
    "<div style=\"background-color:AliceBlue; padding:10px; border-left:5px solid #2e8b57; margin-bottom:10px;\">\n",
    "  <h4 style=\"font-size:13px;\">\n",
    "    ✅ <strong>Entrenando Modelos \n",
    "      <span style=\"color:#2e8b57; font-weight:bold; font-size:14px; background-color:#e0f8e0; padding:2px 4px; border-radius:3px;\">\n",
    "        sklearn.ensemble.RandomForestClassifier\n",
    "      </span>\n",
    "    </strong>\n",
    "  </h4>\n",
    "</div>\n"
   ]
  },
  {
   "cell_type": "code",
   "execution_count": 7,
   "id": "58e9f0c9-96a3-4dff-8dc2-0d8264035e9a",
   "metadata": {},
   "outputs": [],
   "source": [
    "from sklearn.linear_model import LogisticRegression\n",
    "from sklearn.ensemble import RandomForestClassifier\n",
    "from sklearn.svm import SVC\n",
    "from sklearn.metrics import accuracy_score, recall_score, confusion_matrix\n",
    "from sklearn.pipeline import Pipeline\n",
    "\n",
    "import mlflow\n",
    "from mlflow.models.signature import ModelSignature\n",
    "from mlflow.types import Schema, ColSpec\n",
    "from mlflow.models import infer_signature\n",
    "\n",
    "from datetime import datetime\n",
    "import json\n",
    "\n",
    "mlflow.set_tracking_uri(xMlFlow)"
   ]
  },
  {
   "cell_type": "code",
   "execution_count": 8,
   "id": "c4cda2cc-a592-4e73-9490-a085274f2283",
   "metadata": {},
   "outputs": [
    {
     "name": "stdout",
     "output_type": "stream",
     "text": [
      "COMENZANDO A ENTRENAR MODELOS:\n",
      "🏃 View run run_20250906_170028 at: http://127.0.0.1:8080/#/experiments/0/runs/e724466506fd4c53a644ef817221ca23\n",
      "🧪 View experiment at: http://127.0.0.1:8080/#/experiments/0\n",
      "🏃 View run run_20250906_170037 at: http://127.0.0.1:8080/#/experiments/0/runs/8c333334b0f148768d39c75a9b0c54e1\n",
      "🧪 View experiment at: http://127.0.0.1:8080/#/experiments/0\n",
      "🏃 View run run_20250906_170049 at: http://127.0.0.1:8080/#/experiments/0/runs/0af8f161821d4cbdb7d6cb933027a798\n",
      "🧪 View experiment at: http://127.0.0.1:8080/#/experiments/0\n",
      "🏃 View run run_20250906_170058 at: http://127.0.0.1:8080/#/experiments/0/runs/9f57038592204b629cd7bbf6d0a0a497\n",
      "🧪 View experiment at: http://127.0.0.1:8080/#/experiments/0\n",
      "🏃 View run run_20250906_170106 at: http://127.0.0.1:8080/#/experiments/0/runs/2f95cf75d0a84ab7a757f86eab140287\n",
      "🧪 View experiment at: http://127.0.0.1:8080/#/experiments/0\n",
      "🏃 View run run_20250906_170114 at: http://127.0.0.1:8080/#/experiments/0/runs/76379e64b79a43edb7117c57d6df7d4a\n",
      "🧪 View experiment at: http://127.0.0.1:8080/#/experiments/0\n",
      "🏃 View run run_20250906_170131 at: http://127.0.0.1:8080/#/experiments/0/runs/0ae7edb416a64534b4fb023c4f8eb5db\n",
      "🧪 View experiment at: http://127.0.0.1:8080/#/experiments/0\n",
      "🏃 View run run_20250906_170139 at: http://127.0.0.1:8080/#/experiments/0/runs/a22b38dd06b54589971c5f8180058d81\n",
      "🧪 View experiment at: http://127.0.0.1:8080/#/experiments/0\n",
      "🏃 View run run_20250906_170148 at: http://127.0.0.1:8080/#/experiments/0/runs/7fd08ef7e7fc414bac6f60eb91217204\n",
      "🧪 View experiment at: http://127.0.0.1:8080/#/experiments/0\n",
      "🏃 View run run_20250906_170156 at: http://127.0.0.1:8080/#/experiments/0/runs/9fc779fee61040e2bfe111416c7165b9\n",
      "🧪 View experiment at: http://127.0.0.1:8080/#/experiments/0\n"
     ]
    }
   ],
   "source": [
    "\n",
    "configuraciones = [\n",
    "    # Profundo, muchos árboles, muestreo total\n",
    "    {'n_estimators': 400, 'max_depth': None, 'min_samples_split': 2,  'min_samples_leaf': 1,\n",
    "     'max_features': 'sqrt', 'bootstrap': True,  'criterion': 'gini',\n",
    "     'class_weight': 'balanced', 'random_state': 42, 'n_jobs': -1},\n",
    "\n",
    "    # Profundidad media, regularización en hojas\n",
    "    {'n_estimators': 250, 'max_depth': 18,  'min_samples_split': 4,  'min_samples_leaf': 2,\n",
    "     'max_features': 'log2', 'bootstrap': True,  'criterion': 'entropy', 'max_samples': 0.8,\n",
    "     'class_weight': 'balanced', 'random_state': 42, 'n_jobs': -1},\n",
    "\n",
    "    # Árboles menos profundos, más sesgo, menos varianza\n",
    "    {'n_estimators': 200, 'max_depth': 10,  'min_samples_split': 5,  'min_samples_leaf': 2,\n",
    "     'max_features': 'sqrt', 'bootstrap': False, 'criterion': 'gini',\n",
    "     'class_weight': 'balanced', 'random_state': 42, 'n_jobs': -1},\n",
    "\n",
    "    # Profundidad contenida y hojas mínimas de 3\n",
    "    {'n_estimators': 300, 'max_depth': 15,  'min_samples_split': 10, 'min_samples_leaf': 3,\n",
    "     'max_features': 'sqrt', 'bootstrap': True,  'criterion': 'entropy', 'max_samples': 0.7,\n",
    "     'class_weight': 'balanced', 'random_state': 42, 'n_jobs': -1},\n",
    "\n",
    "    # Más árboles, profundidad alta, split moderado\n",
    "    {'n_estimators': 500, 'max_depth': 20,  'min_samples_split': 6,  'min_samples_leaf': 2,\n",
    "     'max_features': 'sqrt', 'bootstrap': True,  'criterion': 'gini', 'max_samples': 0.9,\n",
    "     'class_weight': 'balanced', 'random_state': 42, 'n_jobs': -1},\n",
    "\n",
    "    # Log2 + sin bootstrap para máxima varianza-reducción vía todos los datos por árbol\n",
    "    {'n_estimators': 220, 'max_depth': 18,  'min_samples_split': 4,  'min_samples_leaf': 2,\n",
    "     'max_features': 'log2', 'bootstrap': False, 'criterion': 'gini',\n",
    "     'class_weight': 'balanced', 'random_state': 42, 'n_jobs': -1},\n",
    "\n",
    "    # Árboles pequeños y rápidos (baseline regularizado)\n",
    "    {'n_estimators': 120, 'max_depth': 8,   'min_samples_split': 3,  'min_samples_leaf': 2,\n",
    "     'max_features': 'sqrt', 'bootstrap': True,  'criterion': 'entropy', 'max_samples': 0.75,\n",
    "     'class_weight': 'balanced', 'random_state': 42, 'n_jobs': -1},\n",
    "\n",
    "    # Profundo + hojas mínimas de 4 (reduce overfitting)\n",
    "    {'n_estimators': 180, 'max_depth': None,'min_samples_split': 5,  'min_samples_leaf': 4,\n",
    "     'max_features': None, 'bootstrap': True,  'criterion': 'gini', 'max_samples': 0.65,\n",
    "     'class_weight': 'balanced', 'random_state': 42, 'n_jobs': -1},\n",
    "\n",
    "    # Más sesgo (max_depth=6) para datasets ruidosos\n",
    "    {'n_estimators': 160, 'max_depth': 6,   'min_samples_split': 4,  'min_samples_leaf': 2,\n",
    "     'max_features': 'sqrt', 'bootstrap': False, 'criterion': 'entropy',\n",
    "     'class_weight': 'balanced', 'random_state': 42, 'n_jobs': -1},\n",
    "\n",
    "    # Con límite de hojas para árboles más “simples”\n",
    "    {'n_estimators': 275, 'max_depth': 14,  'min_samples_split': 5,  'min_samples_leaf': 1,\n",
    "     'max_features': 'log2', 'bootstrap': False, 'criterion': 'gini',\n",
    "     'class_weight': 'balanced', 'random_state': 42, 'n_jobs': -1, 'max_leaf_nodes': 2000},\n",
    "]\n",
    "\n",
    "print(\"COMENZANDO A ENTRENAR MODELOS:\")\n",
    "\n",
    "for i, config in enumerate(configuraciones, start=1):\n",
    "\n",
    "    model = RandomForestClassifier(**config)\n",
    "\n",
    "    pipeline = Pipeline(\n",
    "        [ ('preprocesamiento', preprocessor), ('clasificador', model) ]\n",
    "    )\n",
    "\n",
    "    pipeline.fit(X_train, y_train)\n",
    "    y_pred = pipeline.predict(X_test)\n",
    "    y_proba = pipeline.predict_proba(X_test)[:, 1]\n",
    "\n",
    "    # Evaluación\n",
    "    tn, fp, fn, tp = confusion_matrix(y_test, y_pred).ravel()\n",
    "    accuracy = accuracy_score(y_test, y_pred)\n",
    "    error_rate = 1 - accuracy\n",
    "    recall = recall_score(y_test, y_pred)\n",
    "    specificity = tn / (tn + fp) if (tn + fp) > 0 else 0.0\n",
    "    \n",
    "    model_type = type(pipeline.named_steps['clasificador']).__name__\n",
    "\n",
    "    timestamp = datetime.now().strftime(\"%Y%m%d_%H%M%S\")\n",
    "    xName = f\"run_{timestamp}\"\n",
    "    config_str = json.dumps(config)  # sin indentación, todo en una sola línea\n",
    "\n",
    "    signature = infer_signature(X_train, pipeline.predict(X_train))\n",
    "    \n",
    "    input_example = {\n",
    "        \"age\": 18393, \"gender\": \"2\", \"height\": 168, \"weight\": 62.0, \"ap_hi\": 110, \"ap_lo\": 80,\n",
    "        \"cholesterol\": 1, \"gluc\": 1, \"smoke\": 0, \"alco\": 0, \"active\": 1\n",
    "    }\n",
    "\n",
    "    with mlflow.start_run(run_name=xName):\n",
    "        mlflow.log_param(\"1.Modelo_Usado\", model_type)\n",
    "        mlflow.log_param(\"2.Transformacion\", \"category_encoders.TargetEncoder\")\n",
    "        mlflow.log_param(\"3.Porcen Valid\", xPorcen)\n",
    "        mlflow.log_param(\"4.Configuracion\", config_str)\n",
    "        mlflow.log_metric(\"1.Error_Rate\", round(error_rate,5))\n",
    "        mlflow.log_metric(\"2.Accuracy\", round(accuracy,5) )\n",
    "        mlflow.log_metric(\"3.ReCall\", round(recall,5) )\n",
    "        mlflow.log_metric(\"4.Specificity\", round(specificity,5) )\n",
    "        mlflow.sklearn.log_model(\n",
    "            sk_model = pipeline,\n",
    "            artifact_path = \"modelo_random_forest\",\n",
    "            signature = signature,\n",
    "            input_example = input_example\n",
    "        )\n"
   ]
  },
  {
   "cell_type": "code",
   "execution_count": 9,
   "id": "927b822f-eea0-4ebb-b101-5725f36a18a1",
   "metadata": {},
   "outputs": [
    {
     "name": "stdout",
     "output_type": "stream",
     "text": [
      "COMENZANDO A ENTRENAR MODELOS:\n"
     ]
    },
    {
     "name": "stderr",
     "output_type": "stream",
     "text": [
      "C:\\Program Files\\Python312\\Lib\\site-packages\\sklearn\\linear_model\\_logistic.py:465: ConvergenceWarning: lbfgs failed to converge (status=1):\n",
      "STOP: TOTAL NO. of ITERATIONS REACHED LIMIT.\n",
      "\n",
      "Increase the number of iterations (max_iter) or scale the data as shown in:\n",
      "    https://scikit-learn.org/stable/modules/preprocessing.html\n",
      "Please also refer to the documentation for alternative solver options:\n",
      "    https://scikit-learn.org/stable/modules/linear_model.html#logistic-regression\n",
      "  n_iter_i = _check_optimize_result(\n"
     ]
    },
    {
     "name": "stdout",
     "output_type": "stream",
     "text": [
      "🏃 View run run_20250906_170203 at: http://127.0.0.1:8080/#/experiments/0/runs/a6faf384910f4c83b108f65a47cd1489\n",
      "🧪 View experiment at: http://127.0.0.1:8080/#/experiments/0\n"
     ]
    },
    {
     "name": "stderr",
     "output_type": "stream",
     "text": [
      "C:\\Program Files\\Python312\\Lib\\site-packages\\sklearn\\linear_model\\_logistic.py:465: ConvergenceWarning: lbfgs failed to converge (status=1):\n",
      "STOP: TOTAL NO. of ITERATIONS REACHED LIMIT.\n",
      "\n",
      "Increase the number of iterations (max_iter) or scale the data as shown in:\n",
      "    https://scikit-learn.org/stable/modules/preprocessing.html\n",
      "Please also refer to the documentation for alternative solver options:\n",
      "    https://scikit-learn.org/stable/modules/linear_model.html#logistic-regression\n",
      "  n_iter_i = _check_optimize_result(\n"
     ]
    },
    {
     "name": "stdout",
     "output_type": "stream",
     "text": [
      "🏃 View run run_20250906_170211 at: http://127.0.0.1:8080/#/experiments/0/runs/cacab619ede04762aeb897f601d6c242\n",
      "🧪 View experiment at: http://127.0.0.1:8080/#/experiments/0\n"
     ]
    },
    {
     "name": "stderr",
     "output_type": "stream",
     "text": [
      "C:\\Program Files\\Python312\\Lib\\site-packages\\scipy\\optimize\\_linesearch.py:312: LineSearchWarning: The line search algorithm did not converge\n",
      "  alpha_star, phi_star, old_fval, derphi_star = scalar_search_wolfe2(\n",
      "C:\\Program Files\\Python312\\Lib\\site-packages\\sklearn\\utils\\optimize.py:100: LineSearchWarning: The line search algorithm did not converge\n",
      "  ret = line_search_wolfe2(\n"
     ]
    },
    {
     "name": "stdout",
     "output_type": "stream",
     "text": [
      "🏃 View run run_20250906_170222 at: http://127.0.0.1:8080/#/experiments/0/runs/46812d2645ff45439c2c6951cbae4afe\n",
      "🧪 View experiment at: http://127.0.0.1:8080/#/experiments/0\n",
      "🏃 View run run_20250906_170228 at: http://127.0.0.1:8080/#/experiments/0/runs/ea57d5f8249f4579a80c2df2dc29d886\n",
      "🧪 View experiment at: http://127.0.0.1:8080/#/experiments/0\n",
      "🏃 View run run_20250906_170234 at: http://127.0.0.1:8080/#/experiments/0/runs/2ff71f47d3c147199e6f2840381b137e\n",
      "🧪 View experiment at: http://127.0.0.1:8080/#/experiments/0\n"
     ]
    },
    {
     "name": "stderr",
     "output_type": "stream",
     "text": [
      "C:\\Program Files\\Python312\\Lib\\site-packages\\sklearn\\linear_model\\_sag.py:348: ConvergenceWarning: The max_iter was reached which means the coef_ did not converge\n",
      "  warnings.warn(\n"
     ]
    },
    {
     "name": "stdout",
     "output_type": "stream",
     "text": [
      "🏃 View run run_20250906_170251 at: http://127.0.0.1:8080/#/experiments/0/runs/77e324697ff641aaa715adc3d7ae92fa\n",
      "🧪 View experiment at: http://127.0.0.1:8080/#/experiments/0\n"
     ]
    },
    {
     "name": "stderr",
     "output_type": "stream",
     "text": [
      "C:\\Program Files\\Python312\\Lib\\site-packages\\sklearn\\linear_model\\_sag.py:348: ConvergenceWarning: The max_iter was reached which means the coef_ did not converge\n",
      "  warnings.warn(\n"
     ]
    },
    {
     "name": "stdout",
     "output_type": "stream",
     "text": [
      "🏃 View run run_20250906_170309 at: http://127.0.0.1:8080/#/experiments/0/runs/d819c43f96c54ac0b114ee260d6ad1ec\n",
      "🧪 View experiment at: http://127.0.0.1:8080/#/experiments/0\n"
     ]
    },
    {
     "name": "stderr",
     "output_type": "stream",
     "text": [
      "C:\\Program Files\\Python312\\Lib\\site-packages\\sklearn\\linear_model\\_sag.py:348: ConvergenceWarning: The max_iter was reached which means the coef_ did not converge\n",
      "  warnings.warn(\n"
     ]
    },
    {
     "name": "stdout",
     "output_type": "stream",
     "text": [
      "🏃 View run run_20250906_170324 at: http://127.0.0.1:8080/#/experiments/0/runs/e2ef241bec5748ffb16b5820e2a1344a\n",
      "🧪 View experiment at: http://127.0.0.1:8080/#/experiments/0\n"
     ]
    },
    {
     "name": "stderr",
     "output_type": "stream",
     "text": [
      "C:\\Program Files\\Python312\\Lib\\site-packages\\sklearn\\linear_model\\_sag.py:348: ConvergenceWarning: The max_iter was reached which means the coef_ did not converge\n",
      "  warnings.warn(\n"
     ]
    },
    {
     "name": "stdout",
     "output_type": "stream",
     "text": [
      "🏃 View run run_20250906_170336 at: http://127.0.0.1:8080/#/experiments/0/runs/706bb60bfada4d2193a1946049cca466\n",
      "🧪 View experiment at: http://127.0.0.1:8080/#/experiments/0\n"
     ]
    },
    {
     "name": "stderr",
     "output_type": "stream",
     "text": [
      "C:\\Program Files\\Python312\\Lib\\site-packages\\sklearn\\linear_model\\_sag.py:348: ConvergenceWarning: The max_iter was reached which means the coef_ did not converge\n",
      "  warnings.warn(\n"
     ]
    },
    {
     "name": "stdout",
     "output_type": "stream",
     "text": [
      "🏃 View run run_20250906_170349 at: http://127.0.0.1:8080/#/experiments/0/runs/b44f65be856146b6b800991b8f1a1108\n",
      "🧪 View experiment at: http://127.0.0.1:8080/#/experiments/0\n"
     ]
    }
   ],
   "source": [
    "\n",
    "configuraciones = [\n",
    "    # Regularización estándar, baseline\n",
    "    {'penalty': 'l2', 'C': 1.0, 'solver': 'lbfgs', 'max_iter': 1000, 'random_state': 42},\n",
    "    # Regularización fuerte (C pequeño)\n",
    "    {'penalty': 'l2', 'C': 0.05, 'solver': 'lbfgs', 'max_iter': 2000, 'random_state': 42},\n",
    "    # Regularización débil (C grande)\n",
    "    {'penalty': 'l2', 'C': 10.0, 'solver': 'newton-cg', 'max_iter': 1500, 'random_state': 42},\n",
    "    # L1 con liblinear\n",
    "    {'penalty': 'l1', 'C': 0.5, 'solver': 'liblinear', 'max_iter': 800, 'random_state': 42},\n",
    "    # L1 balanceado\n",
    "    {'penalty': 'l1', 'C': 1.0, 'solver': 'liblinear', 'max_iter': 1000, 'class_weight': 'balanced', 'random_state': 42},\n",
    "    # Elastic Net 50/50\n",
    "    {'penalty': 'elasticnet', 'C': 1.0, 'solver': 'saga', 'l1_ratio': 0.5, 'max_iter': 1200, 'random_state': 42},\n",
    "    # Elastic Net más hacia L1\n",
    "    {'penalty': 'elasticnet', 'C': 0.7, 'solver': 'saga', 'l1_ratio': 0.7, 'max_iter': 1200, 'random_state': 42},\n",
    "    # Elastic Net más hacia L2\n",
    "    {'penalty': 'elasticnet', 'C': 0.7, 'solver': 'saga', 'l1_ratio': 0.3, 'max_iter': 1200, 'random_state': 42},\n",
    "    # Solver SAG para datasets grandes\n",
    "    {'penalty': 'l2', 'C': 1.5, 'solver': 'sag', 'max_iter': 1000, 'n_jobs': -1, 'random_state': 42},\n",
    "    # Solver SAGA con balance de clases\n",
    "    {'penalty': 'l2', 'C': 0.6, 'solver': 'saga', 'max_iter': 1100, 'class_weight': 'balanced', 'n_jobs': -1, 'random_state': 42},\n",
    "]\n",
    "\n",
    "print(\"COMENZANDO A ENTRENAR MODELOS:\")\n",
    "\n",
    "for i, config in enumerate(configuraciones, start=1):\n",
    "\n",
    "    model = LogisticRegression(**config)\n",
    "\n",
    "    pipeline = Pipeline(\n",
    "        [ ('preprocesamiento', preprocessor), ('clasificador', model) ]\n",
    "    )\n",
    "\n",
    "    pipeline.fit(X_train, y_train)\n",
    "    y_pred = pipeline.predict(X_test)\n",
    "    y_proba = pipeline.predict_proba(X_test)[:, 1]\n",
    "\n",
    "    # Evaluación\n",
    "    tn, fp, fn, tp = confusion_matrix(y_test, y_pred).ravel()\n",
    "    accuracy = accuracy_score(y_test, y_pred)\n",
    "    error_rate = 1 - accuracy\n",
    "    recall = recall_score(y_test, y_pred)\n",
    "    specificity = tn / (tn + fp) if (tn + fp) > 0 else 0.0\n",
    "\n",
    "    model_type = type(pipeline.named_steps['clasificador']).__name__\n",
    "    \n",
    "    timestamp = datetime.now().strftime(\"%Y%m%d_%H%M%S\")\n",
    "    xName = f\"run_{timestamp}\"\n",
    "    config_str = json.dumps(config)  # sin indentación, todo en una sola línea\n",
    "\n",
    "    signature = infer_signature(X_train, pipeline.predict(X_train))\n",
    "    \n",
    "    input_example = {\n",
    "        \"age\": 18393, \"gender\": \"2\", \"height\": 168, \"weight\": 62.0, \"ap_hi\": 110, \"ap_lo\": 80,\n",
    "        \"cholesterol\": 1, \"gluc\": 1, \"smoke\": 0, \"alco\": 0, \"active\": 1\n",
    "    }\n",
    "\n",
    "    with mlflow.start_run(run_name=xName):\n",
    "        mlflow.log_param(\"1.Modelo_Usado\", model_type)\n",
    "        mlflow.log_param(\"2.Transformacion\", \"category_encoders.TargetEncoder\")\n",
    "        mlflow.log_param(\"3.Porcen Valid\", xPorcen)\n",
    "        mlflow.log_param(\"4.Configuracion\", config_str)\n",
    "        mlflow.log_metric(\"1.Error_Rate\", round(error_rate,5))\n",
    "        mlflow.log_metric(\"2.Accuracy\", round(accuracy,5) )\n",
    "        mlflow.log_metric(\"3.ReCall\", round(recall,5) )\n",
    "        mlflow.log_metric(\"4.Specificity\", round(specificity,5) )\n",
    "        mlflow.sklearn.log_model(\n",
    "            sk_model = pipeline,\n",
    "            artifact_path = \"modelo_random_forest\",\n",
    "            signature = signature,\n",
    "            input_example = input_example\n",
    "        )\n"
   ]
  },
  {
   "cell_type": "code",
   "execution_count": null,
   "id": "e1a5e398-48c5-41e8-9efb-eb29a8c92f1e",
   "metadata": {},
   "outputs": [],
   "source": []
  }
 ],
 "metadata": {
  "kernelspec": {
   "display_name": "Python 3 (ipykernel)",
   "language": "python",
   "name": "python3"
  },
  "language_info": {
   "codemirror_mode": {
    "name": "ipython",
    "version": 3
   },
   "file_extension": ".py",
   "mimetype": "text/x-python",
   "name": "python",
   "nbconvert_exporter": "python",
   "pygments_lexer": "ipython3",
   "version": "3.12.8"
  }
 },
 "nbformat": 4,
 "nbformat_minor": 5
}
