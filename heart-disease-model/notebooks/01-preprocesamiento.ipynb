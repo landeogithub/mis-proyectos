{
 "cells": [
  {
   "cell_type": "markdown",
   "id": "db588491",
   "metadata": {},
   "source": [
    "<div style=\"background-color:AliceBlue; padding:10px; border-left:5px solid #2e8b57; margin-bottom:10px;\">\n",
    "  <h4 style=\"font-size:13px;\">✅ <strong>Importando Librerias</strong></h4>\n",
    "</div>"
   ]
  },
  {
   "cell_type": "code",
   "execution_count": 1,
   "id": "29f8ffde",
   "metadata": {},
   "outputs": [],
   "source": [
    "import pandas as pd\n",
    "\n",
    "import sys\n",
    "sys.tracebacklimit = 0   # oculta el traceback completo (0 = sin frames)"
   ]
  },
  {
   "cell_type": "markdown",
   "id": "cb2a79cc",
   "metadata": {},
   "source": [
    "<div style=\"background-color:AliceBlue; padding:10px; border-left:5px solid #2e8b57; margin-bottom:10px;\">\n",
    "  <h4 style=\"font-size:13px;\">✅ <strong>Importando DataSet</strong></h4>\n",
    "</div>"
   ]
  },
  {
   "cell_type": "code",
   "execution_count": 2,
   "id": "c3ac1b67-9157-44e3-bdb9-bb40a88ae1f2",
   "metadata": {},
   "outputs": [
    {
     "name": "stdout",
     "output_type": "stream",
     "text": [
      "✅ Importacion Exitosa\n"
     ]
    }
   ],
   "source": [
    "try:\n",
    "    df = pd.read_csv(\n",
    "        '../data/raw/cardio_train.csv',  # Ruta al archivo\n",
    "        sep=',',                         # Separador: coma\n",
    "        encoding='utf-8',                # Codificación\n",
    "       dtype={                          # Tipos de datos por columna\n",
    "           'id': int,\n",
    "           'age': str,             # Edad en días\n",
    "           'gender': str,          # Genero: 1 = mujer, 2 = hombre (según dataset típico)\n",
    "           'height': float,        # Altura\n",
    "           'weight': float,        # Peso\n",
    "           'ap_hi': float,         # Presión sistólica\n",
    "           'ap_lo': float,         # Presión diastólica\n",
    "           'cholesterol': int,     # Colesterol: 1 = normal, 2 = alto, 3 = muy alto\n",
    "           'gluc': int,            # Glucosa: 1 = normal, 2 = alto, 3 = muy alto\n",
    "           'smoke': int,           # 0 = no fuma, 1 = fuma\n",
    "           'alco': int,            # 0 = no bebe, 1 = bebe\n",
    "           'active': int,          # 0 = inactivo, 1 = activo\n",
    "           'cardio': int           # 0 = sin enfermedad, 1 = con enfermedad\n",
    "       }\n",
    "    )\n",
    "    print(\"✅ Importacion Exitosa\")\n",
    "except Exception as e:\n",
    "    print(f\"❌ {type(e).__name__}: {e}\")\n",
    "    sys.exit(2)"
   ]
  },
  {
   "cell_type": "markdown",
   "id": "07417404-b2a2-4c4f-8c0f-abc789091330",
   "metadata": {},
   "source": [
    "<div style=\"background-color:AliceBlue; padding:10px; border-left:5px solid #2e8b57; margin-bottom:10px;\">\n",
    "  <h4 style=\"font-size:13px;\">✅ <strong>Analizando Variables Perdidas</strong></h4>\n",
    "</div>"
   ]
  },
  {
   "cell_type": "code",
   "execution_count": 3,
   "id": "1b2f0df1-1a84-4027-8a7a-4cf92624ef46",
   "metadata": {},
   "outputs": [
    {
     "data": {
      "text/plain": [
       "id             0.0\n",
       "age            0.0\n",
       "gender         0.0\n",
       "height         0.0\n",
       "weight         0.0\n",
       "ap_hi          0.0\n",
       "ap_lo          0.0\n",
       "cholesterol    0.0\n",
       "gluc           0.0\n",
       "smoke          0.0\n",
       "alco           0.0\n",
       "active         0.0\n",
       "cardio         0.0\n",
       "dtype: float64"
      ]
     },
     "execution_count": 3,
     "metadata": {},
     "output_type": "execute_result"
    }
   ],
   "source": [
    "(df.isnull().sum() / len(df))*100"
   ]
  },
  {
   "cell_type": "code",
   "execution_count": 4,
   "id": "bdabcd55-bbea-4432-b22e-bc672b48f9d0",
   "metadata": {},
   "outputs": [],
   "source": [
    "#df['cod_enti_matricula'] = df['cod_enti_matricula'].fillna(' ')\n",
    "#df['tpoemp_partic_cn'] = df['tpoemp_partic_cn'].fillna(' ')"
   ]
  },
  {
   "cell_type": "code",
   "execution_count": 5,
   "id": "8d95e719-93b3-4d00-9f7a-4aa595d4d495",
   "metadata": {},
   "outputs": [
    {
     "data": {
      "text/plain": [
       "id             0.0\n",
       "age            0.0\n",
       "gender         0.0\n",
       "height         0.0\n",
       "weight         0.0\n",
       "ap_hi          0.0\n",
       "ap_lo          0.0\n",
       "cholesterol    0.0\n",
       "gluc           0.0\n",
       "smoke          0.0\n",
       "alco           0.0\n",
       "active         0.0\n",
       "cardio         0.0\n",
       "dtype: float64"
      ]
     },
     "execution_count": 5,
     "metadata": {},
     "output_type": "execute_result"
    }
   ],
   "source": [
    "(df.isnull().sum() / len(df))*100"
   ]
  },
  {
   "cell_type": "markdown",
   "id": "64713ce4-8911-4665-82fb-f2cfcac7bcf1",
   "metadata": {},
   "source": [
    "<div style=\"background-color:AliceBlue; padding:10px; border-left:5px solid #2e8b57; margin-bottom:10px;\">\n",
    "  <h4 style=\"font-size:13px;\">✅ <strong>Obteniendo un Datos para Probar el Modelo</strong></h4>\n",
    "</div>"
   ]
  },
  {
   "cell_type": "code",
   "execution_count": 6,
   "id": "8f0263fb-2247-49b2-a999-c727c6469380",
   "metadata": {},
   "outputs": [],
   "source": [
    "try:\n",
    "    test_1 = df[df['cardio'] == 1].sample(n=4)\n",
    "    test_2 = df[df['cardio'] == 0].sample(n=8)\n",
    "\n",
    "    test = pd.concat([test_1, test_2], ignore_index=True)\n",
    "    test\n",
    "\n",
    "    test.to_parquet('../data/processed/subset_data.parquet')\n",
    "except Exception as e:\n",
    "    print(f\"❌ {type(e).__name__}: {e}\")\n",
    "    sys.exit(2)"
   ]
  },
  {
   "cell_type": "markdown",
   "id": "5e70a7c2-507e-4e68-8f01-291250907e5c",
   "metadata": {},
   "source": [
    "<div style=\"background-color:AliceBlue; padding:10px; border-left:5px solid #2e8b57; margin-bottom:10px;\">\n",
    "  <h4 style=\"font-size:13px;\">✅ <strong>Verificando si el DataSet necesita balancear</strong></h4>\n",
    "</div>"
   ]
  },
  {
   "cell_type": "code",
   "execution_count": 7,
   "id": "be31e01e-7682-4620-b257-607f224bc5d9",
   "metadata": {},
   "outputs": [
    {
     "name": "stdout",
     "output_type": "stream",
     "text": [
      "✅ Cantidad de Registros: 70000\n",
      "\n",
      "✅ Cantidad de Registros segun Variable Objetivo:\n"
     ]
    },
    {
     "data": {
      "text/plain": [
       "cardio\n",
       "0    35021\n",
       "1    34979\n",
       "Name: count, dtype: int64"
      ]
     },
     "execution_count": 7,
     "metadata": {},
     "output_type": "execute_result"
    }
   ],
   "source": [
    "print(f\"✅ Cantidad de Registros: {len(df)}\")\n",
    "\n",
    "print(\"\\n✅ Cantidad de Registros segun Variable Objetivo:\")\n",
    "df['cardio'].value_counts()"
   ]
  },
  {
   "cell_type": "code",
   "execution_count": 8,
   "id": "2de21cb4",
   "metadata": {},
   "outputs": [
    {
     "data": {
      "text/plain": [
       "cardio\n",
       "0    35021\n",
       "1    34979\n",
       "Name: count, dtype: int64"
      ]
     },
     "execution_count": 8,
     "metadata": {},
     "output_type": "execute_result"
    }
   ],
   "source": [
    "df['cardio'].value_counts()"
   ]
  },
  {
   "cell_type": "markdown",
   "id": "70dd2c2e-5a98-470d-9938-5728dbc1abd6",
   "metadata": {},
   "source": [
    "<div style=\"background-color:AliceBlue; padding:10px; border-left:5px solid #2e8b57; margin-bottom:10px;\">\n",
    "  <h4 style=\"font-size:13px;\">✅ <strong>Balanceando el DataSet</strong></h4>\n",
    "</div>"
   ]
  },
  {
   "cell_type": "code",
   "execution_count": 9,
   "id": "b6806641-8ebc-4492-b165-38c2b42c56e2",
   "metadata": {},
   "outputs": [],
   "source": [
    "from imblearn.over_sampling import RandomOverSampler\n",
    "\n",
    "# Separar variables predictoras y objetivo\n",
    "X = df.drop('cardio', axis=1)\n",
    "y = df['cardio']\n",
    "\n",
    "# Aplicar RandomOverSampler para balancear\n",
    "ros = RandomOverSampler()\n",
    "X_resampled, y_resampled = ros.fit_resample(X, y)\n",
    "\n",
    "# Convertir a DataFrame nuevamente\n",
    "df_balanceados = pd.concat([X_resampled, y_resampled], axis=1)"
   ]
  },
  {
   "cell_type": "code",
   "execution_count": 10,
   "id": "9eedb8d6-46ea-436b-9c83-5aeda7d2302d",
   "metadata": {},
   "outputs": [
    {
     "data": {
      "text/plain": [
       "cardio\n",
       "0    35021\n",
       "1    35021\n",
       "Name: count, dtype: int64"
      ]
     },
     "execution_count": 10,
     "metadata": {},
     "output_type": "execute_result"
    }
   ],
   "source": [
    "df_balanceados['cardio'].value_counts()"
   ]
  },
  {
   "cell_type": "code",
   "execution_count": 11,
   "id": "0727ad04-606c-44d7-8a8b-2f5c07edf9c3",
   "metadata": {
    "tags": []
   },
   "outputs": [],
   "source": [
    "df_balanceados.to_parquet('../data/processed/cardio_prepared.parquet')"
   ]
  },
  {
   "cell_type": "code",
   "execution_count": null,
   "id": "7025d2e2-50c1-4fc2-a005-ac3b51a5a019",
   "metadata": {},
   "outputs": [],
   "source": []
  }
 ],
 "metadata": {
  "kernelspec": {
   "display_name": "Python 3 (ipykernel)",
   "language": "python",
   "name": "python3"
  },
  "language_info": {
   "codemirror_mode": {
    "name": "ipython",
    "version": 3
   },
   "file_extension": ".py",
   "mimetype": "text/x-python",
   "name": "python",
   "nbconvert_exporter": "python",
   "pygments_lexer": "ipython3",
   "version": "3.12.8"
  }
 },
 "nbformat": 4,
 "nbformat_minor": 5
}
