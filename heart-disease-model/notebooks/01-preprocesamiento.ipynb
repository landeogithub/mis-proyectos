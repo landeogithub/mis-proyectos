{
 "cells": [
  {
   "cell_type": "markdown",
   "id": "db588491",
   "metadata": {},
   "source": [
    "<div style=\"background-color:AliceBlue; padding:10px; border-left:5px solid #2e8b57; margin-bottom:10px;\">\n",
    "  <h4 style=\"font-size:13px;\">✅ <strong>Importando Librerias</strong></h4>\n",
    "</div>"
   ]
  },
  {
   "cell_type": "code",
   "execution_count": 1,
   "id": "29f8ffde",
   "metadata": {},
   "outputs": [],
   "source": [
    "import pandas as pd\n",
    "import sys\n",
    "import os"
   ]
  },
  {
   "cell_type": "markdown",
   "id": "97ffca50-aa9c-4ac6-a148-4a86d317f779",
   "metadata": {},
   "source": [
    "<div style=\"background-color:AliceBlue; padding:10px; border-left:5px solid #2e8b57; margin-bottom:10px;\">\n",
    "  <h4 style=\"font-size:13px;\">✅ <strong>Borrando Bases Anteriores</strong></h4>\n",
    "</div>"
   ]
  },
  {
   "cell_type": "code",
   "execution_count": 2,
   "id": "e3bf9756-a8bd-4664-9851-f94a6d9ebda0",
   "metadata": {},
   "outputs": [
    {
     "name": "stdout",
     "output_type": "stream",
     "text": [
      "✅ Archivo \u001b[94m../data/processed/SubDataSet.parquet\u001b[0m eliminado\n",
      "✅ Archivo \u001b[94m../data/processed/DataSet.parquet\u001b[0m eliminado\n"
     ]
    }
   ],
   "source": [
    "xSubDataSet = '../data/processed/SubDataSet.parquet'\n",
    "xDataSet = '../data/processed/DataSet.parquet'\n",
    "\n",
    "if os.path.exists(xSubDataSet):\n",
    "    os.remove(xSubDataSet)\n",
    "    print(f\"✅ Archivo \\033[94m{xSubDataSet}\\033[0m eliminado\")\n",
    "else:\n",
    "    print(f\"❌ El archivo \\033[94m{xSubDataSet}\\033[0m no existe\")\n",
    "\n",
    "if os.path.exists(xDataSet):\n",
    "    os.remove(xDataSet)\n",
    "    print(f\"✅ Archivo \\033[94m{xDataSet}\\033[0m eliminado\")\n",
    "else:\n",
    "    print(f\"❌ El archivo \\033[94m{xDataSet}\\033[0m no existe\")"
   ]
  },
  {
   "cell_type": "markdown",
   "id": "cb2a79cc",
   "metadata": {},
   "source": [
    "<div style=\"background-color:AliceBlue; padding:10px; border-left:5px solid #2e8b57; margin-bottom:10px;\">\n",
    "  <h4 style=\"font-size:13px;\">✅ <strong>Importando DataSet</strong></h4>\n",
    "</div>"
   ]
  },
  {
   "cell_type": "code",
   "execution_count": 3,
   "id": "c3ac1b67-9157-44e3-bdb9-bb40a88ae1f2",
   "metadata": {},
   "outputs": [
    {
     "name": "stdout",
     "output_type": "stream",
     "text": [
      "✅ Importacion Exitosa.\n",
      "✅ Renombrar Variables.\n",
      "✅ Borrar Variables.\n"
     ]
    },
    {
     "data": {
      "text/html": [
       "<div>\n",
       "<style scoped>\n",
       "    .dataframe tbody tr th:only-of-type {\n",
       "        vertical-align: middle;\n",
       "    }\n",
       "\n",
       "    .dataframe tbody tr th {\n",
       "        vertical-align: top;\n",
       "    }\n",
       "\n",
       "    .dataframe thead th {\n",
       "        text-align: right;\n",
       "    }\n",
       "</style>\n",
       "<table border=\"1\" class=\"dataframe\">\n",
       "  <thead>\n",
       "    <tr style=\"text-align: right;\">\n",
       "      <th></th>\n",
       "      <th>age</th>\n",
       "      <th>gender</th>\n",
       "      <th>height</th>\n",
       "      <th>weight</th>\n",
       "      <th>ap_hi</th>\n",
       "      <th>ap_lo</th>\n",
       "      <th>cholesterol</th>\n",
       "      <th>gluc</th>\n",
       "      <th>smoke</th>\n",
       "      <th>alco</th>\n",
       "      <th>active</th>\n",
       "      <th>target</th>\n",
       "    </tr>\n",
       "  </thead>\n",
       "  <tbody>\n",
       "    <tr>\n",
       "      <th>0</th>\n",
       "      <td>18393.0</td>\n",
       "      <td>2</td>\n",
       "      <td>168.0</td>\n",
       "      <td>62.0</td>\n",
       "      <td>110.0</td>\n",
       "      <td>80.0</td>\n",
       "      <td>1.0</td>\n",
       "      <td>1.0</td>\n",
       "      <td>0.0</td>\n",
       "      <td>0.0</td>\n",
       "      <td>1.0</td>\n",
       "      <td>0.0</td>\n",
       "    </tr>\n",
       "    <tr>\n",
       "      <th>1</th>\n",
       "      <td>20228.0</td>\n",
       "      <td>1</td>\n",
       "      <td>156.0</td>\n",
       "      <td>85.0</td>\n",
       "      <td>140.0</td>\n",
       "      <td>90.0</td>\n",
       "      <td>3.0</td>\n",
       "      <td>1.0</td>\n",
       "      <td>0.0</td>\n",
       "      <td>0.0</td>\n",
       "      <td>1.0</td>\n",
       "      <td>1.0</td>\n",
       "    </tr>\n",
       "    <tr>\n",
       "      <th>2</th>\n",
       "      <td>18857.0</td>\n",
       "      <td>1</td>\n",
       "      <td>165.0</td>\n",
       "      <td>64.0</td>\n",
       "      <td>130.0</td>\n",
       "      <td>70.0</td>\n",
       "      <td>3.0</td>\n",
       "      <td>1.0</td>\n",
       "      <td>0.0</td>\n",
       "      <td>0.0</td>\n",
       "      <td>0.0</td>\n",
       "      <td>1.0</td>\n",
       "    </tr>\n",
       "    <tr>\n",
       "      <th>3</th>\n",
       "      <td>17623.0</td>\n",
       "      <td>2</td>\n",
       "      <td>169.0</td>\n",
       "      <td>82.0</td>\n",
       "      <td>150.0</td>\n",
       "      <td>100.0</td>\n",
       "      <td>1.0</td>\n",
       "      <td>1.0</td>\n",
       "      <td>0.0</td>\n",
       "      <td>0.0</td>\n",
       "      <td>1.0</td>\n",
       "      <td>1.0</td>\n",
       "    </tr>\n",
       "    <tr>\n",
       "      <th>4</th>\n",
       "      <td>17474.0</td>\n",
       "      <td>1</td>\n",
       "      <td>156.0</td>\n",
       "      <td>56.0</td>\n",
       "      <td>100.0</td>\n",
       "      <td>60.0</td>\n",
       "      <td>1.0</td>\n",
       "      <td>1.0</td>\n",
       "      <td>0.0</td>\n",
       "      <td>0.0</td>\n",
       "      <td>0.0</td>\n",
       "      <td>0.0</td>\n",
       "    </tr>\n",
       "  </tbody>\n",
       "</table>\n",
       "</div>"
      ],
      "text/plain": [
       "       age gender  height  weight  ap_hi  ap_lo  cholesterol  gluc  smoke  \\\n",
       "0  18393.0      2   168.0    62.0  110.0   80.0          1.0   1.0    0.0   \n",
       "1  20228.0      1   156.0    85.0  140.0   90.0          3.0   1.0    0.0   \n",
       "2  18857.0      1   165.0    64.0  130.0   70.0          3.0   1.0    0.0   \n",
       "3  17623.0      2   169.0    82.0  150.0  100.0          1.0   1.0    0.0   \n",
       "4  17474.0      1   156.0    56.0  100.0   60.0          1.0   1.0    0.0   \n",
       "\n",
       "   alco  active  target  \n",
       "0   0.0     1.0     0.0  \n",
       "1   0.0     1.0     1.0  \n",
       "2   0.0     0.0     1.0  \n",
       "3   0.0     1.0     1.0  \n",
       "4   0.0     0.0     0.0  "
      ]
     },
     "execution_count": 3,
     "metadata": {},
     "output_type": "execute_result"
    }
   ],
   "source": [
    "try:\n",
    "    df = pd.read_csv(\n",
    "        '../data/raw/DataSet.csv',  # Ruta al archivo\n",
    "        sep=',',                         # Separador: coma\n",
    "        encoding='utf-8',                # Codificación\n",
    "        dtype={                          # Tipos de datos por columna\n",
    "            'id': int,\n",
    "            'age': float,           # Edad en días\n",
    "            'gender': str,          # Genero: 1 = mujer, 2 = hombre (según dataset típico)\n",
    "            'height': float,        # Altura\n",
    "            'weight': float,        # Peso\n",
    "            'ap_hi': float,         # Presión sistólica\n",
    "            'ap_lo': float,         # Presión diastólica\n",
    "            'cholesterol': float,   # Colesterol: 1 = normal, 2 = alto, 3 = muy alto\n",
    "            'gluc': float,          # Glucosa: 1 = normal, 2 = alto, 3 = muy alto\n",
    "            'smoke': float,         # 0 = no fuma, 1 = fuma\n",
    "            'alco': float,          # 0 = no bebe, 1 = bebe\n",
    "            'active': float,        # 0 = inactivo, 1 = activo\n",
    "            'cardio': float         # 0 = sin enfermedad, 1 = con enfermedad\n",
    "       }\n",
    "    )\n",
    "    print(\"✅ Importacion Exitosa.\")\n",
    "\n",
    "    df = df.rename(columns={\n",
    "        \"cardio\": \"target\"\n",
    "    })\n",
    "    print(\"✅ Renombrar Variables.\")\n",
    "\n",
    "    df = df.drop('id', axis=1)\n",
    "    print(\"✅ Borrar Variables.\")\n",
    "\n",
    "except Exception as e:\n",
    "    print(f\"❌ {type(e).__name__}: {e}\")\n",
    "    sys.exit(2)\n",
    "df.head()"
   ]
  },
  {
   "cell_type": "markdown",
   "id": "07417404-b2a2-4c4f-8c0f-abc789091330",
   "metadata": {},
   "source": [
    "<div style=\"background-color:AliceBlue; padding:10px; border-left:5px solid #2e8b57; margin-bottom:10px;\">\n",
    "  <h4 style=\"font-size:13px;\">✅ <strong>Analizando Variables Perdidas</strong></h4>\n",
    "</div>"
   ]
  },
  {
   "cell_type": "code",
   "execution_count": 4,
   "id": "1b2f0df1-1a84-4027-8a7a-4cf92624ef46",
   "metadata": {},
   "outputs": [
    {
     "data": {
      "text/plain": [
       "age            0.0\n",
       "gender         0.0\n",
       "height         0.0\n",
       "weight         0.0\n",
       "ap_hi          0.0\n",
       "ap_lo          0.0\n",
       "cholesterol    0.0\n",
       "gluc           0.0\n",
       "smoke          0.0\n",
       "alco           0.0\n",
       "active         0.0\n",
       "target         0.0\n",
       "dtype: float64"
      ]
     },
     "execution_count": 4,
     "metadata": {},
     "output_type": "execute_result"
    }
   ],
   "source": [
    "(df.isnull().sum() / len(df))*100"
   ]
  },
  {
   "cell_type": "code",
   "execution_count": 5,
   "id": "bdabcd55-bbea-4432-b22e-bc672b48f9d0",
   "metadata": {},
   "outputs": [],
   "source": [
    "#df['cod_enti_matricula'] = df['cod_enti_matricula'].fillna(' ')\n",
    "#df['tpoemp_partic_cn'] = df['tpoemp_partic_cn'].fillna(' ')"
   ]
  },
  {
   "cell_type": "code",
   "execution_count": 6,
   "id": "8d95e719-93b3-4d00-9f7a-4aa595d4d495",
   "metadata": {},
   "outputs": [
    {
     "data": {
      "text/plain": [
       "age            0.0\n",
       "gender         0.0\n",
       "height         0.0\n",
       "weight         0.0\n",
       "ap_hi          0.0\n",
       "ap_lo          0.0\n",
       "cholesterol    0.0\n",
       "gluc           0.0\n",
       "smoke          0.0\n",
       "alco           0.0\n",
       "active         0.0\n",
       "target         0.0\n",
       "dtype: float64"
      ]
     },
     "execution_count": 6,
     "metadata": {},
     "output_type": "execute_result"
    }
   ],
   "source": [
    "(df.isnull().sum() / len(df))*100"
   ]
  },
  {
   "cell_type": "markdown",
   "id": "64713ce4-8911-4665-82fb-f2cfcac7bcf1",
   "metadata": {},
   "source": [
    "<div style=\"background-color:AliceBlue; padding:10px; border-left:5px solid #2e8b57; margin-bottom:10px;\">\n",
    "  <h4 style=\"font-size:13px;\">✅ <strong>Obteniendo un Datos para Probar el Modelo</strong></h4>\n",
    "</div>"
   ]
  },
  {
   "cell_type": "code",
   "execution_count": 7,
   "id": "8f0263fb-2247-49b2-a999-c727c6469380",
   "metadata": {},
   "outputs": [
    {
     "name": "stdout",
     "output_type": "stream",
     "text": [
      "✅ El archivo \u001b[94m../data/processed/SubDataSet.parquet\u001b[0m fue creado con Exito !!!\n"
     ]
    }
   ],
   "source": [
    "try:\n",
    "    test_1 = df[df['target'] == 1].sample(n=4)\n",
    "    test_2 = df[df['target'] == 0].sample(n=8)\n",
    "\n",
    "    test = pd.concat([test_1, test_2], ignore_index=True)\n",
    "    test\n",
    "\n",
    "    test.to_parquet(xSubDataSet)\n",
    "    print(f\"✅ El archivo \\033[94m{xSubDataSet}\\033[0m fue creado con Exito !!!\")\n",
    "except Exception as e:\n",
    "    print(f\"❌ {type(e).__name__}: {e}\")\n",
    "    sys.exit(2)"
   ]
  },
  {
   "cell_type": "markdown",
   "id": "5e70a7c2-507e-4e68-8f01-291250907e5c",
   "metadata": {},
   "source": [
    "<div style=\"background-color:AliceBlue; padding:10px; border-left:5px solid #2e8b57; margin-bottom:10px;\">\n",
    "  <h4 style=\"font-size:13px;\">✅ <strong>Verificando si el DataSet necesita balancear</strong></h4>\n",
    "</div>"
   ]
  },
  {
   "cell_type": "code",
   "execution_count": 8,
   "id": "be31e01e-7682-4620-b257-607f224bc5d9",
   "metadata": {},
   "outputs": [
    {
     "name": "stdout",
     "output_type": "stream",
     "text": [
      "✅ Cantidad de Registros: 70000\n",
      "\n",
      "✅ Cantidad de Registros segun Variable Objetivo:\n"
     ]
    },
    {
     "data": {
      "text/plain": [
       "target\n",
       "0.0    35021\n",
       "1.0    34979\n",
       "Name: count, dtype: int64"
      ]
     },
     "execution_count": 8,
     "metadata": {},
     "output_type": "execute_result"
    }
   ],
   "source": [
    "print(f\"✅ Cantidad de Registros: {len(df)}\")\n",
    "\n",
    "print(\"\\n✅ Cantidad de Registros segun Variable Objetivo:\")\n",
    "df['target'].value_counts()"
   ]
  },
  {
   "cell_type": "markdown",
   "id": "70dd2c2e-5a98-470d-9938-5728dbc1abd6",
   "metadata": {},
   "source": [
    "<div style=\"background-color:AliceBlue; padding:10px; border-left:5px solid #2e8b57; margin-bottom:10px;\">\n",
    "  <h4 style=\"font-size:13px;\">✅ <strong>Balanceando el DataSet</strong></h4>\n",
    "</div>"
   ]
  },
  {
   "cell_type": "code",
   "execution_count": 9,
   "id": "b6806641-8ebc-4492-b165-38c2b42c56e2",
   "metadata": {},
   "outputs": [],
   "source": [
    "from imblearn.over_sampling import RandomOverSampler\n",
    "\n",
    "# Separar variables predictoras y objetivo\n",
    "X = df.drop('target', axis=1)\n",
    "y = df['target']\n",
    "\n",
    "# Aplicar RandomOverSampler para balancear\n",
    "ros = RandomOverSampler()\n",
    "X_resampled, y_resampled = ros.fit_resample(X, y)\n",
    "\n",
    "# Convertir a DataFrame nuevamente\n",
    "df_balanceados = pd.concat([X_resampled, y_resampled], axis=1)"
   ]
  },
  {
   "cell_type": "code",
   "execution_count": 10,
   "id": "9eedb8d6-46ea-436b-9c83-5aeda7d2302d",
   "metadata": {},
   "outputs": [
    {
     "data": {
      "text/plain": [
       "target\n",
       "0.0    35021\n",
       "1.0    35021\n",
       "Name: count, dtype: int64"
      ]
     },
     "execution_count": 10,
     "metadata": {},
     "output_type": "execute_result"
    }
   ],
   "source": [
    "df_balanceados['target'].value_counts()"
   ]
  },
  {
   "cell_type": "code",
   "execution_count": 11,
   "id": "0727ad04-606c-44d7-8a8b-2f5c07edf9c3",
   "metadata": {
    "tags": []
   },
   "outputs": [],
   "source": [
    "df_balanceados.to_parquet(xDataSet)"
   ]
  },
  {
   "cell_type": "code",
   "execution_count": null,
   "id": "7025d2e2-50c1-4fc2-a005-ac3b51a5a019",
   "metadata": {},
   "outputs": [],
   "source": []
  }
 ],
 "metadata": {
  "kernelspec": {
   "display_name": "Python 3 (ipykernel)",
   "language": "python",
   "name": "python3"
  },
  "language_info": {
   "codemirror_mode": {
    "name": "ipython",
    "version": 3
   },
   "file_extension": ".py",
   "mimetype": "text/x-python",
   "name": "python",
   "nbconvert_exporter": "python",
   "pygments_lexer": "ipython3",
   "version": "3.12.8"
  }
 },
 "nbformat": 4,
 "nbformat_minor": 5
}
