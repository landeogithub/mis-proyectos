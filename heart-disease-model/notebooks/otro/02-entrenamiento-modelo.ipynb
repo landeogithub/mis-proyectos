{
 "cells": [
  {
   "cell_type": "markdown",
   "id": "45a01c43-db62-4924-a967-9a7f3d683bba",
   "metadata": {},
   "source": [
    "<div style=\"background-color:AliceBlue; padding:10px; border-left:5px solid #2e8b57; margin-bottom:10px;\">\n",
    "  <h4 style=\"font-size:13px;\">✅ <strong>Importando Librerias</strong></h4>\n",
    "</div>"
   ]
  },
  {
   "cell_type": "code",
   "execution_count": 1,
   "id": "927feb4c-5bf7-4f78-94de-347c3da473b8",
   "metadata": {},
   "outputs": [],
   "source": [
    "import pandas as pd"
   ]
  },
  {
   "cell_type": "markdown",
   "id": "8ef4d137-4734-44df-b983-04c74bc4b47d",
   "metadata": {},
   "source": [
    "<div style=\"background-color:AliceBlue; padding:10px; border-left:5px solid #2e8b57; margin-bottom:10px;\">\n",
    "  <h4 style=\"font-size:13px;\">✅ <strong>Importando DataSet</strong></h4>\n",
    "</div>"
   ]
  },
  {
   "cell_type": "code",
   "execution_count": 2,
   "id": "3ec0bbe5-b049-4c16-81c1-ff8262b28f45",
   "metadata": {},
   "outputs": [
    {
     "data": {
      "text/html": [
       "<div>\n",
       "<style scoped>\n",
       "    .dataframe tbody tr th:only-of-type {\n",
       "        vertical-align: middle;\n",
       "    }\n",
       "\n",
       "    .dataframe tbody tr th {\n",
       "        vertical-align: top;\n",
       "    }\n",
       "\n",
       "    .dataframe thead th {\n",
       "        text-align: right;\n",
       "    }\n",
       "</style>\n",
       "<table border=\"1\" class=\"dataframe\">\n",
       "  <thead>\n",
       "    <tr style=\"text-align: right;\">\n",
       "      <th></th>\n",
       "      <th>num_empr_trans</th>\n",
       "      <th>cod_lugar_descarga</th>\n",
       "      <th>tipdocempdoctra</th>\n",
       "      <th>cod_enti_matricula</th>\n",
       "      <th>cod_tip_docu_c0008</th>\n",
       "      <th>cnt_pes_brut_c0008</th>\n",
       "      <th>cnt_bulto_c0008</th>\n",
       "      <th>cnt_volumen_c0008</th>\n",
       "      <th>cnt_container</th>\n",
       "      <th>cod_puer_des_c0008</th>\n",
       "      <th>cod_natucarga</th>\n",
       "      <th>tpoemp_partic_cn</th>\n",
       "      <th>tamano_partic_cn</th>\n",
       "      <th>identi_partic_cn</th>\n",
       "      <th>rat_pes_bult_c0008</th>\n",
       "      <th>segmento_partic_cn</th>\n",
       "      <th>target</th>\n",
       "    </tr>\n",
       "  </thead>\n",
       "  <tbody>\n",
       "    <tr>\n",
       "      <th>0</th>\n",
       "      <td>20259814210</td>\n",
       "      <td>20543083888</td>\n",
       "      <td>1511</td>\n",
       "      <td></td>\n",
       "      <td>704</td>\n",
       "      <td>37060.0</td>\n",
       "      <td>12720.0</td>\n",
       "      <td>600.00</td>\n",
       "      <td>2.0</td>\n",
       "      <td>PECLL</td>\n",
       "      <td>12</td>\n",
       "      <td>39</td>\n",
       "      <td>01</td>\n",
       "      <td>02</td>\n",
       "      <td>2.913522</td>\n",
       "      <td>A</td>\n",
       "      <td>1</td>\n",
       "    </tr>\n",
       "    <tr>\n",
       "      <th>1</th>\n",
       "      <td>20507646051</td>\n",
       "      <td>20513462388</td>\n",
       "      <td>1505</td>\n",
       "      <td>54</td>\n",
       "      <td>714</td>\n",
       "      <td>6790.0</td>\n",
       "      <td>239.0</td>\n",
       "      <td>68.00</td>\n",
       "      <td>1.0</td>\n",
       "      <td>PECLL</td>\n",
       "      <td>12</td>\n",
       "      <td>02</td>\n",
       "      <td>03</td>\n",
       "      <td>01</td>\n",
       "      <td>28.410042</td>\n",
       "      <td>C</td>\n",
       "      <td>0</td>\n",
       "    </tr>\n",
       "    <tr>\n",
       "      <th>2</th>\n",
       "      <td>20507646051</td>\n",
       "      <td>20513462388</td>\n",
       "      <td>1505</td>\n",
       "      <td>54</td>\n",
       "      <td>714</td>\n",
       "      <td>6190.0</td>\n",
       "      <td>280.0</td>\n",
       "      <td>60.44</td>\n",
       "      <td>1.0</td>\n",
       "      <td>PECLL</td>\n",
       "      <td>12</td>\n",
       "      <td>07</td>\n",
       "      <td>03</td>\n",
       "      <td>02</td>\n",
       "      <td>22.107143</td>\n",
       "      <td>C</td>\n",
       "      <td>0</td>\n",
       "    </tr>\n",
       "    <tr>\n",
       "      <th>3</th>\n",
       "      <td>20507646051</td>\n",
       "      <td>20513462388</td>\n",
       "      <td>1505</td>\n",
       "      <td>54</td>\n",
       "      <td>714</td>\n",
       "      <td>20420.0</td>\n",
       "      <td>1143.0</td>\n",
       "      <td>68.00</td>\n",
       "      <td>1.0</td>\n",
       "      <td>PECLL</td>\n",
       "      <td>12</td>\n",
       "      <td>39</td>\n",
       "      <td>02</td>\n",
       "      <td>02</td>\n",
       "      <td>17.865267</td>\n",
       "      <td>C</td>\n",
       "      <td>0</td>\n",
       "    </tr>\n",
       "    <tr>\n",
       "      <th>4</th>\n",
       "      <td>20507646051</td>\n",
       "      <td>20513462388</td>\n",
       "      <td>1505</td>\n",
       "      <td>54</td>\n",
       "      <td>714</td>\n",
       "      <td>6336.0</td>\n",
       "      <td>206.0</td>\n",
       "      <td>28.00</td>\n",
       "      <td>1.0</td>\n",
       "      <td>PECLL</td>\n",
       "      <td>12</td>\n",
       "      <td>39</td>\n",
       "      <td>03</td>\n",
       "      <td>02</td>\n",
       "      <td>30.757282</td>\n",
       "      <td>C</td>\n",
       "      <td>0</td>\n",
       "    </tr>\n",
       "  </tbody>\n",
       "</table>\n",
       "</div>"
      ],
      "text/plain": [
       "  num_empr_trans cod_lugar_descarga tipdocempdoctra cod_enti_matricula  \\\n",
       "0    20259814210        20543083888            1511                      \n",
       "1    20507646051        20513462388            1505                 54   \n",
       "2    20507646051        20513462388            1505                 54   \n",
       "3    20507646051        20513462388            1505                 54   \n",
       "4    20507646051        20513462388            1505                 54   \n",
       "\n",
       "  cod_tip_docu_c0008  cnt_pes_brut_c0008  cnt_bulto_c0008  cnt_volumen_c0008  \\\n",
       "0                704             37060.0          12720.0             600.00   \n",
       "1                714              6790.0            239.0              68.00   \n",
       "2                714              6190.0            280.0              60.44   \n",
       "3                714             20420.0           1143.0              68.00   \n",
       "4                714              6336.0            206.0              28.00   \n",
       "\n",
       "   cnt_container cod_puer_des_c0008 cod_natucarga tpoemp_partic_cn  \\\n",
       "0            2.0              PECLL            12               39   \n",
       "1            1.0              PECLL            12               02   \n",
       "2            1.0              PECLL            12               07   \n",
       "3            1.0              PECLL            12               39   \n",
       "4            1.0              PECLL            12               39   \n",
       "\n",
       "  tamano_partic_cn identi_partic_cn  rat_pes_bult_c0008 segmento_partic_cn  \\\n",
       "0               01               02            2.913522                  A   \n",
       "1               03               01           28.410042                  C   \n",
       "2               03               02           22.107143                  C   \n",
       "3               02               02           17.865267                  C   \n",
       "4               03               02           30.757282                  C   \n",
       "\n",
       "   target  \n",
       "0       1  \n",
       "1       0  \n",
       "2       0  \n",
       "3       0  \n",
       "4       0  "
      ]
     },
     "execution_count": 2,
     "metadata": {},
     "output_type": "execute_result"
    }
   ],
   "source": [
    "df = pd.read_parquet('../data/processed/docutrans_iamc.parquet')\n",
    "df.head()"
   ]
  },
  {
   "cell_type": "markdown",
   "id": "42dc6ecd-d3ce-475c-90d2-2173eef1d6a5",
   "metadata": {},
   "source": [
    "<div style=\"background-color:AliceBlue; padding:10px; border-left:5px solid #2e8b57; margin-bottom:10px;\">\n",
    "  <h4 style=\"font-size:13px;\">✅ <strong>Obteniendo Data Train y Test</strong></h4>\n",
    "</div>"
   ]
  },
  {
   "cell_type": "code",
   "execution_count": 3,
   "id": "0ad01fa8-5ec9-410f-942d-0b5f169f6f1e",
   "metadata": {},
   "outputs": [],
   "source": [
    "test_0 = df[df['target'] == 0].sample(frac=0.10)\n",
    "test_1 = df[df['target'] == 1].sample(frac=0.10)\n",
    "\n",
    "test = pd.concat([test_0, test_1])\n",
    "train = df.drop(test.index)\n",
    "\n",
    "test.to_parquet('../data/processed/test_15.parquet')\n",
    "train.to_parquet('../data/processed/train_85.parquet')\n",
    "\n",
    "del test_0, test_1, test, train"
   ]
  },
  {
   "cell_type": "markdown",
   "id": "9d2efdf9-aed6-4540-9870-bd905b0c859c",
   "metadata": {},
   "source": [
    "<div style=\"background-color:AliceBlue; padding:10px; border-left:5px solid #2e8b57; margin-bottom:10px;\">\n",
    "  <h4 style=\"font-size:13px;\">✅ <strong>Creando Transformacion de Variables Categoricas a Numericas</strong></h4>\n",
    "</div>"
   ]
  },
  {
   "cell_type": "code",
   "execution_count": 4,
   "id": "226b9ed4-5c64-4517-a70c-4b94fafc4116",
   "metadata": {},
   "outputs": [
    {
     "name": "stdout",
     "output_type": "stream",
     "text": [
      "Columnas categoricas:  ['num_empr_trans', 'cod_lugar_descarga', 'tipdocempdoctra', 'cod_enti_matricula', 'cod_tip_docu_c0008', 'cod_puer_des_c0008', 'cod_natucarga', 'tpoemp_partic_cn', 'tamano_partic_cn', 'identi_partic_cn', 'segmento_partic_cn']\n"
     ]
    }
   ],
   "source": [
    "train = pd.read_parquet('../data/processed/train_85.parquet')\n",
    "\n",
    "variables_categoricas = train.select_dtypes(include=[\"object\",\"category\"]).columns.tolist()\n",
    "print(\"Columnas categoricas: \",variables_categoricas) "
   ]
  },
  {
   "cell_type": "code",
   "execution_count": 5,
   "id": "6b1d9751-873f-45ee-950c-6883b81c5bbe",
   "metadata": {},
   "outputs": [],
   "source": [
    "from category_encoders import CatBoostEncoder, TargetEncoder\n",
    "from sklearn.compose import ColumnTransformer\n",
    "\n",
    "preprocessor = ColumnTransformer(\n",
    "    transformers = [ ('target_enc', TargetEncoder(), variables_categoricas) ],\n",
    "    remainder='passthrough'  # deja las columnas numéricas como están\n",
    ")"
   ]
  },
  {
   "cell_type": "markdown",
   "id": "7e06b317-5922-40ef-b33d-ed70e84fe425",
   "metadata": {},
   "source": [
    "<div style=\"background-color:AliceBlue; padding:10px; border-left:5px solid #2e8b57; margin-bottom:10px;\">\n",
    "  <h4 style=\"font-size:13px;\">✅ <strong>Preparando Data para el Training</strong></h4>\n",
    "</div>"
   ]
  },
  {
   "cell_type": "code",
   "execution_count": 6,
   "id": "bc29b044-d702-4855-8577-c6f4e08f614d",
   "metadata": {},
   "outputs": [],
   "source": [
    "X_train = train.drop('target', axis=1)\n",
    "y_train = train['target']\n",
    "\n",
    "test = pd.read_parquet('../data/processed/test_15.parquet')\n",
    "X_test = test.drop('target', axis=1)\n",
    "y_test = test['target']"
   ]
  },
  {
   "cell_type": "markdown",
   "id": "b5f6ec33-3beb-4081-bab7-eb4e69769496",
   "metadata": {},
   "source": [
    "<div style=\"background-color:AliceBlue; padding:10px; border-left:5px solid #2e8b57; margin-bottom:10px;\">\n",
    "  <h4 style=\"font-size:13px;\">\n",
    "    ✅ <strong>Entrenando Modelos \n",
    "      <span style=\"color:#2e8b57; font-weight:bold; font-size:14px; background-color:#e0f8e0; padding:2px 4px; border-radius:3px;\">\n",
    "        sklearn.ensemble.RandomForestClassifier\n",
    "      </span>\n",
    "    </strong>\n",
    "  </h4>\n",
    "</div>\n"
   ]
  },
  {
   "cell_type": "code",
   "execution_count": 9,
   "id": "c4cda2cc-a592-4e73-9490-a085274f2283",
   "metadata": {},
   "outputs": [
    {
     "name": "stdout",
     "output_type": "stream",
     "text": [
      "COMENZANDO A ENTRENAR MODELOS:\n"
     ]
    },
    {
     "name": "stderr",
     "output_type": "stream",
     "text": [
      "\u001b[31m2025/09/06 00:07:09 WARNING mlflow.models.model: Model logged without a signature and input example. Please set `input_example` parameter when logging the model to auto infer the model signature.\u001b[0m\n"
     ]
    },
    {
     "name": "stdout",
     "output_type": "stream",
     "text": [
      "🏃 View run run_20250906_000705 at: http://mlflow.default.svc.cluster.local:5000/#/experiments/0/runs/6a073a30b9754141bde1cc04169ce1b2\n",
      "🧪 View experiment at: http://mlflow.default.svc.cluster.local:5000/#/experiments/0\n"
     ]
    },
    {
     "name": "stderr",
     "output_type": "stream",
     "text": [
      "\u001b[31m2025/09/06 00:07:20 WARNING mlflow.models.model: Model logged without a signature and input example. Please set `input_example` parameter when logging the model to auto infer the model signature.\u001b[0m\n"
     ]
    },
    {
     "name": "stdout",
     "output_type": "stream",
     "text": [
      "🏃 View run run_20250906_000715 at: http://mlflow.default.svc.cluster.local:5000/#/experiments/0/runs/a9ee7f02d65446aa8037bf61a300d473\n",
      "🧪 View experiment at: http://mlflow.default.svc.cluster.local:5000/#/experiments/0\n"
     ]
    },
    {
     "name": "stderr",
     "output_type": "stream",
     "text": [
      "\u001b[31m2025/09/06 00:07:31 WARNING mlflow.models.model: Model logged without a signature and input example. Please set `input_example` parameter when logging the model to auto infer the model signature.\u001b[0m\n"
     ]
    },
    {
     "name": "stdout",
     "output_type": "stream",
     "text": [
      "🏃 View run run_20250906_000727 at: http://mlflow.default.svc.cluster.local:5000/#/experiments/0/runs/d5d00977b68f4fd08da84cf5fdae15b1\n",
      "🧪 View experiment at: http://mlflow.default.svc.cluster.local:5000/#/experiments/0\n"
     ]
    }
   ],
   "source": [
    "from sklearn.ensemble import RandomForestClassifier\n",
    "from sklearn.metrics import accuracy_score\n",
    "import mlflow\n",
    "from datetime import datetime\n",
    "from sklearn.pipeline import Pipeline\n",
    "import json\n",
    "\n",
    "configuraciones = [\n",
    "    {'n_estimators': 100, 'max_depth': None, 'min_samples_split': 2, 'min_samples_leaf': 1, 'max_features': 'sqrt', 'bootstrap': True, 'criterion': 'gini'},\n",
    "    {'n_estimators': 200, 'max_depth': 10, 'min_samples_split': 5, 'min_samples_leaf': 2, 'max_features': 'log2', 'bootstrap': False, 'criterion': 'entropy'},\n",
    "    {'n_estimators': 150, 'max_depth': 20, 'min_samples_split': 10, 'min_samples_leaf': 4, 'max_features': 'sqrt', 'bootstrap': True, 'criterion': 'gini'},\n",
    "    {'n_estimators': 50,  'max_depth': 5,  'min_samples_split': 2, 'min_samples_leaf': 1, 'max_features': 'sqrt', 'bootstrap': True, 'criterion': 'entropy'},\n",
    "    {'n_estimators': 120, 'max_depth': None, 'min_samples_split': 5, 'min_samples_leaf': 2, 'max_features': 'log2', 'bootstrap': False, 'criterion': 'gini'},\n",
    "    {'n_estimators': 300, 'max_depth': 15, 'min_samples_split': 10, 'min_samples_leaf': 3, 'max_features': 'sqrt', 'bootstrap': True, 'criterion': 'entropy'},\n",
    "    {'n_estimators': 80,  'max_depth': 8,  'min_samples_split': 2, 'min_samples_leaf': 1, 'max_features': 'sqrt', 'bootstrap': True, 'criterion': 'gini'},\n",
    "    {'n_estimators': 250, 'max_depth': None, 'min_samples_split': 5, 'min_samples_leaf': 2, 'max_features': 'log2', 'bootstrap': False, 'criterion': 'entropy'},\n",
    "    {'n_estimators': 180, 'max_depth': 12, 'min_samples_split': 3, 'min_samples_leaf': 1, 'max_features': 'sqrt', 'bootstrap': True, 'criterion': 'gini'},\n",
    "    {'n_estimators': 100, 'max_depth': 6,  'min_samples_split': 4, 'min_samples_leaf': 2, 'max_features': 'sqrt', 'bootstrap': False, 'criterion': 'entropy'},\n",
    "    {'n_estimators': 220, 'max_depth': 18, 'min_samples_split': 4, 'min_samples_leaf': 2, 'max_features': 'log2', 'bootstrap': True, 'criterion': 'gini'},\n",
    "    {'n_estimators': 90,  'max_depth': 7,  'min_samples_split': 3, 'min_samples_leaf': 1, 'max_features': 'sqrt', 'bootstrap': False, 'criterion': 'entropy'},\n",
    "    {'n_estimators': 160, 'max_depth': None, 'min_samples_split': 6, 'min_samples_leaf': 2, 'max_features': 'log2', 'bootstrap': True, 'criterion': 'gini'},\n",
    "    {'n_estimators': 130, 'max_depth': 10, 'min_samples_split': 2, 'min_samples_leaf': 3, 'max_features': 'sqrt', 'bootstrap': True, 'criterion': 'entropy'},\n",
    "    {'n_estimators': 275, 'max_depth': 14, 'min_samples_split': 5, 'min_samples_leaf': 1, 'max_features': 'log2', 'bootstrap': False, 'criterion': 'gini'}\n",
    "]\n",
    "\n",
    "print(\"COMENZANDO A ENTRENAR MODELOS:\")\n",
    "\n",
    "for i, config in enumerate(configuraciones, start=1):\n",
    "\n",
    "    model = RandomForestClassifier(**config)\n",
    "\n",
    "    pipeline = Pipeline(\n",
    "        [ ('preprocesamiento', preprocessor), ('clasificador', model) ]\n",
    "    )\n",
    "\n",
    "    pipeline.fit(X_train, y_train)\n",
    "    y_pred = pipeline.predict(X_test)\n",
    "    y_proba = pipeline.predict_proba(X_test)[:, 1]\n",
    "\n",
    "    # Evaluación\n",
    "    accuracy = accuracy_score(y_test, y_pred)\n",
    "    error_rate = 1 - accuracy\n",
    "    model_type = type(pipeline.named_steps['clasificador']).__name__\n",
    "\n",
    "    timestamp = datetime.now().strftime(\"%Y%m%d_%H%M%S\")\n",
    "    xName = f\"run_{timestamp}\"\n",
    "    config_str = json.dumps(config)  # sin indentación, todo en una sola línea\n",
    "\n",
    "    with mlflow.start_run(run_name=xName):\n",
    "        mlflow.log_param(\"1.Modelo_Usado\", model_type)\n",
    "        mlflow.log_param(\"2.Configuracion\", config_str)\n",
    "        mlflow.log_param(\"3.Transformacion\", \"category_encoders.TargetEncoder\")\n",
    "        mlflow.log_metric(\"1.error_rate\", round(error_rate,5))\n",
    "        mlflow.log_metric(\"2.accuracy\", round(accuracy,5) )\n",
    "        mlflow.sklearn.log_model(model, \"modelo_random_forest\")\n"
   ]
  },
  {
   "cell_type": "code",
   "execution_count": 10,
   "id": "927b822f-eea0-4ebb-b101-5725f36a18a1",
   "metadata": {},
   "outputs": [
    {
     "name": "stdout",
     "output_type": "stream",
     "text": [
      "COMENZANDO A ENTRENAR MODELOS:\n"
     ]
    },
    {
     "name": "stderr",
     "output_type": "stream",
     "text": [
      "\u001b[31m2025/09/06 00:11:48 WARNING mlflow.models.model: Model logged without a signature and input example. Please set `input_example` parameter when logging the model to auto infer the model signature.\u001b[0m\n"
     ]
    },
    {
     "name": "stdout",
     "output_type": "stream",
     "text": [
      "🏃 View run run_20250906_001144 at: http://mlflow.default.svc.cluster.local:5000/#/experiments/0/runs/b6e4c7859e8f41c29f73e59a634ea3ad\n",
      "🧪 View experiment at: http://mlflow.default.svc.cluster.local:5000/#/experiments/0\n"
     ]
    },
    {
     "name": "stderr",
     "output_type": "stream",
     "text": [
      "\u001b[31m2025/09/06 00:11:55 WARNING mlflow.models.model: Model logged without a signature and input example. Please set `input_example` parameter when logging the model to auto infer the model signature.\u001b[0m\n"
     ]
    },
    {
     "name": "stdout",
     "output_type": "stream",
     "text": [
      "🏃 View run run_20250906_001150 at: http://mlflow.default.svc.cluster.local:5000/#/experiments/0/runs/9ada3c9469db47edac2f1423d94faa25\n",
      "🧪 View experiment at: http://mlflow.default.svc.cluster.local:5000/#/experiments/0\n"
     ]
    },
    {
     "name": "stderr",
     "output_type": "stream",
     "text": [
      "/opt/conda/lib/python3.11/site-packages/sklearn/linear_model/_sag.py:348: ConvergenceWarning: The max_iter was reached which means the coef_ did not converge\n",
      "  warnings.warn(\n",
      "\u001b[31m2025/09/06 00:12:03 WARNING mlflow.models.model: Model logged without a signature and input example. Please set `input_example` parameter when logging the model to auto infer the model signature.\u001b[0m\n"
     ]
    },
    {
     "name": "stdout",
     "output_type": "stream",
     "text": [
      "🏃 View run run_20250906_001159 at: http://mlflow.default.svc.cluster.local:5000/#/experiments/0/runs/ef921ce8664c496eb11311730f109ebb\n",
      "🧪 View experiment at: http://mlflow.default.svc.cluster.local:5000/#/experiments/0\n"
     ]
    },
    {
     "name": "stderr",
     "output_type": "stream",
     "text": [
      "/opt/conda/lib/python3.11/site-packages/sklearn/linear_model/_sag.py:348: ConvergenceWarning: The max_iter was reached which means the coef_ did not converge\n",
      "  warnings.warn(\n",
      "\u001b[31m2025/09/06 00:12:14 WARNING mlflow.models.model: Model logged without a signature and input example. Please set `input_example` parameter when logging the model to auto infer the model signature.\u001b[0m\n"
     ]
    },
    {
     "name": "stdout",
     "output_type": "stream",
     "text": [
      "🏃 View run run_20250906_001210 at: http://mlflow.default.svc.cluster.local:5000/#/experiments/0/runs/7f38c580992c4546a68ca9808cc3f653\n",
      "🧪 View experiment at: http://mlflow.default.svc.cluster.local:5000/#/experiments/0\n"
     ]
    },
    {
     "name": "stderr",
     "output_type": "stream",
     "text": [
      "/opt/conda/lib/python3.11/site-packages/scipy/optimize/_linesearch.py:312: LineSearchWarning: The line search algorithm did not converge\n",
      "  alpha_star, phi_star, old_fval, derphi_star = scalar_search_wolfe2(\n",
      "/opt/conda/lib/python3.11/site-packages/sklearn/utils/optimize.py:100: LineSearchWarning: The line search algorithm did not converge\n",
      "  ret = line_search_wolfe2(\n",
      "\u001b[31m2025/09/06 00:12:20 WARNING mlflow.models.model: Model logged without a signature and input example. Please set `input_example` parameter when logging the model to auto infer the model signature.\u001b[0m\n"
     ]
    },
    {
     "name": "stdout",
     "output_type": "stream",
     "text": [
      "🏃 View run run_20250906_001216 at: http://mlflow.default.svc.cluster.local:5000/#/experiments/0/runs/149170aed0d8478c82c8d27e6466e94e\n",
      "🧪 View experiment at: http://mlflow.default.svc.cluster.local:5000/#/experiments/0\n"
     ]
    },
    {
     "name": "stderr",
     "output_type": "stream",
     "text": [
      "\u001b[31m2025/09/06 00:12:26 WARNING mlflow.models.model: Model logged without a signature and input example. Please set `input_example` parameter when logging the model to auto infer the model signature.\u001b[0m\n"
     ]
    },
    {
     "name": "stdout",
     "output_type": "stream",
     "text": [
      "🏃 View run run_20250906_001221 at: http://mlflow.default.svc.cluster.local:5000/#/experiments/0/runs/27ca3af8fda4486e99010bb00c98094a\n",
      "🧪 View experiment at: http://mlflow.default.svc.cluster.local:5000/#/experiments/0\n"
     ]
    },
    {
     "name": "stderr",
     "output_type": "stream",
     "text": [
      "\u001b[31m2025/09/06 00:12:40 WARNING mlflow.models.model: Model logged without a signature and input example. Please set `input_example` parameter when logging the model to auto infer the model signature.\u001b[0m\n"
     ]
    },
    {
     "name": "stdout",
     "output_type": "stream",
     "text": [
      "🏃 View run run_20250906_001236 at: http://mlflow.default.svc.cluster.local:5000/#/experiments/0/runs/0fb28d5d203142c6bef727eee8318b04\n",
      "🧪 View experiment at: http://mlflow.default.svc.cluster.local:5000/#/experiments/0\n"
     ]
    },
    {
     "name": "stderr",
     "output_type": "stream",
     "text": [
      "/opt/conda/lib/python3.11/site-packages/sklearn/linear_model/_sag.py:348: ConvergenceWarning: The max_iter was reached which means the coef_ did not converge\n",
      "  warnings.warn(\n",
      "\u001b[31m2025/09/06 00:12:51 WARNING mlflow.models.model: Model logged without a signature and input example. Please set `input_example` parameter when logging the model to auto infer the model signature.\u001b[0m\n"
     ]
    },
    {
     "name": "stdout",
     "output_type": "stream",
     "text": [
      "🏃 View run run_20250906_001247 at: http://mlflow.default.svc.cluster.local:5000/#/experiments/0/runs/47400f82fea94078a48e75e7fcb2c594\n",
      "🧪 View experiment at: http://mlflow.default.svc.cluster.local:5000/#/experiments/0\n"
     ]
    },
    {
     "name": "stderr",
     "output_type": "stream",
     "text": [
      "/opt/conda/lib/python3.11/site-packages/sklearn/linear_model/_sag.py:348: ConvergenceWarning: The max_iter was reached which means the coef_ did not converge\n",
      "  warnings.warn(\n",
      "\u001b[31m2025/09/06 00:12:59 WARNING mlflow.models.model: Model logged without a signature and input example. Please set `input_example` parameter when logging the model to auto infer the model signature.\u001b[0m\n"
     ]
    },
    {
     "name": "stdout",
     "output_type": "stream",
     "text": [
      "🏃 View run run_20250906_001255 at: http://mlflow.default.svc.cluster.local:5000/#/experiments/0/runs/0ecba0c144334bcf9c730f529a3d34d6\n",
      "🧪 View experiment at: http://mlflow.default.svc.cluster.local:5000/#/experiments/0\n"
     ]
    },
    {
     "name": "stderr",
     "output_type": "stream",
     "text": [
      "\u001b[31m2025/09/06 00:13:06 WARNING mlflow.models.model: Model logged without a signature and input example. Please set `input_example` parameter when logging the model to auto infer the model signature.\u001b[0m\n"
     ]
    },
    {
     "name": "stdout",
     "output_type": "stream",
     "text": [
      "🏃 View run run_20250906_001301 at: http://mlflow.default.svc.cluster.local:5000/#/experiments/0/runs/edc38a5e97874b2e81bacf97f224be39\n",
      "🧪 View experiment at: http://mlflow.default.svc.cluster.local:5000/#/experiments/0\n"
     ]
    },
    {
     "name": "stderr",
     "output_type": "stream",
     "text": [
      "\u001b[31m2025/09/06 00:13:16 WARNING mlflow.models.model: Model logged without a signature and input example. Please set `input_example` parameter when logging the model to auto infer the model signature.\u001b[0m\n"
     ]
    },
    {
     "name": "stdout",
     "output_type": "stream",
     "text": [
      "🏃 View run run_20250906_001311 at: http://mlflow.default.svc.cluster.local:5000/#/experiments/0/runs/52c618e914a644e8a48f7581e36aa46f\n",
      "🧪 View experiment at: http://mlflow.default.svc.cluster.local:5000/#/experiments/0\n"
     ]
    },
    {
     "name": "stderr",
     "output_type": "stream",
     "text": [
      "/opt/conda/lib/python3.11/site-packages/sklearn/linear_model/_sag.py:348: ConvergenceWarning: The max_iter was reached which means the coef_ did not converge\n",
      "  warnings.warn(\n",
      "\u001b[31m2025/09/06 00:13:30 WARNING mlflow.models.model: Model logged without a signature and input example. Please set `input_example` parameter when logging the model to auto infer the model signature.\u001b[0m\n"
     ]
    },
    {
     "name": "stdout",
     "output_type": "stream",
     "text": [
      "🏃 View run run_20250906_001326 at: http://mlflow.default.svc.cluster.local:5000/#/experiments/0/runs/71ef6cf51ec2404994f5804dd4370f17\n",
      "🧪 View experiment at: http://mlflow.default.svc.cluster.local:5000/#/experiments/0\n"
     ]
    },
    {
     "name": "stderr",
     "output_type": "stream",
     "text": [
      "/opt/conda/lib/python3.11/site-packages/scipy/optimize/_linesearch.py:312: LineSearchWarning: The line search algorithm did not converge\n",
      "  alpha_star, phi_star, old_fval, derphi_star = scalar_search_wolfe2(\n",
      "/opt/conda/lib/python3.11/site-packages/sklearn/utils/optimize.py:100: LineSearchWarning: The line search algorithm did not converge\n",
      "  ret = line_search_wolfe2(\n",
      "\u001b[31m2025/09/06 00:13:35 WARNING mlflow.models.model: Model logged without a signature and input example. Please set `input_example` parameter when logging the model to auto infer the model signature.\u001b[0m\n"
     ]
    },
    {
     "name": "stdout",
     "output_type": "stream",
     "text": [
      "🏃 View run run_20250906_001331 at: http://mlflow.default.svc.cluster.local:5000/#/experiments/0/runs/8c9681f52421454db15e0655081f7d1e\n",
      "🧪 View experiment at: http://mlflow.default.svc.cluster.local:5000/#/experiments/0\n"
     ]
    },
    {
     "name": "stderr",
     "output_type": "stream",
     "text": [
      "\u001b[31m2025/09/06 00:13:42 WARNING mlflow.models.model: Model logged without a signature and input example. Please set `input_example` parameter when logging the model to auto infer the model signature.\u001b[0m\n"
     ]
    },
    {
     "name": "stdout",
     "output_type": "stream",
     "text": [
      "🏃 View run run_20250906_001337 at: http://mlflow.default.svc.cluster.local:5000/#/experiments/0/runs/556dbd6afd254ff1b6cc00e10fbc8fa3\n",
      "🧪 View experiment at: http://mlflow.default.svc.cluster.local:5000/#/experiments/0\n"
     ]
    },
    {
     "name": "stderr",
     "output_type": "stream",
     "text": [
      "/opt/conda/lib/python3.11/site-packages/sklearn/linear_model/_sag.py:348: ConvergenceWarning: The max_iter was reached which means the coef_ did not converge\n",
      "  warnings.warn(\n",
      "\u001b[31m2025/09/06 00:13:51 WARNING mlflow.models.model: Model logged without a signature and input example. Please set `input_example` parameter when logging the model to auto infer the model signature.\u001b[0m\n"
     ]
    },
    {
     "name": "stdout",
     "output_type": "stream",
     "text": [
      "🏃 View run run_20250906_001347 at: http://mlflow.default.svc.cluster.local:5000/#/experiments/0/runs/1debeb6193304bc2b0ea185e7db6e593\n",
      "🧪 View experiment at: http://mlflow.default.svc.cluster.local:5000/#/experiments/0\n"
     ]
    }
   ],
   "source": [
    "from sklearn.linear_model import LogisticRegression\n",
    "from sklearn.metrics import accuracy_score\n",
    "import mlflow\n",
    "from datetime import datetime\n",
    "import json\n",
    "\n",
    "configuraciones = [\n",
    "    {'penalty': 'l2', 'C': 1.0, 'solver': 'lbfgs', 'max_iter': 1000, 'fit_intercept': True},\n",
    "    {'penalty': 'l1', 'C': 0.5, 'solver': 'liblinear', 'max_iter': 500, 'fit_intercept': True},\n",
    "    {'penalty': 'l2', 'C': 0.1, 'solver': 'sag', 'max_iter': 1000, 'fit_intercept': False},\n",
    "    {'penalty': 'elasticnet', 'C': 1.0, 'solver': 'saga', 'l1_ratio': 0.5, 'max_iter': 1000},\n",
    "    {'penalty': 'l2', 'C': 2.0, 'solver': 'newton-cg', 'max_iter': 1500, 'fit_intercept': True},\n",
    "    {'penalty': 'l1', 'C': 0.8, 'solver': 'liblinear', 'max_iter': 800, 'class_weight': 'balanced'},\n",
    "    {'penalty': 'l2', 'C': 0.3, 'solver': 'lbfgs', 'max_iter': 1200, 'warm_start': True},\n",
    "    {'penalty': 'elasticnet', 'C': 0.7, 'solver': 'saga', 'l1_ratio': 0.3, 'max_iter': 1000},\n",
    "    {'penalty': 'l2', 'C': 1.5, 'solver': 'sag', 'max_iter': 900, 'n_jobs': -1},\n",
    "    {'penalty': 'l1', 'C': 0.2, 'solver': 'liblinear', 'max_iter': 600, 'intercept_scaling': 2},\n",
    "    {'penalty': 'l2', 'C': 0.05, 'solver': 'lbfgs', 'max_iter': 2000, 'class_weight': None},\n",
    "    {'penalty': 'elasticnet', 'C': 1.2, 'solver': 'saga', 'l1_ratio': 0.7, 'max_iter': 1500},\n",
    "    {'penalty': 'l2', 'C': 0.9, 'solver': 'newton-cg', 'max_iter': 1000, 'fit_intercept': False},\n",
    "    {'penalty': 'l1', 'C': 1.0, 'solver': 'liblinear', 'max_iter': 1000, 'dual': False},\n",
    "    {'penalty': 'l2', 'C': 0.6, 'solver': 'saga', 'max_iter': 1100, 'class_weight': 'balanced'}\n",
    "]\n",
    "\n",
    "print(\"COMENZANDO A ENTRENAR MODELOS:\")\n",
    "\n",
    "for i, config in enumerate(configuraciones, start=1):\n",
    "\n",
    "    model = LogisticRegression(**config)\n",
    "\n",
    "    pipeline = Pipeline(\n",
    "        [ ('preprocesamiento', preprocessor), ('clasificador', model) ]\n",
    "    )\n",
    "\n",
    "    pipeline.fit(X_train, y_train)\n",
    "    y_pred = pipeline.predict(X_test)\n",
    "    y_proba = pipeline.predict_proba(X_test)[:, 1]\n",
    "\n",
    "    # Evaluación\n",
    "    accuracy = accuracy_score(y_test, y_pred)\n",
    "    error_rate = 1 - accuracy\n",
    "    model_type = type(pipeline.named_steps['clasificador']).__name__\n",
    "\n",
    "    timestamp = datetime.now().strftime(\"%Y%m%d_%H%M%S\")\n",
    "    xName = f\"run_{timestamp}\"\n",
    "    config_str = json.dumps(config)  # sin indentación, todo en una sola línea\n",
    "\n",
    "    with mlflow.start_run(run_name=xName):\n",
    "        mlflow.log_param(\"1.Modelo_Usado\", model_type)\n",
    "        mlflow.log_param(\"2.Configuracion\", config_str)\n",
    "        mlflow.log_param(\"3.Transformacion\", \"category_encoders.TargetEncoder\")\n",
    "        mlflow.log_metric(\"1.error_rate\", round(error_rate,5))\n",
    "        mlflow.log_metric(\"2.accuracy\", round(accuracy,5) )\n",
    "        mlflow.sklearn.log_model(model, \"modelo_random_forest\")\n"
   ]
  },
  {
   "cell_type": "code",
   "execution_count": null,
   "id": "e1a5e398-48c5-41e8-9efb-eb29a8c92f1e",
   "metadata": {},
   "outputs": [],
   "source": []
  }
 ],
 "metadata": {
  "kernelspec": {
   "display_name": "Python 3 (ipykernel)",
   "language": "python",
   "name": "python3"
  },
  "language_info": {
   "codemirror_mode": {
    "name": "ipython",
    "version": 3
   },
   "file_extension": ".py",
   "mimetype": "text/x-python",
   "name": "python",
   "nbconvert_exporter": "python",
   "pygments_lexer": "ipython3",
   "version": "3.12.8"
  }
 },
 "nbformat": 4,
 "nbformat_minor": 5
}
