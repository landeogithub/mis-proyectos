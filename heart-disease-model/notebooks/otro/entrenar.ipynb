{
 "cells": [
  {
   "cell_type": "code",
   "execution_count": null,
   "id": "6a6cab47-bace-4431-ab8d-eb501959c682",
   "metadata": {},
   "outputs": [],
   "source": [
    "from ml_model import ModelRunner\n",
    "import pandas as pd"
   ]
  },
  {
   "cell_type": "code",
   "execution_count": null,
   "id": "8467b6b3-cf74-4779-aa73-450deceb2d75",
   "metadata": {},
   "outputs": [],
   "source": [
    "xDataSet = pd.read_parquet('../data/processed/DataSet.parquet')\n",
    "\n",
    "# Crear el runner\n",
    "runner = ModelRunner(\n",
    "    dataset=xDataSet,                  # tu DataFrame\n",
    "    target_column=\"target\",          # la columna objetivo\n",
    "    mlflow_url=\"http://127.0.0.1:8080\",  # tu tracking server\n",
    "    experiment_name=\"heart_attack\"\n",
    ")\n",
    "\n",
    "# Ejecutar los entrenamientos\n",
    "runner.run()"
   ]
  }
 ],
 "metadata": {
  "kernelspec": {
   "display_name": "Python 3 (ipykernel)",
   "language": "python",
   "name": "python3"
  },
  "language_info": {
   "codemirror_mode": {
    "name": "ipython",
    "version": 3
   },
   "file_extension": ".py",
   "mimetype": "text/x-python",
   "name": "python",
   "nbconvert_exporter": "python",
   "pygments_lexer": "ipython3",
   "version": "3.12.8"
  }
 },
 "nbformat": 4,
 "nbformat_minor": 5
}
