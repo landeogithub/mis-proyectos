{
 "cells": [
  {
   "cell_type": "markdown",
   "id": "aecd05b2-2169-4664-a118-a33d8734322c",
   "metadata": {},
   "source": [
    "<div style=\"background-color:AliceBlue; padding:10px; border-left:5px solid #2e8b57; margin-bottom:10px;\">\n",
    "  <h4 style=\"font-size:13px;\">✅ <strong>Importando Librerias</strong></h4>\n",
    "</div>"
   ]
  },
  {
   "cell_type": "code",
   "execution_count": 1,
   "id": "8b70bdae-c712-4bf6-a881-3bd6bcb2a68b",
   "metadata": {},
   "outputs": [],
   "source": [
    "import pandas as pd"
   ]
  },
  {
   "cell_type": "markdown",
   "id": "93044977-4d4c-40fc-b953-7e79d1db006e",
   "metadata": {},
   "source": [
    "<div style=\"background-color:AliceBlue; padding:10px; border-left:5px solid #2e8b57; margin-bottom:10px;\">\n",
    "  <h4 style=\"font-size:13px;\">✅ <strong>Importando DataSet</strong></h4>\n",
    "</div>"
   ]
  },
  {
   "cell_type": "code",
   "execution_count": 2,
   "id": "26cf9b62-e9d3-4ef7-97a0-ea6570c381b6",
   "metadata": {},
   "outputs": [
    {
     "name": "stdout",
     "output_type": "stream",
     "text": [
      "✅ Importacion DataSet.\n",
      "✅ Renombrar Variables.\n",
      "✅ Solo DocuTrans de la Aduana IAMC.\n",
      "\n"
     ]
    }
   ],
   "source": [
    "try:\n",
    "    df = pd.read_csv(\n",
    "        \"../data/raw/Dataset_CARGA.csv\",\n",
    "        sep = \",\",\n",
    "        encoding = \"utf_8\", \n",
    "        dtype = {\n",
    "            'COD_ADUANA': str, 'INCI_ACTA': int, 'NUM_EMPR_TRANS': str, 'COD_LUGAR_DESCARGA': str,\n",
    "            'COD_TIPMEDIOTRANSP': str, 'COD_ENTI_MATRICULA': str, 'COD_TIP_DOCUM': str, 'CNT_PESO_BRUTO': float, 'CNT_BULTO': float,\n",
    "            'CNT_VOLUMEN': float, 'CNT_CONTAINER': float, 'COD_PUER_DESTINO': str, 'COD_NATUCARGA': str, 'tpoemp_consignatario': str,\n",
    "            'tamano_consignatario': str, 'identi_consignatario': str, 'RATIO_PESO_BULTO': float, 'SEGMENTO': str\n",
    "        },\n",
    "        usecols = [\n",
    "            'COD_ADUANA', 'INCI_ACTA', 'NUM_EMPR_TRANS', 'COD_LUGAR_DESCARGA', 'COD_TIPMEDIOTRANSP', 'COD_ENTI_MATRICULA',\n",
    "            'COD_TIP_DOCUM', 'CNT_PESO_BRUTO', 'CNT_BULTO', 'CNT_VOLUMEN', 'CNT_CONTAINER', 'COD_PUER_DESTINO', 'COD_NATUCARGA',\n",
    "            'tpoemp_consignatario', 'tamano_consignatario', 'identi_consignatario', 'RATIO_PESO_BULTO', 'SEGMENTO'\n",
    "        ]\n",
    "    )\n",
    "    print(\"✅ Importacion DataSet.\")\n",
    "\n",
    "    df = df.rename(columns={\n",
    "        \"NUM_EMPR_TRANS\":       \"num_empr_trans\",      \"COD_LUGAR_DESCARGA\":   \"cod_lugar_descarga\",\n",
    "        \"COD_TIPMEDIOTRANSP\":   \"tipdocempdoctra\",     \"COD_ENTI_MATRICULA\":   \"cod_enti_matricula\",\n",
    "        \"COD_TIP_DOCUM\":        \"cod_tip_docu_c0008\",  \"CNT_PESO_BRUTO\":       \"cnt_pes_brut_c0008\",\n",
    "        \"CNT_BULTO\":            \"cnt_bulto_c0008\",     \"CNT_VOLUMEN\":          \"cnt_volumen_c0008\",\n",
    "        \"CNT_CONTAINER\":        \"cnt_container\",       \"COD_PUER_DESTINO\":     \"cod_puer_des_c0008\",\n",
    "        \"COD_NATUCARGA\":        \"cod_natucarga\",       \"tpoemp_consignatario\": \"tpoemp_partic_cn\",\n",
    "        \"tamano_consignatario\": \"tamano_partic_cn\",    \"identi_consignatario\": \"identi_partic_cn\",\n",
    "        \"RATIO_PESO_BULTO\":     \"rat_pes_bult_c0008\",  \"SEGMENTO\":             \"segmento_partic_cn\",\n",
    "        \"INCI_ACTA\":            \"target\"\n",
    "    })\n",
    "    print(\"✅ Renombrar Variables.\")\n",
    "\n",
    "    df = df[df['COD_ADUANA']=='118'] #118 (maritima), 235 (aerea)\n",
    "    df = df.drop(['COD_ADUANA'],axis=1)\n",
    "    print(\"✅ Solo DocuTrans de la Aduana IAMC.\\n\")\n",
    "    \n",
    "    #df.info()\n",
    "\n",
    "except Exception as e:\n",
    "    print(f\"❌ Se produjo el siguiente error → {e}\")"
   ]
  },
  {
   "cell_type": "markdown",
   "id": "3880e6ea-9efe-4705-8344-b5a6f76ff193",
   "metadata": {},
   "source": [
    "<div style=\"background-color:AliceBlue; padding:10px; border-left:5px solid #2e8b57; margin-bottom:10px;\">\n",
    "  <h4 style=\"font-size:13px;\">✅ <strong>Analizando Variables Perdidas</strong></h4>\n",
    "</div>"
   ]
  },
  {
   "cell_type": "code",
   "execution_count": 3,
   "id": "ca4d5b26-30cd-4424-82df-6870d3e60754",
   "metadata": {},
   "outputs": [
    {
     "data": {
      "text/plain": [
       "target                0.000000\n",
       "num_empr_trans        0.000000\n",
       "cod_lugar_descarga    0.000000\n",
       "tipdocempdoctra       0.000000\n",
       "cod_enti_matricula    1.259730\n",
       "cod_tip_docu_c0008    0.000000\n",
       "cnt_pes_brut_c0008    0.000000\n",
       "cnt_bulto_c0008       0.000000\n",
       "cnt_volumen_c0008     0.000000\n",
       "cnt_container         0.000000\n",
       "cod_puer_des_c0008    0.000000\n",
       "cod_natucarga         0.000000\n",
       "tpoemp_partic_cn      4.813601\n",
       "tamano_partic_cn      4.813601\n",
       "identi_partic_cn      4.813601\n",
       "rat_pes_bult_c0008    0.000000\n",
       "segmento_partic_cn    0.000000\n",
       "dtype: float64"
      ]
     },
     "execution_count": 3,
     "metadata": {},
     "output_type": "execute_result"
    }
   ],
   "source": [
    "(df.isnull().sum() / len(df))*100"
   ]
  },
  {
   "cell_type": "code",
   "execution_count": 4,
   "id": "03e30525-90ec-429b-938b-a875dbc10982",
   "metadata": {},
   "outputs": [],
   "source": [
    "df['cod_enti_matricula'] = df['cod_enti_matricula'].fillna(' ')\n",
    "df['tpoemp_partic_cn'] = df['tpoemp_partic_cn'].fillna(' ')\n",
    "df['tamano_partic_cn'] = df['tamano_partic_cn'].fillna(' ')\n",
    "df['identi_partic_cn'] = df['identi_partic_cn'].fillna(' ')"
   ]
  },
  {
   "cell_type": "code",
   "execution_count": 5,
   "id": "d63fb7df-cebe-4bd7-a842-32474bbada07",
   "metadata": {},
   "outputs": [
    {
     "data": {
      "text/plain": [
       "target                0.0\n",
       "num_empr_trans        0.0\n",
       "cod_lugar_descarga    0.0\n",
       "tipdocempdoctra       0.0\n",
       "cod_enti_matricula    0.0\n",
       "cod_tip_docu_c0008    0.0\n",
       "cnt_pes_brut_c0008    0.0\n",
       "cnt_bulto_c0008       0.0\n",
       "cnt_volumen_c0008     0.0\n",
       "cnt_container         0.0\n",
       "cod_puer_des_c0008    0.0\n",
       "cod_natucarga         0.0\n",
       "tpoemp_partic_cn      0.0\n",
       "tamano_partic_cn      0.0\n",
       "identi_partic_cn      0.0\n",
       "rat_pes_bult_c0008    0.0\n",
       "segmento_partic_cn    0.0\n",
       "dtype: float64"
      ]
     },
     "execution_count": 5,
     "metadata": {},
     "output_type": "execute_result"
    }
   ],
   "source": [
    "(df.isnull().sum() / len(df))*100"
   ]
  },
  {
   "cell_type": "markdown",
   "id": "82833836-05a8-478a-af9b-1e3933ed2105",
   "metadata": {},
   "source": [
    "<div style=\"background-color:AliceBlue; padding:10px; border-left:5px solid #2e8b57; margin-bottom:10px;\">\n",
    "  <h4 style=\"font-size:13px;\">✅ <strong>Obteniendo un Datos para Probar el Modelo</strong></h4>\n",
    "</div>"
   ]
  },
  {
   "cell_type": "code",
   "execution_count": 6,
   "id": "aa9d5367-ca69-4411-8528-671b0f5a4b57",
   "metadata": {},
   "outputs": [],
   "source": [
    "test_1 = df[df['target'] == 1].sample(n=4)\n",
    "test_2 = df[df['target'] == 0].sample(n=8)\n",
    "\n",
    "test = pd.concat([test_1, test_2], ignore_index=True)\n",
    "test\n",
    "\n",
    "test.to_parquet('../data/processed/subset_data.parquet')"
   ]
  },
  {
   "cell_type": "code",
   "execution_count": 7,
   "id": "b76be697-a5af-4006-8b8e-d0403f6b6b6f",
   "metadata": {},
   "outputs": [
    {
     "data": {
      "text/plain": [
       "target\n",
       "0    6557\n",
       "1    3207\n",
       "Name: count, dtype: int64"
      ]
     },
     "execution_count": 7,
     "metadata": {},
     "output_type": "execute_result"
    }
   ],
   "source": [
    "df['target'].value_counts()"
   ]
  },
  {
   "cell_type": "markdown",
   "id": "0e01660b-30c4-4d3e-9b11-c10834ea582d",
   "metadata": {},
   "source": [
    "<div style=\"background-color:AliceBlue; padding:10px; border-left:5px solid #2e8b57; margin-bottom:10px;\">\n",
    "  <h4 style=\"font-size:13px;\">✅ <strong>Verificando si el DataSet necesita balancear</strong></h4>\n",
    "</div>"
   ]
  },
  {
   "cell_type": "code",
   "execution_count": 8,
   "id": "0c68eafb-0b5b-4f90-8d34-02ea90d14616",
   "metadata": {},
   "outputs": [
    {
     "name": "stdout",
     "output_type": "stream",
     "text": [
      "✅ Cantidad de Documentos de Transporte para IAMC: 9764\n",
      "\n",
      "✅ Cantidad de Documentos de Transporte para IAMC segun Incidencia:\n"
     ]
    },
    {
     "data": {
      "text/plain": [
       "target\n",
       "0    6557\n",
       "1    3207\n",
       "Name: count, dtype: int64"
      ]
     },
     "execution_count": 8,
     "metadata": {},
     "output_type": "execute_result"
    }
   ],
   "source": [
    "print(f\"✅ Cantidad de Documentos de Transporte para IAMC: {len(df)}\")\n",
    "\n",
    "print(\"\\n✅ Cantidad de Documentos de Transporte para IAMC segun Incidencia:\")\n",
    "df['target'].value_counts()"
   ]
  },
  {
   "cell_type": "markdown",
   "id": "3d5b38e2-8e9c-4668-a778-df03bd9b937a",
   "metadata": {},
   "source": [
    "<div style=\"background-color:AliceBlue; padding:10px; border-left:5px solid #2e8b57; margin-bottom:10px;\">\n",
    "  <h4 style=\"font-size:13px;\">✅ <strong>Balanceando el DataSet</strong></h4>\n",
    "</div>"
   ]
  },
  {
   "cell_type": "code",
   "execution_count": 9,
   "id": "82f19e97-e6d6-4d7b-a2b9-dfade6d40836",
   "metadata": {},
   "outputs": [
    {
     "name": "stdout",
     "output_type": "stream",
     "text": [
      "\n",
      "✅ Cantidad de Documentos de Transporte para IAMC segun Incidencia Balanceadas:\n"
     ]
    },
    {
     "data": {
      "text/plain": [
       "target\n",
       "1    6557\n",
       "0    6557\n",
       "Name: count, dtype: int64"
      ]
     },
     "execution_count": 9,
     "metadata": {},
     "output_type": "execute_result"
    }
   ],
   "source": [
    "from imblearn.over_sampling import RandomOverSampler\n",
    "\n",
    "# Separar variables predictoras y objetivo\n",
    "X = df.drop('target', axis=1)\n",
    "y = df['target']\n",
    "\n",
    "# Aplicar RandomOverSampler para balancear\n",
    "ros = RandomOverSampler()\n",
    "X_resampled, y_resampled = ros.fit_resample(X, y)\n",
    "\n",
    "# Convertir a DataFrame nuevamente\n",
    "df_balan = pd.concat([X_resampled, y_resampled], axis=1)\n",
    "\n",
    "print(\"\\n✅ Cantidad de Documentos de Transporte para IAMC segun Incidencia Balanceadas:\")\n",
    "df_balan['target'].value_counts()"
   ]
  },
  {
   "cell_type": "markdown",
   "id": "fccd8720-12a0-4e9f-ab0c-1d7024f4360f",
   "metadata": {},
   "source": [
    "<div style=\"background-color:AliceBlue; padding:10px; border-left:5px solid #2e8b57; margin-bottom:10px;\">\n",
    "  <h4 style=\"font-size:13px;\">✅ <strong>Guardando DataSet Balanceado como Parquet</strong></h4>\n",
    "</div>"
   ]
  },
  {
   "cell_type": "code",
   "execution_count": 10,
   "id": "3f69ddef-fca7-49e4-b7c6-f97ce5aad601",
   "metadata": {},
   "outputs": [],
   "source": [
    "df_balan.to_parquet('../data/processed/docutrans_iamc.parquet')"
   ]
  }
 ],
 "metadata": {
  "kernelspec": {
   "display_name": "Python 3 (ipykernel)",
   "language": "python",
   "name": "python3"
  },
  "language_info": {
   "codemirror_mode": {
    "name": "ipython",
    "version": 3
   },
   "file_extension": ".py",
   "mimetype": "text/x-python",
   "name": "python",
   "nbconvert_exporter": "python",
   "pygments_lexer": "ipython3",
   "version": "3.11.6"
  }
 },
 "nbformat": 4,
 "nbformat_minor": 5
}
